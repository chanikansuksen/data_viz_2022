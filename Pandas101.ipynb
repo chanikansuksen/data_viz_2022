{
  "nbformat": 4,
  "nbformat_minor": 0,
  "metadata": {
    "colab": {
      "name": "Pandas101.ipynb",
      "provenance": [],
      "include_colab_link": true
    },
    "kernelspec": {
      "name": "python3",
      "display_name": "Python 3"
    }
  },
  "cells": [
    {
      "cell_type": "markdown",
      "metadata": {
        "id": "view-in-github",
        "colab_type": "text"
      },
      "source": [
        "<a href=\"https://colab.research.google.com/github/chanikansuksen/data_viz_2022/blob/main/Pandas101.ipynb\" target=\"_parent\"><img src=\"https://colab.research.google.com/assets/colab-badge.svg\" alt=\"Open In Colab\"/></a>"
      ]
    },
    {
      "cell_type": "code",
      "metadata": {
        "id": "-db5CJRNlwyL"
      },
      "source": [
        "import pandas as pd  # เรียกใช้คำว่า pd แทน pandas ได้"
      ],
      "execution_count": 1,
      "outputs": []
    },
    {
      "cell_type": "markdown",
      "source": [
        ".CSV = Comma Seperatated Value ใช้ comma ในการแยกข้อมูลแต่ละค่า"
      ],
      "metadata": {
        "id": "92dGYGSAK8lf"
      }
    },
    {
      "cell_type": "markdown",
      "source": [
        "data.go.th"
      ],
      "metadata": {
        "id": "mn6U-hKcNiVb"
      }
    },
    {
      "cell_type": "code",
      "metadata": {
        "colab": {
          "base_uri": "https://localhost:8080/"
        },
        "id": "RwYRFJocm086",
        "outputId": "1c08212e-b067-48d7-c2e9-15ad1bd37e0f"
      },
      "source": [
        "from google.colab import drive  # pandas ใช้จัดการไฟล์ต่าง ๆ ที่เป็นตาราง เช่น excel .csv\n",
        "drive.mount('/content/drive') # ถ้าไฟล์ใน gg drive ไม่หาย ก็จะยังสามารถรันข้อมูลได้"
      ],
      "execution_count": 2,
      "outputs": [
        {
          "output_type": "stream",
          "name": "stdout",
          "text": [
            "Mounted at /content/drive\n"
          ]
        }
      ]
    },
    {
      "cell_type": "code",
      "source": [
        "import os # os จัดการกับไฟล์ต่าง ๆ ว่าอยู่โฟลเดอร์ไหน"
      ],
      "metadata": {
        "id": "7yOW6cIOOV--"
      },
      "execution_count": 3,
      "outputs": []
    },
    {
      "cell_type": "code",
      "metadata": {
        "id": "8aVuLimaokIK"
      },
      "source": [
        "path = '/content/drive/My Drive/dataviz_2021_data'  # ชี้ว่า โฟลเดอร์อยู่ตรงไหน"
      ],
      "execution_count": 4,
      "outputs": []
    },
    {
      "cell_type": "code",
      "metadata": {
        "colab": {
          "base_uri": "https://localhost:8080/"
        },
        "id": "bJMZpuMsrLG1",
        "outputId": "1d726496-8e8c-485c-e413-3c09470e7cee"
      },
      "source": [
        "covid_file_path = os.path.join(path,'pm-20-jan-2021.csv')  \n",
        "print(covid_file_path)  "
      ],
      "execution_count": 5,
      "outputs": [
        {
          "output_type": "stream",
          "name": "stdout",
          "text": [
            "/content/drive/My Drive/dataviz_2021_data/pm-20-jan-2021.csv\n"
          ]
        }
      ]
    },
    {
      "cell_type": "code",
      "metadata": {
        "colab": {
          "base_uri": "https://localhost:8080/"
        },
        "id": "k1NDGhW8rjb6",
        "outputId": "26082a31-dbb6-4fc6-c112-42cecd8a097b"
      },
      "source": [
        "a = path + '/pm-18-jan-2021.csv' \n",
        "print(a)"
      ],
      "execution_count": 6,
      "outputs": [
        {
          "output_type": "stream",
          "name": "stdout",
          "text": [
            "/content/drive/My Drive/dataviz_2021_data/pm-18-jan-2021.csv\n"
          ]
        }
      ]
    },
    {
      "cell_type": "markdown",
      "metadata": {
        "id": "l3oehUans3Vr"
      },
      "source": [
        "## load data to memory"
      ]
    },
    {
      "cell_type": "code",
      "metadata": {
        "colab": {
          "base_uri": "https://localhost:8080/",
          "height": 468
        },
        "id": "lxKqSaR3sScc",
        "outputId": "2d98e979-7160-4021-ebe7-c808a12a192b"
      },
      "source": [
        "data_covid = pd.read_csv(covid_file_path)  \n",
        "data_covid "
      ],
      "execution_count": 7,
      "outputs": [
        {
          "output_type": "execute_result",
          "data": {
            "text/html": [
              "\n",
              "  <div id=\"df-55b2dfd8-fc9d-47fe-b454-aa526091e5d4\">\n",
              "    <div class=\"colab-df-container\">\n",
              "      <div>\n",
              "<style scoped>\n",
              "    .dataframe tbody tr th:only-of-type {\n",
              "        vertical-align: middle;\n",
              "    }\n",
              "\n",
              "    .dataframe tbody tr th {\n",
              "        vertical-align: top;\n",
              "    }\n",
              "\n",
              "    .dataframe thead th {\n",
              "        text-align: right;\n",
              "    }\n",
              "</style>\n",
              "<table border=\"1\" class=\"dataframe\">\n",
              "  <thead>\n",
              "    <tr style=\"text-align: right;\">\n",
              "      <th></th>\n",
              "      <th>No.</th>\n",
              "      <th>announce_date</th>\n",
              "      <th>notification_date</th>\n",
              "      <th>sex</th>\n",
              "      <th>age</th>\n",
              "      <th>nationality</th>\n",
              "      <th>province_of_isolation</th>\n",
              "      <th>province_of_onset</th>\n",
              "      <th>district_of_onset</th>\n",
              "      <th>risk</th>\n",
              "    </tr>\n",
              "  </thead>\n",
              "  <tbody>\n",
              "    <tr>\n",
              "      <th>0</th>\n",
              "      <td>1</td>\n",
              "      <td>1/12/2020</td>\n",
              "      <td>NaN</td>\n",
              "      <td>หญิง</td>\n",
              "      <td>61.0</td>\n",
              "      <td>China</td>\n",
              "      <td>กรุงเทพมหานคร</td>\n",
              "      <td>กรุงเทพมหานคร</td>\n",
              "      <td>NaN</td>\n",
              "      <td>คนต่างชาติเดินทางมาจากต่างประเทศ</td>\n",
              "    </tr>\n",
              "    <tr>\n",
              "      <th>1</th>\n",
              "      <td>2</td>\n",
              "      <td>1/17/2020</td>\n",
              "      <td>NaN</td>\n",
              "      <td>หญิง</td>\n",
              "      <td>74.0</td>\n",
              "      <td>China</td>\n",
              "      <td>กรุงเทพมหานคร</td>\n",
              "      <td>กรุงเทพมหานคร</td>\n",
              "      <td>NaN</td>\n",
              "      <td>คนต่างชาติเดินทางมาจากต่างประเทศ</td>\n",
              "    </tr>\n",
              "    <tr>\n",
              "      <th>2</th>\n",
              "      <td>3</td>\n",
              "      <td>1/22/2020</td>\n",
              "      <td>NaN</td>\n",
              "      <td>หญิง</td>\n",
              "      <td>73.0</td>\n",
              "      <td>Thailand</td>\n",
              "      <td>นครปฐม</td>\n",
              "      <td>นครปฐม</td>\n",
              "      <td>เมือง</td>\n",
              "      <td>คนต่างชาติเดินทางมาจากต่างประเทศ</td>\n",
              "    </tr>\n",
              "    <tr>\n",
              "      <th>3</th>\n",
              "      <td>4</td>\n",
              "      <td>1/22/2020</td>\n",
              "      <td>NaN</td>\n",
              "      <td>ชาย</td>\n",
              "      <td>68.0</td>\n",
              "      <td>China</td>\n",
              "      <td>กรุงเทพมหานคร</td>\n",
              "      <td>กรุงเทพมหานคร</td>\n",
              "      <td>NaN</td>\n",
              "      <td>คนต่างชาติเดินทางมาจากต่างประเทศ</td>\n",
              "    </tr>\n",
              "    <tr>\n",
              "      <th>4</th>\n",
              "      <td>5</td>\n",
              "      <td>1/24/2020</td>\n",
              "      <td>NaN</td>\n",
              "      <td>หญิง</td>\n",
              "      <td>66.0</td>\n",
              "      <td>China</td>\n",
              "      <td>นนทบุรี</td>\n",
              "      <td>กรุงเทพมหานคร</td>\n",
              "      <td>NaN</td>\n",
              "      <td>คนต่างชาติเดินทางมาจากต่างประเทศ</td>\n",
              "    </tr>\n",
              "    <tr>\n",
              "      <th>...</th>\n",
              "      <td>...</td>\n",
              "      <td>...</td>\n",
              "      <td>...</td>\n",
              "      <td>...</td>\n",
              "      <td>...</td>\n",
              "      <td>...</td>\n",
              "      <td>...</td>\n",
              "      <td>...</td>\n",
              "      <td>...</td>\n",
              "      <td>...</td>\n",
              "    </tr>\n",
              "    <tr>\n",
              "      <th>12648</th>\n",
              "      <td>12649</td>\n",
              "      <td>1/20/2021</td>\n",
              "      <td>1/19/2021</td>\n",
              "      <td>หญิง</td>\n",
              "      <td>44.0</td>\n",
              "      <td>Thailand</td>\n",
              "      <td>ชลบุรี</td>\n",
              "      <td>ชลบุรี</td>\n",
              "      <td>บางละมุง</td>\n",
              "      <td>State Quarantine</td>\n",
              "    </tr>\n",
              "    <tr>\n",
              "      <th>12649</th>\n",
              "      <td>12650</td>\n",
              "      <td>1/20/2021</td>\n",
              "      <td>1/19/2021</td>\n",
              "      <td>หญิง</td>\n",
              "      <td>52.0</td>\n",
              "      <td>Thailand</td>\n",
              "      <td>ระยอง</td>\n",
              "      <td>ระยอง</td>\n",
              "      <td>แกลง</td>\n",
              "      <td>สัมผัสใกล้ชิดกับผู้ป่วยยืนยันรายก่อนหน้านี้</td>\n",
              "    </tr>\n",
              "    <tr>\n",
              "      <th>12650</th>\n",
              "      <td>12651</td>\n",
              "      <td>1/20/2021</td>\n",
              "      <td>1/19/2021</td>\n",
              "      <td>หญิง</td>\n",
              "      <td>23.0</td>\n",
              "      <td>Thailand</td>\n",
              "      <td>ระยอง</td>\n",
              "      <td>ระยอง</td>\n",
              "      <td>นิคมพัฒนา</td>\n",
              "      <td>สัมผัสใกล้ชิดกับผู้ป่วยยืนยันรายก่อนหน้านี้</td>\n",
              "    </tr>\n",
              "    <tr>\n",
              "      <th>12651</th>\n",
              "      <td>12652</td>\n",
              "      <td>1/20/2021</td>\n",
              "      <td>1/19/2021</td>\n",
              "      <td>หญิง</td>\n",
              "      <td>29.0</td>\n",
              "      <td>Thailand</td>\n",
              "      <td>ระยอง</td>\n",
              "      <td>ระยอง</td>\n",
              "      <td>เมือง</td>\n",
              "      <td>Cluster ระยอง</td>\n",
              "    </tr>\n",
              "    <tr>\n",
              "      <th>12652</th>\n",
              "      <td>12653</td>\n",
              "      <td>1/20/2021</td>\n",
              "      <td>1/19/2021</td>\n",
              "      <td>หญิง</td>\n",
              "      <td>22.0</td>\n",
              "      <td>Burma</td>\n",
              "      <td>ตาก</td>\n",
              "      <td>ตาก</td>\n",
              "      <td>แม่สอด</td>\n",
              "      <td>สัมผัสใกล้ชิดกับผู้ป่วยยืนยันรายก่อนหน้านี้</td>\n",
              "    </tr>\n",
              "  </tbody>\n",
              "</table>\n",
              "<p>12653 rows × 10 columns</p>\n",
              "</div>\n",
              "      <button class=\"colab-df-convert\" onclick=\"convertToInteractive('df-55b2dfd8-fc9d-47fe-b454-aa526091e5d4')\"\n",
              "              title=\"Convert this dataframe to an interactive table.\"\n",
              "              style=\"display:none;\">\n",
              "        \n",
              "  <svg xmlns=\"http://www.w3.org/2000/svg\" height=\"24px\"viewBox=\"0 0 24 24\"\n",
              "       width=\"24px\">\n",
              "    <path d=\"M0 0h24v24H0V0z\" fill=\"none\"/>\n",
              "    <path d=\"M18.56 5.44l.94 2.06.94-2.06 2.06-.94-2.06-.94-.94-2.06-.94 2.06-2.06.94zm-11 1L8.5 8.5l.94-2.06 2.06-.94-2.06-.94L8.5 2.5l-.94 2.06-2.06.94zm10 10l.94 2.06.94-2.06 2.06-.94-2.06-.94-.94-2.06-.94 2.06-2.06.94z\"/><path d=\"M17.41 7.96l-1.37-1.37c-.4-.4-.92-.59-1.43-.59-.52 0-1.04.2-1.43.59L10.3 9.45l-7.72 7.72c-.78.78-.78 2.05 0 2.83L4 21.41c.39.39.9.59 1.41.59.51 0 1.02-.2 1.41-.59l7.78-7.78 2.81-2.81c.8-.78.8-2.07 0-2.86zM5.41 20L4 18.59l7.72-7.72 1.47 1.35L5.41 20z\"/>\n",
              "  </svg>\n",
              "      </button>\n",
              "      \n",
              "  <style>\n",
              "    .colab-df-container {\n",
              "      display:flex;\n",
              "      flex-wrap:wrap;\n",
              "      gap: 12px;\n",
              "    }\n",
              "\n",
              "    .colab-df-convert {\n",
              "      background-color: #E8F0FE;\n",
              "      border: none;\n",
              "      border-radius: 50%;\n",
              "      cursor: pointer;\n",
              "      display: none;\n",
              "      fill: #1967D2;\n",
              "      height: 32px;\n",
              "      padding: 0 0 0 0;\n",
              "      width: 32px;\n",
              "    }\n",
              "\n",
              "    .colab-df-convert:hover {\n",
              "      background-color: #E2EBFA;\n",
              "      box-shadow: 0px 1px 2px rgba(60, 64, 67, 0.3), 0px 1px 3px 1px rgba(60, 64, 67, 0.15);\n",
              "      fill: #174EA6;\n",
              "    }\n",
              "\n",
              "    [theme=dark] .colab-df-convert {\n",
              "      background-color: #3B4455;\n",
              "      fill: #D2E3FC;\n",
              "    }\n",
              "\n",
              "    [theme=dark] .colab-df-convert:hover {\n",
              "      background-color: #434B5C;\n",
              "      box-shadow: 0px 1px 3px 1px rgba(0, 0, 0, 0.15);\n",
              "      filter: drop-shadow(0px 1px 2px rgba(0, 0, 0, 0.3));\n",
              "      fill: #FFFFFF;\n",
              "    }\n",
              "  </style>\n",
              "\n",
              "      <script>\n",
              "        const buttonEl =\n",
              "          document.querySelector('#df-55b2dfd8-fc9d-47fe-b454-aa526091e5d4 button.colab-df-convert');\n",
              "        buttonEl.style.display =\n",
              "          google.colab.kernel.accessAllowed ? 'block' : 'none';\n",
              "\n",
              "        async function convertToInteractive(key) {\n",
              "          const element = document.querySelector('#df-55b2dfd8-fc9d-47fe-b454-aa526091e5d4');\n",
              "          const dataTable =\n",
              "            await google.colab.kernel.invokeFunction('convertToInteractive',\n",
              "                                                     [key], {});\n",
              "          if (!dataTable) return;\n",
              "\n",
              "          const docLinkHtml = 'Like what you see? Visit the ' +\n",
              "            '<a target=\"_blank\" href=https://colab.research.google.com/notebooks/data_table.ipynb>data table notebook</a>'\n",
              "            + ' to learn more about interactive tables.';\n",
              "          element.innerHTML = '';\n",
              "          dataTable['output_type'] = 'display_data';\n",
              "          await google.colab.output.renderOutput(dataTable, element);\n",
              "          const docLink = document.createElement('div');\n",
              "          docLink.innerHTML = docLinkHtml;\n",
              "          element.appendChild(docLink);\n",
              "        }\n",
              "      </script>\n",
              "    </div>\n",
              "  </div>\n",
              "  "
            ],
            "text/plain": [
              "         No.  ...                                         risk\n",
              "0          1  ...             คนต่างชาติเดินทางมาจากต่างประเทศ\n",
              "1          2  ...             คนต่างชาติเดินทางมาจากต่างประเทศ\n",
              "2          3  ...             คนต่างชาติเดินทางมาจากต่างประเทศ\n",
              "3          4  ...             คนต่างชาติเดินทางมาจากต่างประเทศ\n",
              "4          5  ...             คนต่างชาติเดินทางมาจากต่างประเทศ\n",
              "...      ...  ...                                          ...\n",
              "12648  12649  ...                             State Quarantine\n",
              "12649  12650  ...  สัมผัสใกล้ชิดกับผู้ป่วยยืนยันรายก่อนหน้านี้\n",
              "12650  12651  ...  สัมผัสใกล้ชิดกับผู้ป่วยยืนยันรายก่อนหน้านี้\n",
              "12651  12652  ...                                Cluster ระยอง\n",
              "12652  12653  ...  สัมผัสใกล้ชิดกับผู้ป่วยยืนยันรายก่อนหน้านี้\n",
              "\n",
              "[12653 rows x 10 columns]"
            ]
          },
          "metadata": {},
          "execution_count": 7
        }
      ]
    },
    {
      "cell_type": "markdown",
      "source": [
        "![image.png](data:image/png;base64,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)"
      ],
      "metadata": {
        "id": "V-68BD9JSWVq"
      }
    },
    {
      "cell_type": "code",
      "metadata": {
        "colab": {
          "base_uri": "https://localhost:8080/",
          "height": 206
        },
        "id": "sHTOPUJttJJ8",
        "outputId": "778c97b5-0e57-419c-af5a-e39133d7b376"
      },
      "source": [
        "data_covid.head()  # ปกติตารางที่เราใช้งานจะมีขอมูลเยอะมาก เลยมีคำสั่งงานนี้เพื่อให้ช่วยดูข้อมูลคร่าว ๆ ได้ ระยะเวลาในการโหลดไม่นาน "
      ],
      "execution_count": 8,
      "outputs": [
        {
          "output_type": "execute_result",
          "data": {
            "text/html": [
              "\n",
              "  <div id=\"df-541e52fe-4a77-4a46-82ff-366a3b3c599d\">\n",
              "    <div class=\"colab-df-container\">\n",
              "      <div>\n",
              "<style scoped>\n",
              "    .dataframe tbody tr th:only-of-type {\n",
              "        vertical-align: middle;\n",
              "    }\n",
              "\n",
              "    .dataframe tbody tr th {\n",
              "        vertical-align: top;\n",
              "    }\n",
              "\n",
              "    .dataframe thead th {\n",
              "        text-align: right;\n",
              "    }\n",
              "</style>\n",
              "<table border=\"1\" class=\"dataframe\">\n",
              "  <thead>\n",
              "    <tr style=\"text-align: right;\">\n",
              "      <th></th>\n",
              "      <th>No.</th>\n",
              "      <th>announce_date</th>\n",
              "      <th>notification_date</th>\n",
              "      <th>sex</th>\n",
              "      <th>age</th>\n",
              "      <th>nationality</th>\n",
              "      <th>province_of_isolation</th>\n",
              "      <th>province_of_onset</th>\n",
              "      <th>district_of_onset</th>\n",
              "      <th>risk</th>\n",
              "    </tr>\n",
              "  </thead>\n",
              "  <tbody>\n",
              "    <tr>\n",
              "      <th>0</th>\n",
              "      <td>1</td>\n",
              "      <td>1/12/2020</td>\n",
              "      <td>NaN</td>\n",
              "      <td>หญิง</td>\n",
              "      <td>61.0</td>\n",
              "      <td>China</td>\n",
              "      <td>กรุงเทพมหานคร</td>\n",
              "      <td>กรุงเทพมหานคร</td>\n",
              "      <td>NaN</td>\n",
              "      <td>คนต่างชาติเดินทางมาจากต่างประเทศ</td>\n",
              "    </tr>\n",
              "    <tr>\n",
              "      <th>1</th>\n",
              "      <td>2</td>\n",
              "      <td>1/17/2020</td>\n",
              "      <td>NaN</td>\n",
              "      <td>หญิง</td>\n",
              "      <td>74.0</td>\n",
              "      <td>China</td>\n",
              "      <td>กรุงเทพมหานคร</td>\n",
              "      <td>กรุงเทพมหานคร</td>\n",
              "      <td>NaN</td>\n",
              "      <td>คนต่างชาติเดินทางมาจากต่างประเทศ</td>\n",
              "    </tr>\n",
              "    <tr>\n",
              "      <th>2</th>\n",
              "      <td>3</td>\n",
              "      <td>1/22/2020</td>\n",
              "      <td>NaN</td>\n",
              "      <td>หญิง</td>\n",
              "      <td>73.0</td>\n",
              "      <td>Thailand</td>\n",
              "      <td>นครปฐม</td>\n",
              "      <td>นครปฐม</td>\n",
              "      <td>เมือง</td>\n",
              "      <td>คนต่างชาติเดินทางมาจากต่างประเทศ</td>\n",
              "    </tr>\n",
              "    <tr>\n",
              "      <th>3</th>\n",
              "      <td>4</td>\n",
              "      <td>1/22/2020</td>\n",
              "      <td>NaN</td>\n",
              "      <td>ชาย</td>\n",
              "      <td>68.0</td>\n",
              "      <td>China</td>\n",
              "      <td>กรุงเทพมหานคร</td>\n",
              "      <td>กรุงเทพมหานคร</td>\n",
              "      <td>NaN</td>\n",
              "      <td>คนต่างชาติเดินทางมาจากต่างประเทศ</td>\n",
              "    </tr>\n",
              "    <tr>\n",
              "      <th>4</th>\n",
              "      <td>5</td>\n",
              "      <td>1/24/2020</td>\n",
              "      <td>NaN</td>\n",
              "      <td>หญิง</td>\n",
              "      <td>66.0</td>\n",
              "      <td>China</td>\n",
              "      <td>นนทบุรี</td>\n",
              "      <td>กรุงเทพมหานคร</td>\n",
              "      <td>NaN</td>\n",
              "      <td>คนต่างชาติเดินทางมาจากต่างประเทศ</td>\n",
              "    </tr>\n",
              "  </tbody>\n",
              "</table>\n",
              "</div>\n",
              "      <button class=\"colab-df-convert\" onclick=\"convertToInteractive('df-541e52fe-4a77-4a46-82ff-366a3b3c599d')\"\n",
              "              title=\"Convert this dataframe to an interactive table.\"\n",
              "              style=\"display:none;\">\n",
              "        \n",
              "  <svg xmlns=\"http://www.w3.org/2000/svg\" height=\"24px\"viewBox=\"0 0 24 24\"\n",
              "       width=\"24px\">\n",
              "    <path d=\"M0 0h24v24H0V0z\" fill=\"none\"/>\n",
              "    <path d=\"M18.56 5.44l.94 2.06.94-2.06 2.06-.94-2.06-.94-.94-2.06-.94 2.06-2.06.94zm-11 1L8.5 8.5l.94-2.06 2.06-.94-2.06-.94L8.5 2.5l-.94 2.06-2.06.94zm10 10l.94 2.06.94-2.06 2.06-.94-2.06-.94-.94-2.06-.94 2.06-2.06.94z\"/><path d=\"M17.41 7.96l-1.37-1.37c-.4-.4-.92-.59-1.43-.59-.52 0-1.04.2-1.43.59L10.3 9.45l-7.72 7.72c-.78.78-.78 2.05 0 2.83L4 21.41c.39.39.9.59 1.41.59.51 0 1.02-.2 1.41-.59l7.78-7.78 2.81-2.81c.8-.78.8-2.07 0-2.86zM5.41 20L4 18.59l7.72-7.72 1.47 1.35L5.41 20z\"/>\n",
              "  </svg>\n",
              "      </button>\n",
              "      \n",
              "  <style>\n",
              "    .colab-df-container {\n",
              "      display:flex;\n",
              "      flex-wrap:wrap;\n",
              "      gap: 12px;\n",
              "    }\n",
              "\n",
              "    .colab-df-convert {\n",
              "      background-color: #E8F0FE;\n",
              "      border: none;\n",
              "      border-radius: 50%;\n",
              "      cursor: pointer;\n",
              "      display: none;\n",
              "      fill: #1967D2;\n",
              "      height: 32px;\n",
              "      padding: 0 0 0 0;\n",
              "      width: 32px;\n",
              "    }\n",
              "\n",
              "    .colab-df-convert:hover {\n",
              "      background-color: #E2EBFA;\n",
              "      box-shadow: 0px 1px 2px rgba(60, 64, 67, 0.3), 0px 1px 3px 1px rgba(60, 64, 67, 0.15);\n",
              "      fill: #174EA6;\n",
              "    }\n",
              "\n",
              "    [theme=dark] .colab-df-convert {\n",
              "      background-color: #3B4455;\n",
              "      fill: #D2E3FC;\n",
              "    }\n",
              "\n",
              "    [theme=dark] .colab-df-convert:hover {\n",
              "      background-color: #434B5C;\n",
              "      box-shadow: 0px 1px 3px 1px rgba(0, 0, 0, 0.15);\n",
              "      filter: drop-shadow(0px 1px 2px rgba(0, 0, 0, 0.3));\n",
              "      fill: #FFFFFF;\n",
              "    }\n",
              "  </style>\n",
              "\n",
              "      <script>\n",
              "        const buttonEl =\n",
              "          document.querySelector('#df-541e52fe-4a77-4a46-82ff-366a3b3c599d button.colab-df-convert');\n",
              "        buttonEl.style.display =\n",
              "          google.colab.kernel.accessAllowed ? 'block' : 'none';\n",
              "\n",
              "        async function convertToInteractive(key) {\n",
              "          const element = document.querySelector('#df-541e52fe-4a77-4a46-82ff-366a3b3c599d');\n",
              "          const dataTable =\n",
              "            await google.colab.kernel.invokeFunction('convertToInteractive',\n",
              "                                                     [key], {});\n",
              "          if (!dataTable) return;\n",
              "\n",
              "          const docLinkHtml = 'Like what you see? Visit the ' +\n",
              "            '<a target=\"_blank\" href=https://colab.research.google.com/notebooks/data_table.ipynb>data table notebook</a>'\n",
              "            + ' to learn more about interactive tables.';\n",
              "          element.innerHTML = '';\n",
              "          dataTable['output_type'] = 'display_data';\n",
              "          await google.colab.output.renderOutput(dataTable, element);\n",
              "          const docLink = document.createElement('div');\n",
              "          docLink.innerHTML = docLinkHtml;\n",
              "          element.appendChild(docLink);\n",
              "        }\n",
              "      </script>\n",
              "    </div>\n",
              "  </div>\n",
              "  "
            ],
            "text/plain": [
              "   No. announce_date  ... district_of_onset                              risk\n",
              "0    1     1/12/2020  ...               NaN  คนต่างชาติเดินทางมาจากต่างประเทศ\n",
              "1    2     1/17/2020  ...               NaN  คนต่างชาติเดินทางมาจากต่างประเทศ\n",
              "2    3     1/22/2020  ...             เมือง  คนต่างชาติเดินทางมาจากต่างประเทศ\n",
              "3    4     1/22/2020  ...               NaN  คนต่างชาติเดินทางมาจากต่างประเทศ\n",
              "4    5     1/24/2020  ...               NaN  คนต่างชาติเดินทางมาจากต่างประเทศ\n",
              "\n",
              "[5 rows x 10 columns]"
            ]
          },
          "metadata": {},
          "execution_count": 8
        }
      ]
    },
    {
      "cell_type": "markdown",
      "source": [
        "NaN = Not a Number"
      ],
      "metadata": {
        "id": "2R8vTv-yTIQz"
      }
    },
    {
      "cell_type": "code",
      "source": [
        "data_covid.head(10)  # ถ้าเราไม่ใส่จำนวนในวงเล็บ จะโชว์แค่ 5 แถวแรก แต่ถ้าอยากเห็น data 10 แถว ให้ใส่ลงไปในวงเล็บ "
      ],
      "metadata": {
        "colab": {
          "base_uri": "https://localhost:8080/",
          "height": 363
        },
        "id": "SZcTKFOLSgk8",
        "outputId": "0274a55e-d1d4-4615-8763-b4e8ffe0dc0d"
      },
      "execution_count": 9,
      "outputs": [
        {
          "output_type": "execute_result",
          "data": {
            "text/html": [
              "\n",
              "  <div id=\"df-1e7b522c-0299-4d03-9c64-77f27c63227e\">\n",
              "    <div class=\"colab-df-container\">\n",
              "      <div>\n",
              "<style scoped>\n",
              "    .dataframe tbody tr th:only-of-type {\n",
              "        vertical-align: middle;\n",
              "    }\n",
              "\n",
              "    .dataframe tbody tr th {\n",
              "        vertical-align: top;\n",
              "    }\n",
              "\n",
              "    .dataframe thead th {\n",
              "        text-align: right;\n",
              "    }\n",
              "</style>\n",
              "<table border=\"1\" class=\"dataframe\">\n",
              "  <thead>\n",
              "    <tr style=\"text-align: right;\">\n",
              "      <th></th>\n",
              "      <th>No.</th>\n",
              "      <th>announce_date</th>\n",
              "      <th>notification_date</th>\n",
              "      <th>sex</th>\n",
              "      <th>age</th>\n",
              "      <th>nationality</th>\n",
              "      <th>province_of_isolation</th>\n",
              "      <th>province_of_onset</th>\n",
              "      <th>district_of_onset</th>\n",
              "      <th>risk</th>\n",
              "    </tr>\n",
              "  </thead>\n",
              "  <tbody>\n",
              "    <tr>\n",
              "      <th>0</th>\n",
              "      <td>1</td>\n",
              "      <td>1/12/2020</td>\n",
              "      <td>NaN</td>\n",
              "      <td>หญิง</td>\n",
              "      <td>61.0</td>\n",
              "      <td>China</td>\n",
              "      <td>กรุงเทพมหานคร</td>\n",
              "      <td>กรุงเทพมหานคร</td>\n",
              "      <td>NaN</td>\n",
              "      <td>คนต่างชาติเดินทางมาจากต่างประเทศ</td>\n",
              "    </tr>\n",
              "    <tr>\n",
              "      <th>1</th>\n",
              "      <td>2</td>\n",
              "      <td>1/17/2020</td>\n",
              "      <td>NaN</td>\n",
              "      <td>หญิง</td>\n",
              "      <td>74.0</td>\n",
              "      <td>China</td>\n",
              "      <td>กรุงเทพมหานคร</td>\n",
              "      <td>กรุงเทพมหานคร</td>\n",
              "      <td>NaN</td>\n",
              "      <td>คนต่างชาติเดินทางมาจากต่างประเทศ</td>\n",
              "    </tr>\n",
              "    <tr>\n",
              "      <th>2</th>\n",
              "      <td>3</td>\n",
              "      <td>1/22/2020</td>\n",
              "      <td>NaN</td>\n",
              "      <td>หญิง</td>\n",
              "      <td>73.0</td>\n",
              "      <td>Thailand</td>\n",
              "      <td>นครปฐม</td>\n",
              "      <td>นครปฐม</td>\n",
              "      <td>เมือง</td>\n",
              "      <td>คนต่างชาติเดินทางมาจากต่างประเทศ</td>\n",
              "    </tr>\n",
              "    <tr>\n",
              "      <th>3</th>\n",
              "      <td>4</td>\n",
              "      <td>1/22/2020</td>\n",
              "      <td>NaN</td>\n",
              "      <td>ชาย</td>\n",
              "      <td>68.0</td>\n",
              "      <td>China</td>\n",
              "      <td>กรุงเทพมหานคร</td>\n",
              "      <td>กรุงเทพมหานคร</td>\n",
              "      <td>NaN</td>\n",
              "      <td>คนต่างชาติเดินทางมาจากต่างประเทศ</td>\n",
              "    </tr>\n",
              "    <tr>\n",
              "      <th>4</th>\n",
              "      <td>5</td>\n",
              "      <td>1/24/2020</td>\n",
              "      <td>NaN</td>\n",
              "      <td>หญิง</td>\n",
              "      <td>66.0</td>\n",
              "      <td>China</td>\n",
              "      <td>นนทบุรี</td>\n",
              "      <td>กรุงเทพมหานคร</td>\n",
              "      <td>NaN</td>\n",
              "      <td>คนต่างชาติเดินทางมาจากต่างประเทศ</td>\n",
              "    </tr>\n",
              "    <tr>\n",
              "      <th>5</th>\n",
              "      <td>6</td>\n",
              "      <td>1/25/2020</td>\n",
              "      <td>NaN</td>\n",
              "      <td>หญิง</td>\n",
              "      <td>33.0</td>\n",
              "      <td>China</td>\n",
              "      <td>กรุงเทพมหานคร</td>\n",
              "      <td>กรุงเทพมหานคร</td>\n",
              "      <td>NaN</td>\n",
              "      <td>คนต่างชาติเดินทางมาจากต่างประเทศ</td>\n",
              "    </tr>\n",
              "    <tr>\n",
              "      <th>6</th>\n",
              "      <td>7</td>\n",
              "      <td>1/26/2020</td>\n",
              "      <td>NaN</td>\n",
              "      <td>หญิง</td>\n",
              "      <td>57.0</td>\n",
              "      <td>China</td>\n",
              "      <td>กรุงเทพมหานคร</td>\n",
              "      <td>กรุงเทพมหานคร</td>\n",
              "      <td>NaN</td>\n",
              "      <td>คนต่างชาติเดินทางมาจากต่างประเทศ</td>\n",
              "    </tr>\n",
              "    <tr>\n",
              "      <th>7</th>\n",
              "      <td>8</td>\n",
              "      <td>1/26/2020</td>\n",
              "      <td>NaN</td>\n",
              "      <td>หญิง</td>\n",
              "      <td>73.0</td>\n",
              "      <td>China</td>\n",
              "      <td>ประจวบคีรีขันธ์</td>\n",
              "      <td>ประจวบคีรีขันธ์</td>\n",
              "      <td>หัวหิน</td>\n",
              "      <td>คนต่างชาติเดินทางมาจากต่างประเทศ</td>\n",
              "    </tr>\n",
              "    <tr>\n",
              "      <th>8</th>\n",
              "      <td>9</td>\n",
              "      <td>1/28/2020</td>\n",
              "      <td>NaN</td>\n",
              "      <td>ชาย</td>\n",
              "      <td>63.0</td>\n",
              "      <td>China</td>\n",
              "      <td>กรุงเทพมหานคร</td>\n",
              "      <td>กรุงเทพมหานคร</td>\n",
              "      <td>NaN</td>\n",
              "      <td>คนต่างชาติเดินทางมาจากต่างประเทศ</td>\n",
              "    </tr>\n",
              "    <tr>\n",
              "      <th>9</th>\n",
              "      <td>10</td>\n",
              "      <td>1/28/2020</td>\n",
              "      <td>NaN</td>\n",
              "      <td>หญิง</td>\n",
              "      <td>28.0</td>\n",
              "      <td>China</td>\n",
              "      <td>นนทบุรี</td>\n",
              "      <td>นนทบุรี</td>\n",
              "      <td>NaN</td>\n",
              "      <td>คนต่างชาติเดินทางมาจากต่างประเทศ</td>\n",
              "    </tr>\n",
              "  </tbody>\n",
              "</table>\n",
              "</div>\n",
              "      <button class=\"colab-df-convert\" onclick=\"convertToInteractive('df-1e7b522c-0299-4d03-9c64-77f27c63227e')\"\n",
              "              title=\"Convert this dataframe to an interactive table.\"\n",
              "              style=\"display:none;\">\n",
              "        \n",
              "  <svg xmlns=\"http://www.w3.org/2000/svg\" height=\"24px\"viewBox=\"0 0 24 24\"\n",
              "       width=\"24px\">\n",
              "    <path d=\"M0 0h24v24H0V0z\" fill=\"none\"/>\n",
              "    <path d=\"M18.56 5.44l.94 2.06.94-2.06 2.06-.94-2.06-.94-.94-2.06-.94 2.06-2.06.94zm-11 1L8.5 8.5l.94-2.06 2.06-.94-2.06-.94L8.5 2.5l-.94 2.06-2.06.94zm10 10l.94 2.06.94-2.06 2.06-.94-2.06-.94-.94-2.06-.94 2.06-2.06.94z\"/><path d=\"M17.41 7.96l-1.37-1.37c-.4-.4-.92-.59-1.43-.59-.52 0-1.04.2-1.43.59L10.3 9.45l-7.72 7.72c-.78.78-.78 2.05 0 2.83L4 21.41c.39.39.9.59 1.41.59.51 0 1.02-.2 1.41-.59l7.78-7.78 2.81-2.81c.8-.78.8-2.07 0-2.86zM5.41 20L4 18.59l7.72-7.72 1.47 1.35L5.41 20z\"/>\n",
              "  </svg>\n",
              "      </button>\n",
              "      \n",
              "  <style>\n",
              "    .colab-df-container {\n",
              "      display:flex;\n",
              "      flex-wrap:wrap;\n",
              "      gap: 12px;\n",
              "    }\n",
              "\n",
              "    .colab-df-convert {\n",
              "      background-color: #E8F0FE;\n",
              "      border: none;\n",
              "      border-radius: 50%;\n",
              "      cursor: pointer;\n",
              "      display: none;\n",
              "      fill: #1967D2;\n",
              "      height: 32px;\n",
              "      padding: 0 0 0 0;\n",
              "      width: 32px;\n",
              "    }\n",
              "\n",
              "    .colab-df-convert:hover {\n",
              "      background-color: #E2EBFA;\n",
              "      box-shadow: 0px 1px 2px rgba(60, 64, 67, 0.3), 0px 1px 3px 1px rgba(60, 64, 67, 0.15);\n",
              "      fill: #174EA6;\n",
              "    }\n",
              "\n",
              "    [theme=dark] .colab-df-convert {\n",
              "      background-color: #3B4455;\n",
              "      fill: #D2E3FC;\n",
              "    }\n",
              "\n",
              "    [theme=dark] .colab-df-convert:hover {\n",
              "      background-color: #434B5C;\n",
              "      box-shadow: 0px 1px 3px 1px rgba(0, 0, 0, 0.15);\n",
              "      filter: drop-shadow(0px 1px 2px rgba(0, 0, 0, 0.3));\n",
              "      fill: #FFFFFF;\n",
              "    }\n",
              "  </style>\n",
              "\n",
              "      <script>\n",
              "        const buttonEl =\n",
              "          document.querySelector('#df-1e7b522c-0299-4d03-9c64-77f27c63227e button.colab-df-convert');\n",
              "        buttonEl.style.display =\n",
              "          google.colab.kernel.accessAllowed ? 'block' : 'none';\n",
              "\n",
              "        async function convertToInteractive(key) {\n",
              "          const element = document.querySelector('#df-1e7b522c-0299-4d03-9c64-77f27c63227e');\n",
              "          const dataTable =\n",
              "            await google.colab.kernel.invokeFunction('convertToInteractive',\n",
              "                                                     [key], {});\n",
              "          if (!dataTable) return;\n",
              "\n",
              "          const docLinkHtml = 'Like what you see? Visit the ' +\n",
              "            '<a target=\"_blank\" href=https://colab.research.google.com/notebooks/data_table.ipynb>data table notebook</a>'\n",
              "            + ' to learn more about interactive tables.';\n",
              "          element.innerHTML = '';\n",
              "          dataTable['output_type'] = 'display_data';\n",
              "          await google.colab.output.renderOutput(dataTable, element);\n",
              "          const docLink = document.createElement('div');\n",
              "          docLink.innerHTML = docLinkHtml;\n",
              "          element.appendChild(docLink);\n",
              "        }\n",
              "      </script>\n",
              "    </div>\n",
              "  </div>\n",
              "  "
            ],
            "text/plain": [
              "   No. announce_date  ... district_of_onset                              risk\n",
              "0    1     1/12/2020  ...               NaN  คนต่างชาติเดินทางมาจากต่างประเทศ\n",
              "1    2     1/17/2020  ...               NaN  คนต่างชาติเดินทางมาจากต่างประเทศ\n",
              "2    3     1/22/2020  ...             เมือง  คนต่างชาติเดินทางมาจากต่างประเทศ\n",
              "3    4     1/22/2020  ...               NaN  คนต่างชาติเดินทางมาจากต่างประเทศ\n",
              "4    5     1/24/2020  ...               NaN  คนต่างชาติเดินทางมาจากต่างประเทศ\n",
              "5    6     1/25/2020  ...               NaN  คนต่างชาติเดินทางมาจากต่างประเทศ\n",
              "6    7     1/26/2020  ...               NaN  คนต่างชาติเดินทางมาจากต่างประเทศ\n",
              "7    8     1/26/2020  ...            หัวหิน  คนต่างชาติเดินทางมาจากต่างประเทศ\n",
              "8    9     1/28/2020  ...               NaN  คนต่างชาติเดินทางมาจากต่างประเทศ\n",
              "9   10     1/28/2020  ...               NaN  คนต่างชาติเดินทางมาจากต่างประเทศ\n",
              "\n",
              "[10 rows x 10 columns]"
            ]
          },
          "metadata": {},
          "execution_count": 9
        }
      ]
    },
    {
      "cell_type": "code",
      "source": [
        "data_covid.tail()  # โชว์ท้ายตาราง"
      ],
      "metadata": {
        "colab": {
          "base_uri": "https://localhost:8080/",
          "height": 250
        },
        "id": "o4NFOOQ-S06Y",
        "outputId": "590924e8-be42-435b-a53a-efaa0b5ce077"
      },
      "execution_count": null,
      "outputs": [
        {
          "output_type": "execute_result",
          "data": {
            "text/html": [
              "\n",
              "  <div id=\"df-7f86e0f9-03f9-48e6-97e1-7bf538d6e764\">\n",
              "    <div class=\"colab-df-container\">\n",
              "      <div>\n",
              "<style scoped>\n",
              "    .dataframe tbody tr th:only-of-type {\n",
              "        vertical-align: middle;\n",
              "    }\n",
              "\n",
              "    .dataframe tbody tr th {\n",
              "        vertical-align: top;\n",
              "    }\n",
              "\n",
              "    .dataframe thead th {\n",
              "        text-align: right;\n",
              "    }\n",
              "</style>\n",
              "<table border=\"1\" class=\"dataframe\">\n",
              "  <thead>\n",
              "    <tr style=\"text-align: right;\">\n",
              "      <th></th>\n",
              "      <th>No.</th>\n",
              "      <th>announce_date</th>\n",
              "      <th>notification_date</th>\n",
              "      <th>sex</th>\n",
              "      <th>age</th>\n",
              "      <th>nationality</th>\n",
              "      <th>province_of_isolation</th>\n",
              "      <th>province_of_onset</th>\n",
              "      <th>district_of_onset</th>\n",
              "      <th>risk</th>\n",
              "    </tr>\n",
              "  </thead>\n",
              "  <tbody>\n",
              "    <tr>\n",
              "      <th>12648</th>\n",
              "      <td>12649</td>\n",
              "      <td>1/20/2021</td>\n",
              "      <td>1/19/2021</td>\n",
              "      <td>หญิง</td>\n",
              "      <td>44.0</td>\n",
              "      <td>Thailand</td>\n",
              "      <td>ชลบุรี</td>\n",
              "      <td>ชลบุรี</td>\n",
              "      <td>บางละมุง</td>\n",
              "      <td>State Quarantine</td>\n",
              "    </tr>\n",
              "    <tr>\n",
              "      <th>12649</th>\n",
              "      <td>12650</td>\n",
              "      <td>1/20/2021</td>\n",
              "      <td>1/19/2021</td>\n",
              "      <td>หญิง</td>\n",
              "      <td>52.0</td>\n",
              "      <td>Thailand</td>\n",
              "      <td>ระยอง</td>\n",
              "      <td>ระยอง</td>\n",
              "      <td>แกลง</td>\n",
              "      <td>สัมผัสใกล้ชิดกับผู้ป่วยยืนยันรายก่อนหน้านี้</td>\n",
              "    </tr>\n",
              "    <tr>\n",
              "      <th>12650</th>\n",
              "      <td>12651</td>\n",
              "      <td>1/20/2021</td>\n",
              "      <td>1/19/2021</td>\n",
              "      <td>หญิง</td>\n",
              "      <td>23.0</td>\n",
              "      <td>Thailand</td>\n",
              "      <td>ระยอง</td>\n",
              "      <td>ระยอง</td>\n",
              "      <td>นิคมพัฒนา</td>\n",
              "      <td>สัมผัสใกล้ชิดกับผู้ป่วยยืนยันรายก่อนหน้านี้</td>\n",
              "    </tr>\n",
              "    <tr>\n",
              "      <th>12651</th>\n",
              "      <td>12652</td>\n",
              "      <td>1/20/2021</td>\n",
              "      <td>1/19/2021</td>\n",
              "      <td>หญิง</td>\n",
              "      <td>29.0</td>\n",
              "      <td>Thailand</td>\n",
              "      <td>ระยอง</td>\n",
              "      <td>ระยอง</td>\n",
              "      <td>เมือง</td>\n",
              "      <td>Cluster ระยอง</td>\n",
              "    </tr>\n",
              "    <tr>\n",
              "      <th>12652</th>\n",
              "      <td>12653</td>\n",
              "      <td>1/20/2021</td>\n",
              "      <td>1/19/2021</td>\n",
              "      <td>หญิง</td>\n",
              "      <td>22.0</td>\n",
              "      <td>Burma</td>\n",
              "      <td>ตาก</td>\n",
              "      <td>ตาก</td>\n",
              "      <td>แม่สอด</td>\n",
              "      <td>สัมผัสใกล้ชิดกับผู้ป่วยยืนยันรายก่อนหน้านี้</td>\n",
              "    </tr>\n",
              "  </tbody>\n",
              "</table>\n",
              "</div>\n",
              "      <button class=\"colab-df-convert\" onclick=\"convertToInteractive('df-7f86e0f9-03f9-48e6-97e1-7bf538d6e764')\"\n",
              "              title=\"Convert this dataframe to an interactive table.\"\n",
              "              style=\"display:none;\">\n",
              "        \n",
              "  <svg xmlns=\"http://www.w3.org/2000/svg\" height=\"24px\"viewBox=\"0 0 24 24\"\n",
              "       width=\"24px\">\n",
              "    <path d=\"M0 0h24v24H0V0z\" fill=\"none\"/>\n",
              "    <path d=\"M18.56 5.44l.94 2.06.94-2.06 2.06-.94-2.06-.94-.94-2.06-.94 2.06-2.06.94zm-11 1L8.5 8.5l.94-2.06 2.06-.94-2.06-.94L8.5 2.5l-.94 2.06-2.06.94zm10 10l.94 2.06.94-2.06 2.06-.94-2.06-.94-.94-2.06-.94 2.06-2.06.94z\"/><path d=\"M17.41 7.96l-1.37-1.37c-.4-.4-.92-.59-1.43-.59-.52 0-1.04.2-1.43.59L10.3 9.45l-7.72 7.72c-.78.78-.78 2.05 0 2.83L4 21.41c.39.39.9.59 1.41.59.51 0 1.02-.2 1.41-.59l7.78-7.78 2.81-2.81c.8-.78.8-2.07 0-2.86zM5.41 20L4 18.59l7.72-7.72 1.47 1.35L5.41 20z\"/>\n",
              "  </svg>\n",
              "      </button>\n",
              "      \n",
              "  <style>\n",
              "    .colab-df-container {\n",
              "      display:flex;\n",
              "      flex-wrap:wrap;\n",
              "      gap: 12px;\n",
              "    }\n",
              "\n",
              "    .colab-df-convert {\n",
              "      background-color: #E8F0FE;\n",
              "      border: none;\n",
              "      border-radius: 50%;\n",
              "      cursor: pointer;\n",
              "      display: none;\n",
              "      fill: #1967D2;\n",
              "      height: 32px;\n",
              "      padding: 0 0 0 0;\n",
              "      width: 32px;\n",
              "    }\n",
              "\n",
              "    .colab-df-convert:hover {\n",
              "      background-color: #E2EBFA;\n",
              "      box-shadow: 0px 1px 2px rgba(60, 64, 67, 0.3), 0px 1px 3px 1px rgba(60, 64, 67, 0.15);\n",
              "      fill: #174EA6;\n",
              "    }\n",
              "\n",
              "    [theme=dark] .colab-df-convert {\n",
              "      background-color: #3B4455;\n",
              "      fill: #D2E3FC;\n",
              "    }\n",
              "\n",
              "    [theme=dark] .colab-df-convert:hover {\n",
              "      background-color: #434B5C;\n",
              "      box-shadow: 0px 1px 3px 1px rgba(0, 0, 0, 0.15);\n",
              "      filter: drop-shadow(0px 1px 2px rgba(0, 0, 0, 0.3));\n",
              "      fill: #FFFFFF;\n",
              "    }\n",
              "  </style>\n",
              "\n",
              "      <script>\n",
              "        const buttonEl =\n",
              "          document.querySelector('#df-7f86e0f9-03f9-48e6-97e1-7bf538d6e764 button.colab-df-convert');\n",
              "        buttonEl.style.display =\n",
              "          google.colab.kernel.accessAllowed ? 'block' : 'none';\n",
              "\n",
              "        async function convertToInteractive(key) {\n",
              "          const element = document.querySelector('#df-7f86e0f9-03f9-48e6-97e1-7bf538d6e764');\n",
              "          const dataTable =\n",
              "            await google.colab.kernel.invokeFunction('convertToInteractive',\n",
              "                                                     [key], {});\n",
              "          if (!dataTable) return;\n",
              "\n",
              "          const docLinkHtml = 'Like what you see? Visit the ' +\n",
              "            '<a target=\"_blank\" href=https://colab.research.google.com/notebooks/data_table.ipynb>data table notebook</a>'\n",
              "            + ' to learn more about interactive tables.';\n",
              "          element.innerHTML = '';\n",
              "          dataTable['output_type'] = 'display_data';\n",
              "          await google.colab.output.renderOutput(dataTable, element);\n",
              "          const docLink = document.createElement('div');\n",
              "          docLink.innerHTML = docLinkHtml;\n",
              "          element.appendChild(docLink);\n",
              "        }\n",
              "      </script>\n",
              "    </div>\n",
              "  </div>\n",
              "  "
            ],
            "text/plain": [
              "         No.  ...                                         risk\n",
              "12648  12649  ...                             State Quarantine\n",
              "12649  12650  ...  สัมผัสใกล้ชิดกับผู้ป่วยยืนยันรายก่อนหน้านี้\n",
              "12650  12651  ...  สัมผัสใกล้ชิดกับผู้ป่วยยืนยันรายก่อนหน้านี้\n",
              "12651  12652  ...                                Cluster ระยอง\n",
              "12652  12653  ...  สัมผัสใกล้ชิดกับผู้ป่วยยืนยันรายก่อนหน้านี้\n",
              "\n",
              "[5 rows x 10 columns]"
            ]
          },
          "metadata": {},
          "execution_count": 22
        }
      ]
    },
    {
      "cell_type": "code",
      "metadata": {
        "colab": {
          "base_uri": "https://localhost:8080/"
        },
        "id": "zj5UmHPtySZ4",
        "outputId": "4ada7688-88b4-4e2f-ab22-0bad33244967"
      },
      "source": [
        "data_covid.shape  # โชว์ว่ามีกี่แถว กี่คอลัมน์"
      ],
      "execution_count": null,
      "outputs": [
        {
          "output_type": "execute_result",
          "data": {
            "text/plain": [
              "(12653, 10)"
            ]
          },
          "metadata": {},
          "execution_count": 23
        }
      ]
    },
    {
      "cell_type": "markdown",
      "metadata": {
        "id": "CRYEuv0dzLtW"
      },
      "source": [
        "## ชี้ค่าในตาราง"
      ]
    },
    {
      "cell_type": "markdown",
      "metadata": {
        "id": "KFqGDG0c0AYI"
      },
      "source": [
        "#### basic"
      ]
    },
    {
      "cell_type": "code",
      "metadata": {
        "colab": {
          "base_uri": "https://localhost:8080/"
        },
        "id": "vQ8Fvpgkyp4E",
        "outputId": "36991d91-0fe1-4fe0-a957-7d52138f8790"
      },
      "source": [
        "data_covid['province_of_onset']"
      ],
      "execution_count": null,
      "outputs": [
        {
          "output_type": "execute_result",
          "data": {
            "text/plain": [
              "0        กรุงเทพมหานคร\n",
              "1        กรุงเทพมหานคร\n",
              "2               นครปฐม\n",
              "3        กรุงเทพมหานคร\n",
              "4        กรุงเทพมหานคร\n",
              "             ...      \n",
              "12648           ชลบุรี\n",
              "12649            ระยอง\n",
              "12650            ระยอง\n",
              "12651            ระยอง\n",
              "12652              ตาก\n",
              "Name: province_of_onset, Length: 12653, dtype: object"
            ]
          },
          "metadata": {
            "tags": []
          },
          "execution_count": 17
        }
      ]
    },
    {
      "cell_type": "code",
      "metadata": {
        "colab": {
          "base_uri": "https://localhost:8080/",
          "height": 35
        },
        "id": "tHxuEWK6zjSH",
        "outputId": "648e3e46-2b8f-4a71-982b-2a05ba0c8141"
      },
      "source": [
        "data_covid['province_of_onset'][4]"
      ],
      "execution_count": null,
      "outputs": [
        {
          "output_type": "execute_result",
          "data": {
            "application/vnd.google.colaboratory.intrinsic+json": {
              "type": "string"
            },
            "text/plain": [
              "'กรุงเทพมหานคร'"
            ]
          },
          "metadata": {
            "tags": []
          },
          "execution_count": 18
        }
      ]
    },
    {
      "cell_type": "code",
      "source": [
        "data_covid['risk'][12649] # อยากทราบความเสี่ยงของคนที่ 12649"
      ],
      "metadata": {
        "colab": {
          "base_uri": "https://localhost:8080/",
          "height": 34
        },
        "id": "ZRgijtJ4TyxW",
        "outputId": "1288c510-c34a-44d9-9773-cfde82db0522"
      },
      "execution_count": null,
      "outputs": [
        {
          "output_type": "execute_result",
          "data": {
            "application/vnd.google.colaboratory.intrinsic+json": {
              "type": "string"
            },
            "text/plain": [
              "'สัมผัสใกล้ชิดกับผู้ป่วยยืนยันรายก่อนหน้านี้'"
            ]
          },
          "metadata": {},
          "execution_count": 24
        }
      ]
    },
    {
      "cell_type": "markdown",
      "metadata": {
        "id": "dZ3UfzfV0DIy"
      },
      "source": [
        "#### .iloc"
      ]
    },
    {
      "cell_type": "code",
      "metadata": {
        "colab": {
          "base_uri": "https://localhost:8080/",
          "height": 35
        },
        "id": "oTb8mQj6z6DN",
        "outputId": "fbfc80b4-d9bb-42c0-eb4e-6c9aa3eb8d23"
      },
      "source": [
        "data_covid.iloc[4,7]"
      ],
      "execution_count": null,
      "outputs": [
        {
          "output_type": "execute_result",
          "data": {
            "application/vnd.google.colaboratory.intrinsic+json": {
              "type": "string"
            },
            "text/plain": [
              "'กรุงเทพมหานคร'"
            ]
          },
          "metadata": {
            "tags": []
          },
          "execution_count": 19
        }
      ]
    },
    {
      "cell_type": "code",
      "source": [
        "data_covid.iloc[2,7]"
      ],
      "metadata": {
        "colab": {
          "base_uri": "https://localhost:8080/",
          "height": 34
        },
        "id": "my1NBPgkUdaZ",
        "outputId": "8b8a3ffd-eea9-4698-ce37-1cfe171e50ac"
      },
      "execution_count": null,
      "outputs": [
        {
          "output_type": "execute_result",
          "data": {
            "application/vnd.google.colaboratory.intrinsic+json": {
              "type": "string"
            },
            "text/plain": [
              "'นครปฐม'"
            ]
          },
          "metadata": {},
          "execution_count": 25
        }
      ]
    },
    {
      "cell_type": "markdown",
      "metadata": {
        "id": "shzgCJfy0x2z"
      },
      "source": [
        "## Table slicing"
      ]
    },
    {
      "cell_type": "markdown",
      "metadata": {
        "id": "NWxhCozt0757"
      },
      "source": [
        "#### ตัดมาเฉพาะ column ที่ต้องการ"
      ]
    },
    {
      "cell_type": "code",
      "metadata": {
        "colab": {
          "base_uri": "https://localhost:8080/",
          "height": 415
        },
        "id": "x7I7LHQY0gLe",
        "outputId": "b368167e-5a8d-4185-fc04-e5c0cc0f045b"
      },
      "source": [
        "smaller_table = data_covid[['announce_date','province_of_onset','risk']]  #เลือกคอลัมน์ที่อยากเห็นได้\n",
        "smaller_table"
      ],
      "execution_count": null,
      "outputs": [
        {
          "output_type": "execute_result",
          "data": {
            "text/html": [
              "<div>\n",
              "<style scoped>\n",
              "    .dataframe tbody tr th:only-of-type {\n",
              "        vertical-align: middle;\n",
              "    }\n",
              "\n",
              "    .dataframe tbody tr th {\n",
              "        vertical-align: top;\n",
              "    }\n",
              "\n",
              "    .dataframe thead th {\n",
              "        text-align: right;\n",
              "    }\n",
              "</style>\n",
              "<table border=\"1\" class=\"dataframe\">\n",
              "  <thead>\n",
              "    <tr style=\"text-align: right;\">\n",
              "      <th></th>\n",
              "      <th>announce_date</th>\n",
              "      <th>province_of_onset</th>\n",
              "      <th>risk</th>\n",
              "    </tr>\n",
              "  </thead>\n",
              "  <tbody>\n",
              "    <tr>\n",
              "      <th>0</th>\n",
              "      <td>1/12/2020</td>\n",
              "      <td>กรุงเทพมหานคร</td>\n",
              "      <td>คนต่างชาติเดินทางมาจากต่างประเทศ</td>\n",
              "    </tr>\n",
              "    <tr>\n",
              "      <th>1</th>\n",
              "      <td>1/17/2020</td>\n",
              "      <td>กรุงเทพมหานคร</td>\n",
              "      <td>คนต่างชาติเดินทางมาจากต่างประเทศ</td>\n",
              "    </tr>\n",
              "    <tr>\n",
              "      <th>2</th>\n",
              "      <td>1/22/2020</td>\n",
              "      <td>นครปฐม</td>\n",
              "      <td>คนต่างชาติเดินทางมาจากต่างประเทศ</td>\n",
              "    </tr>\n",
              "    <tr>\n",
              "      <th>3</th>\n",
              "      <td>1/22/2020</td>\n",
              "      <td>กรุงเทพมหานคร</td>\n",
              "      <td>คนต่างชาติเดินทางมาจากต่างประเทศ</td>\n",
              "    </tr>\n",
              "    <tr>\n",
              "      <th>4</th>\n",
              "      <td>1/24/2020</td>\n",
              "      <td>กรุงเทพมหานคร</td>\n",
              "      <td>คนต่างชาติเดินทางมาจากต่างประเทศ</td>\n",
              "    </tr>\n",
              "    <tr>\n",
              "      <th>...</th>\n",
              "      <td>...</td>\n",
              "      <td>...</td>\n",
              "      <td>...</td>\n",
              "    </tr>\n",
              "    <tr>\n",
              "      <th>12648</th>\n",
              "      <td>1/20/2021</td>\n",
              "      <td>ชลบุรี</td>\n",
              "      <td>State Quarantine</td>\n",
              "    </tr>\n",
              "    <tr>\n",
              "      <th>12649</th>\n",
              "      <td>1/20/2021</td>\n",
              "      <td>ระยอง</td>\n",
              "      <td>สัมผัสใกล้ชิดกับผู้ป่วยยืนยันรายก่อนหน้านี้</td>\n",
              "    </tr>\n",
              "    <tr>\n",
              "      <th>12650</th>\n",
              "      <td>1/20/2021</td>\n",
              "      <td>ระยอง</td>\n",
              "      <td>สัมผัสใกล้ชิดกับผู้ป่วยยืนยันรายก่อนหน้านี้</td>\n",
              "    </tr>\n",
              "    <tr>\n",
              "      <th>12651</th>\n",
              "      <td>1/20/2021</td>\n",
              "      <td>ระยอง</td>\n",
              "      <td>Cluster ระยอง</td>\n",
              "    </tr>\n",
              "    <tr>\n",
              "      <th>12652</th>\n",
              "      <td>1/20/2021</td>\n",
              "      <td>ตาก</td>\n",
              "      <td>สัมผัสใกล้ชิดกับผู้ป่วยยืนยันรายก่อนหน้านี้</td>\n",
              "    </tr>\n",
              "  </tbody>\n",
              "</table>\n",
              "<p>12653 rows × 3 columns</p>\n",
              "</div>"
            ],
            "text/plain": [
              "      announce_date  ...                                         risk\n",
              "0         1/12/2020  ...             คนต่างชาติเดินทางมาจากต่างประเทศ\n",
              "1         1/17/2020  ...             คนต่างชาติเดินทางมาจากต่างประเทศ\n",
              "2         1/22/2020  ...             คนต่างชาติเดินทางมาจากต่างประเทศ\n",
              "3         1/22/2020  ...             คนต่างชาติเดินทางมาจากต่างประเทศ\n",
              "4         1/24/2020  ...             คนต่างชาติเดินทางมาจากต่างประเทศ\n",
              "...             ...  ...                                          ...\n",
              "12648     1/20/2021  ...                             State Quarantine\n",
              "12649     1/20/2021  ...  สัมผัสใกล้ชิดกับผู้ป่วยยืนยันรายก่อนหน้านี้\n",
              "12650     1/20/2021  ...  สัมผัสใกล้ชิดกับผู้ป่วยยืนยันรายก่อนหน้านี้\n",
              "12651     1/20/2021  ...                                Cluster ระยอง\n",
              "12652     1/20/2021  ...  สัมผัสใกล้ชิดกับผู้ป่วยยืนยันรายก่อนหน้านี้\n",
              "\n",
              "[12653 rows x 3 columns]"
            ]
          },
          "metadata": {
            "tags": []
          },
          "execution_count": 20
        }
      ]
    },
    {
      "cell_type": "markdown",
      "metadata": {
        "id": "nrVTN03F2GpV"
      },
      "source": [
        "#### ตัดเฉพาะ rows ที่ต้องการ"
      ]
    },
    {
      "cell_type": "markdown",
      "metadata": {
        "id": "58aOjVTl2SK0"
      },
      "source": [
        "##### แบบง่าย แต่ใช้การอะไรไม่ค่อยจะได้ (มองเป็น array แล้วตัดแบบ array)"
      ]
    },
    {
      "cell_type": "code",
      "metadata": {
        "colab": {
          "base_uri": "https://localhost:8080/",
          "height": 166
        },
        "id": "NYFm0KkM1vqR",
        "outputId": "fbe6e1d1-a29b-4b33-fcb6-9020f4d8a593"
      },
      "source": [
        "data_covid.iloc[1:5,:]"
      ],
      "execution_count": null,
      "outputs": [
        {
          "output_type": "execute_result",
          "data": {
            "text/html": [
              "<div>\n",
              "<style scoped>\n",
              "    .dataframe tbody tr th:only-of-type {\n",
              "        vertical-align: middle;\n",
              "    }\n",
              "\n",
              "    .dataframe tbody tr th {\n",
              "        vertical-align: top;\n",
              "    }\n",
              "\n",
              "    .dataframe thead th {\n",
              "        text-align: right;\n",
              "    }\n",
              "</style>\n",
              "<table border=\"1\" class=\"dataframe\">\n",
              "  <thead>\n",
              "    <tr style=\"text-align: right;\">\n",
              "      <th></th>\n",
              "      <th>No.</th>\n",
              "      <th>announce_date</th>\n",
              "      <th>notification_date</th>\n",
              "      <th>sex</th>\n",
              "      <th>age</th>\n",
              "      <th>nationality</th>\n",
              "      <th>province_of_isolation</th>\n",
              "      <th>province_of_onset</th>\n",
              "      <th>district_of_onset</th>\n",
              "      <th>risk</th>\n",
              "    </tr>\n",
              "  </thead>\n",
              "  <tbody>\n",
              "    <tr>\n",
              "      <th>1</th>\n",
              "      <td>2</td>\n",
              "      <td>1/17/2020</td>\n",
              "      <td>NaN</td>\n",
              "      <td>หญิง</td>\n",
              "      <td>74.0</td>\n",
              "      <td>China</td>\n",
              "      <td>กรุงเทพมหานคร</td>\n",
              "      <td>กรุงเทพมหานคร</td>\n",
              "      <td>NaN</td>\n",
              "      <td>คนต่างชาติเดินทางมาจากต่างประเทศ</td>\n",
              "    </tr>\n",
              "    <tr>\n",
              "      <th>2</th>\n",
              "      <td>3</td>\n",
              "      <td>1/22/2020</td>\n",
              "      <td>NaN</td>\n",
              "      <td>หญิง</td>\n",
              "      <td>73.0</td>\n",
              "      <td>Thailand</td>\n",
              "      <td>นครปฐม</td>\n",
              "      <td>นครปฐม</td>\n",
              "      <td>เมือง</td>\n",
              "      <td>คนต่างชาติเดินทางมาจากต่างประเทศ</td>\n",
              "    </tr>\n",
              "    <tr>\n",
              "      <th>3</th>\n",
              "      <td>4</td>\n",
              "      <td>1/22/2020</td>\n",
              "      <td>NaN</td>\n",
              "      <td>ชาย</td>\n",
              "      <td>68.0</td>\n",
              "      <td>China</td>\n",
              "      <td>กรุงเทพมหานคร</td>\n",
              "      <td>กรุงเทพมหานคร</td>\n",
              "      <td>NaN</td>\n",
              "      <td>คนต่างชาติเดินทางมาจากต่างประเทศ</td>\n",
              "    </tr>\n",
              "    <tr>\n",
              "      <th>4</th>\n",
              "      <td>5</td>\n",
              "      <td>1/24/2020</td>\n",
              "      <td>NaN</td>\n",
              "      <td>หญิง</td>\n",
              "      <td>66.0</td>\n",
              "      <td>China</td>\n",
              "      <td>นนทบุรี</td>\n",
              "      <td>กรุงเทพมหานคร</td>\n",
              "      <td>NaN</td>\n",
              "      <td>คนต่างชาติเดินทางมาจากต่างประเทศ</td>\n",
              "    </tr>\n",
              "  </tbody>\n",
              "</table>\n",
              "</div>"
            ],
            "text/plain": [
              "   No. announce_date  ... district_of_onset                              risk\n",
              "1    2     1/17/2020  ...               NaN  คนต่างชาติเดินทางมาจากต่างประเทศ\n",
              "2    3     1/22/2020  ...             เมือง  คนต่างชาติเดินทางมาจากต่างประเทศ\n",
              "3    4     1/22/2020  ...               NaN  คนต่างชาติเดินทางมาจากต่างประเทศ\n",
              "4    5     1/24/2020  ...               NaN  คนต่างชาติเดินทางมาจากต่างประเทศ\n",
              "\n",
              "[4 rows x 10 columns]"
            ]
          },
          "metadata": {
            "tags": []
          },
          "execution_count": 21
        }
      ]
    },
    {
      "cell_type": "markdown",
      "metadata": {
        "id": "yR2j59YD2y65"
      },
      "source": [
        "แบบ advanced แต่ใช้ประโยชน์ได้เยอะกว่า (ตัดแบบใช้ logic query)"
      ]
    },
    {
      "cell_type": "markdown",
      "source": [
        "$pd_df$[list_of_logical_values]  คือการเลือก row ที่ logical values เป็น true"
      ],
      "metadata": {
        "id": "d28F2qoTXX4L"
      }
    },
    {
      "cell_type": "code",
      "source": [
        "data_covid['province_of_onset']"
      ],
      "metadata": {
        "id": "EO3SeZr5Xkyz",
        "outputId": "8ea3d758-7d9c-48a9-d943-179052c0503b",
        "colab": {
          "base_uri": "https://localhost:8080/"
        }
      },
      "execution_count": 12,
      "outputs": [
        {
          "output_type": "execute_result",
          "data": {
            "text/plain": [
              "0        กรุงเทพมหานคร\n",
              "1        กรุงเทพมหานคร\n",
              "2               นครปฐม\n",
              "3        กรุงเทพมหานคร\n",
              "4        กรุงเทพมหานคร\n",
              "             ...      \n",
              "12648           ชลบุรี\n",
              "12649            ระยอง\n",
              "12650            ระยอง\n",
              "12651            ระยอง\n",
              "12652              ตาก\n",
              "Name: province_of_onset, Length: 12653, dtype: object"
            ]
          },
          "metadata": {},
          "execution_count": 12
        }
      ]
    },
    {
      "cell_type": "code",
      "source": [
        "data_covid ['province_of_onset']=='ขอนแก่น'  #column ไหนเป็นขอนแก่น = True , ไม่เป็นขอนแก่น = False"
      ],
      "metadata": {
        "id": "RaF1gy5OXgpC",
        "outputId": "407c02f7-038f-4b88-9936-d8d3469b924c",
        "colab": {
          "base_uri": "https://localhost:8080/"
        }
      },
      "execution_count": 17,
      "outputs": [
        {
          "output_type": "execute_result",
          "data": {
            "text/plain": [
              "0        False\n",
              "1        False\n",
              "2        False\n",
              "3        False\n",
              "4        False\n",
              "         ...  \n",
              "12648    False\n",
              "12649    False\n",
              "12650    False\n",
              "12651    False\n",
              "12652    False\n",
              "Name: province_of_onset, Length: 12653, dtype: bool"
            ]
          },
          "metadata": {},
          "execution_count": 17
        }
      ]
    },
    {
      "cell_type": "code",
      "metadata": {
        "colab": {
          "base_uri": "https://localhost:8080/",
          "height": 550
        },
        "id": "7l8BC42x2qSm",
        "outputId": "2d300e4d-95bc-40b2-c06a-ee8483848bdf"
      },
      "source": [
        "data_covid[data_covid['province_of_onset']=='ขอนแก่น']"
      ],
      "execution_count": 14,
      "outputs": [
        {
          "output_type": "execute_result",
          "data": {
            "text/html": [
              "\n",
              "  <div id=\"df-fe1e6e81-df47-41a6-b756-5c1d4ca17df7\">\n",
              "    <div class=\"colab-df-container\">\n",
              "      <div>\n",
              "<style scoped>\n",
              "    .dataframe tbody tr th:only-of-type {\n",
              "        vertical-align: middle;\n",
              "    }\n",
              "\n",
              "    .dataframe tbody tr th {\n",
              "        vertical-align: top;\n",
              "    }\n",
              "\n",
              "    .dataframe thead th {\n",
              "        text-align: right;\n",
              "    }\n",
              "</style>\n",
              "<table border=\"1\" class=\"dataframe\">\n",
              "  <thead>\n",
              "    <tr style=\"text-align: right;\">\n",
              "      <th></th>\n",
              "      <th>No.</th>\n",
              "      <th>announce_date</th>\n",
              "      <th>notification_date</th>\n",
              "      <th>sex</th>\n",
              "      <th>age</th>\n",
              "      <th>nationality</th>\n",
              "      <th>province_of_isolation</th>\n",
              "      <th>province_of_onset</th>\n",
              "      <th>district_of_onset</th>\n",
              "      <th>risk</th>\n",
              "    </tr>\n",
              "  </thead>\n",
              "  <tbody>\n",
              "    <tr>\n",
              "      <th>180</th>\n",
              "      <td>181</td>\n",
              "      <td>3/18/2020</td>\n",
              "      <td>3/15/2020</td>\n",
              "      <td>ชาย</td>\n",
              "      <td>33.0</td>\n",
              "      <td>Thailand</td>\n",
              "      <td>ขอนแก่น</td>\n",
              "      <td>ขอนแก่น</td>\n",
              "      <td>เมือง</td>\n",
              "      <td>สนามมวย</td>\n",
              "    </tr>\n",
              "    <tr>\n",
              "      <th>462</th>\n",
              "      <td>463</td>\n",
              "      <td>3/22/2020</td>\n",
              "      <td>3/21/2020</td>\n",
              "      <td>หญิง</td>\n",
              "      <td>36.0</td>\n",
              "      <td>Thailand</td>\n",
              "      <td>ขอนแก่น</td>\n",
              "      <td>ขอนแก่น</td>\n",
              "      <td>เมือง</td>\n",
              "      <td>สัมผัสใกล้ชิดกับผู้ป่วยยืนยันรายก่อนหน้านี้</td>\n",
              "    </tr>\n",
              "    <tr>\n",
              "      <th>1466</th>\n",
              "      <td>1467</td>\n",
              "      <td>3/30/2020</td>\n",
              "      <td>3/26/2020</td>\n",
              "      <td>ชาย</td>\n",
              "      <td>19.0</td>\n",
              "      <td>Thailand</td>\n",
              "      <td>ขอนแก่น</td>\n",
              "      <td>ขอนแก่น</td>\n",
              "      <td>เมือง</td>\n",
              "      <td>คนไทยเดินทางกลับจากต่างประเทศ</td>\n",
              "    </tr>\n",
              "    <tr>\n",
              "      <th>1970</th>\n",
              "      <td>1971</td>\n",
              "      <td>4/3/2020</td>\n",
              "      <td>3/31/2020</td>\n",
              "      <td>หญิง</td>\n",
              "      <td>70.0</td>\n",
              "      <td>Thailand</td>\n",
              "      <td>ขอนแก่น</td>\n",
              "      <td>ขอนแก่น</td>\n",
              "      <td>เมือง</td>\n",
              "      <td>ไปสถานที่ชุมชน เช่น ตลาดนัด สถานที่ท่องเที่ยว</td>\n",
              "    </tr>\n",
              "    <tr>\n",
              "      <th>2637</th>\n",
              "      <td>2638</td>\n",
              "      <td>4/15/2020</td>\n",
              "      <td>4/14/2020</td>\n",
              "      <td>หญิง</td>\n",
              "      <td>63.0</td>\n",
              "      <td>Thailand</td>\n",
              "      <td>ขอนแก่น</td>\n",
              "      <td>ขอนแก่น</td>\n",
              "      <td>น้ำพอง</td>\n",
              "      <td>สัมผัสผู้เดินทางจากต่างประเทศ</td>\n",
              "    </tr>\n",
              "    <tr>\n",
              "      <th>2673</th>\n",
              "      <td>2674</td>\n",
              "      <td>4/17/2020</td>\n",
              "      <td>4/16/2020</td>\n",
              "      <td>ชาย</td>\n",
              "      <td>68.0</td>\n",
              "      <td>Thailand</td>\n",
              "      <td>ขอนแก่น</td>\n",
              "      <td>ขอนแก่น</td>\n",
              "      <td>น้ำพอง</td>\n",
              "      <td>สัมผัสใกล้ชิดกับผู้ป่วยยืนยันรายก่อนหน้านี้</td>\n",
              "    </tr>\n",
              "    <tr>\n",
              "      <th>5948</th>\n",
              "      <td>5949</td>\n",
              "      <td>12/26/2020</td>\n",
              "      <td>12/25/2020</td>\n",
              "      <td>หญิง</td>\n",
              "      <td>32.0</td>\n",
              "      <td>Thailand</td>\n",
              "      <td>ขอนแก่น</td>\n",
              "      <td>ขอนแก่น</td>\n",
              "      <td>แวงใหญ่</td>\n",
              "      <td>Cluster สมุทรสาคร</td>\n",
              "    </tr>\n",
              "    <tr>\n",
              "      <th>6082</th>\n",
              "      <td>6083</td>\n",
              "      <td>12/27/2020</td>\n",
              "      <td>12/26/2020</td>\n",
              "      <td>หญิง</td>\n",
              "      <td>36.0</td>\n",
              "      <td>Thailand</td>\n",
              "      <td>ขอนแก่น</td>\n",
              "      <td>ขอนแก่น</td>\n",
              "      <td>แวงใหญ่</td>\n",
              "      <td>Cluster สมุทรสาคร</td>\n",
              "    </tr>\n",
              "    <tr>\n",
              "      <th>9333</th>\n",
              "      <td>9334</td>\n",
              "      <td>1/7/2021</td>\n",
              "      <td>1/6/2021</td>\n",
              "      <td>ชาย</td>\n",
              "      <td>17.0</td>\n",
              "      <td>Thailand</td>\n",
              "      <td>ขอนแก่น</td>\n",
              "      <td>ขอนแก่น</td>\n",
              "      <td>เมือง</td>\n",
              "      <td>อยู่ระหว่างการสอบสวน</td>\n",
              "    </tr>\n",
              "    <tr>\n",
              "      <th>9334</th>\n",
              "      <td>9335</td>\n",
              "      <td>1/7/2021</td>\n",
              "      <td>1/6/2021</td>\n",
              "      <td>ชาย</td>\n",
              "      <td>20.0</td>\n",
              "      <td>Thailand</td>\n",
              "      <td>ขอนแก่น</td>\n",
              "      <td>ขอนแก่น</td>\n",
              "      <td>เมือง</td>\n",
              "      <td>สัมผัสใกล้ชิดกับผู้ป่วยยืนยันรายก่อนหน้านี้</td>\n",
              "    </tr>\n",
              "    <tr>\n",
              "      <th>10610</th>\n",
              "      <td>10611</td>\n",
              "      <td>1/12/2021</td>\n",
              "      <td>1/11/2021</td>\n",
              "      <td>ชาย</td>\n",
              "      <td>17.0</td>\n",
              "      <td>Thailand</td>\n",
              "      <td>ขอนแก่น</td>\n",
              "      <td>ขอนแก่น</td>\n",
              "      <td>เมือง</td>\n",
              "      <td>สัมผัสใกล้ชิดกับผู้ป่วยยืนยันรายก่อนหน้านี้</td>\n",
              "    </tr>\n",
              "    <tr>\n",
              "      <th>11517</th>\n",
              "      <td>11518</td>\n",
              "      <td>1/16/2021</td>\n",
              "      <td>1/15/2021</td>\n",
              "      <td>ชาย</td>\n",
              "      <td>12.0</td>\n",
              "      <td>Thailand</td>\n",
              "      <td>ขอนแก่น</td>\n",
              "      <td>ขอนแก่น</td>\n",
              "      <td>เมือง</td>\n",
              "      <td>อยู่ระหว่างการสอบสวน</td>\n",
              "    </tr>\n",
              "    <tr>\n",
              "      <th>11697</th>\n",
              "      <td>11698</td>\n",
              "      <td>1/17/2021</td>\n",
              "      <td>1/16/2021</td>\n",
              "      <td>หญิง</td>\n",
              "      <td>17.0</td>\n",
              "      <td>Thailand</td>\n",
              "      <td>ขอนแก่น</td>\n",
              "      <td>ขอนแก่น</td>\n",
              "      <td>เมือง</td>\n",
              "      <td>สัมผัสใกล้ชิดกับผู้ป่วยยืนยันรายก่อนหน้านี้</td>\n",
              "    </tr>\n",
              "    <tr>\n",
              "      <th>11698</th>\n",
              "      <td>11699</td>\n",
              "      <td>1/17/2021</td>\n",
              "      <td>1/16/2021</td>\n",
              "      <td>หญิง</td>\n",
              "      <td>37.0</td>\n",
              "      <td>Thailand</td>\n",
              "      <td>ขอนแก่น</td>\n",
              "      <td>ขอนแก่น</td>\n",
              "      <td>เมือง</td>\n",
              "      <td>สัมผัสใกล้ชิดกับผู้ป่วยยืนยันรายก่อนหน้านี้</td>\n",
              "    </tr>\n",
              "  </tbody>\n",
              "</table>\n",
              "</div>\n",
              "      <button class=\"colab-df-convert\" onclick=\"convertToInteractive('df-fe1e6e81-df47-41a6-b756-5c1d4ca17df7')\"\n",
              "              title=\"Convert this dataframe to an interactive table.\"\n",
              "              style=\"display:none;\">\n",
              "        \n",
              "  <svg xmlns=\"http://www.w3.org/2000/svg\" height=\"24px\"viewBox=\"0 0 24 24\"\n",
              "       width=\"24px\">\n",
              "    <path d=\"M0 0h24v24H0V0z\" fill=\"none\"/>\n",
              "    <path d=\"M18.56 5.44l.94 2.06.94-2.06 2.06-.94-2.06-.94-.94-2.06-.94 2.06-2.06.94zm-11 1L8.5 8.5l.94-2.06 2.06-.94-2.06-.94L8.5 2.5l-.94 2.06-2.06.94zm10 10l.94 2.06.94-2.06 2.06-.94-2.06-.94-.94-2.06-.94 2.06-2.06.94z\"/><path d=\"M17.41 7.96l-1.37-1.37c-.4-.4-.92-.59-1.43-.59-.52 0-1.04.2-1.43.59L10.3 9.45l-7.72 7.72c-.78.78-.78 2.05 0 2.83L4 21.41c.39.39.9.59 1.41.59.51 0 1.02-.2 1.41-.59l7.78-7.78 2.81-2.81c.8-.78.8-2.07 0-2.86zM5.41 20L4 18.59l7.72-7.72 1.47 1.35L5.41 20z\"/>\n",
              "  </svg>\n",
              "      </button>\n",
              "      \n",
              "  <style>\n",
              "    .colab-df-container {\n",
              "      display:flex;\n",
              "      flex-wrap:wrap;\n",
              "      gap: 12px;\n",
              "    }\n",
              "\n",
              "    .colab-df-convert {\n",
              "      background-color: #E8F0FE;\n",
              "      border: none;\n",
              "      border-radius: 50%;\n",
              "      cursor: pointer;\n",
              "      display: none;\n",
              "      fill: #1967D2;\n",
              "      height: 32px;\n",
              "      padding: 0 0 0 0;\n",
              "      width: 32px;\n",
              "    }\n",
              "\n",
              "    .colab-df-convert:hover {\n",
              "      background-color: #E2EBFA;\n",
              "      box-shadow: 0px 1px 2px rgba(60, 64, 67, 0.3), 0px 1px 3px 1px rgba(60, 64, 67, 0.15);\n",
              "      fill: #174EA6;\n",
              "    }\n",
              "\n",
              "    [theme=dark] .colab-df-convert {\n",
              "      background-color: #3B4455;\n",
              "      fill: #D2E3FC;\n",
              "    }\n",
              "\n",
              "    [theme=dark] .colab-df-convert:hover {\n",
              "      background-color: #434B5C;\n",
              "      box-shadow: 0px 1px 3px 1px rgba(0, 0, 0, 0.15);\n",
              "      filter: drop-shadow(0px 1px 2px rgba(0, 0, 0, 0.3));\n",
              "      fill: #FFFFFF;\n",
              "    }\n",
              "  </style>\n",
              "\n",
              "      <script>\n",
              "        const buttonEl =\n",
              "          document.querySelector('#df-fe1e6e81-df47-41a6-b756-5c1d4ca17df7 button.colab-df-convert');\n",
              "        buttonEl.style.display =\n",
              "          google.colab.kernel.accessAllowed ? 'block' : 'none';\n",
              "\n",
              "        async function convertToInteractive(key) {\n",
              "          const element = document.querySelector('#df-fe1e6e81-df47-41a6-b756-5c1d4ca17df7');\n",
              "          const dataTable =\n",
              "            await google.colab.kernel.invokeFunction('convertToInteractive',\n",
              "                                                     [key], {});\n",
              "          if (!dataTable) return;\n",
              "\n",
              "          const docLinkHtml = 'Like what you see? Visit the ' +\n",
              "            '<a target=\"_blank\" href=https://colab.research.google.com/notebooks/data_table.ipynb>data table notebook</a>'\n",
              "            + ' to learn more about interactive tables.';\n",
              "          element.innerHTML = '';\n",
              "          dataTable['output_type'] = 'display_data';\n",
              "          await google.colab.output.renderOutput(dataTable, element);\n",
              "          const docLink = document.createElement('div');\n",
              "          docLink.innerHTML = docLinkHtml;\n",
              "          element.appendChild(docLink);\n",
              "        }\n",
              "      </script>\n",
              "    </div>\n",
              "  </div>\n",
              "  "
            ],
            "text/plain": [
              "         No.  ...                                           risk\n",
              "180      181  ...                                        สนามมวย\n",
              "462      463  ...    สัมผัสใกล้ชิดกับผู้ป่วยยืนยันรายก่อนหน้านี้\n",
              "1466    1467  ...                  คนไทยเดินทางกลับจากต่างประเทศ\n",
              "1970    1971  ...  ไปสถานที่ชุมชน เช่น ตลาดนัด สถานที่ท่องเที่ยว\n",
              "2637    2638  ...                  สัมผัสผู้เดินทางจากต่างประเทศ\n",
              "2673    2674  ...    สัมผัสใกล้ชิดกับผู้ป่วยยืนยันรายก่อนหน้านี้\n",
              "5948    5949  ...                              Cluster สมุทรสาคร\n",
              "6082    6083  ...                              Cluster สมุทรสาคร\n",
              "9333    9334  ...                           อยู่ระหว่างการสอบสวน\n",
              "9334    9335  ...    สัมผัสใกล้ชิดกับผู้ป่วยยืนยันรายก่อนหน้านี้\n",
              "10610  10611  ...    สัมผัสใกล้ชิดกับผู้ป่วยยืนยันรายก่อนหน้านี้\n",
              "11517  11518  ...                           อยู่ระหว่างการสอบสวน\n",
              "11697  11698  ...    สัมผัสใกล้ชิดกับผู้ป่วยยืนยันรายก่อนหน้านี้\n",
              "11698  11699  ...    สัมผัสใกล้ชิดกับผู้ป่วยยืนยันรายก่อนหน้านี้\n",
              "\n",
              "[14 rows x 10 columns]"
            ]
          },
          "metadata": {},
          "execution_count": 14
        }
      ]
    },
    {
      "cell_type": "code",
      "source": [
        "data_covid[data_covid['age']>=70]"
      ],
      "metadata": {
        "id": "nLEArM2jYcCR",
        "outputId": "3cec81a6-8fb7-4f1b-c6fb-44d91e7a5c2e",
        "colab": {
          "base_uri": "https://localhost:8080/",
          "height": 502
        }
      },
      "execution_count": 19,
      "outputs": [
        {
          "output_type": "execute_result",
          "data": {
            "text/html": [
              "\n",
              "  <div id=\"df-0c96626d-5a58-4170-adb6-956faf47a3b8\">\n",
              "    <div class=\"colab-df-container\">\n",
              "      <div>\n",
              "<style scoped>\n",
              "    .dataframe tbody tr th:only-of-type {\n",
              "        vertical-align: middle;\n",
              "    }\n",
              "\n",
              "    .dataframe tbody tr th {\n",
              "        vertical-align: top;\n",
              "    }\n",
              "\n",
              "    .dataframe thead th {\n",
              "        text-align: right;\n",
              "    }\n",
              "</style>\n",
              "<table border=\"1\" class=\"dataframe\">\n",
              "  <thead>\n",
              "    <tr style=\"text-align: right;\">\n",
              "      <th></th>\n",
              "      <th>No.</th>\n",
              "      <th>announce_date</th>\n",
              "      <th>notification_date</th>\n",
              "      <th>sex</th>\n",
              "      <th>age</th>\n",
              "      <th>nationality</th>\n",
              "      <th>province_of_isolation</th>\n",
              "      <th>province_of_onset</th>\n",
              "      <th>district_of_onset</th>\n",
              "      <th>risk</th>\n",
              "    </tr>\n",
              "  </thead>\n",
              "  <tbody>\n",
              "    <tr>\n",
              "      <th>1</th>\n",
              "      <td>2</td>\n",
              "      <td>1/17/2020</td>\n",
              "      <td>NaN</td>\n",
              "      <td>หญิง</td>\n",
              "      <td>74.0</td>\n",
              "      <td>China</td>\n",
              "      <td>กรุงเทพมหานคร</td>\n",
              "      <td>กรุงเทพมหานคร</td>\n",
              "      <td>NaN</td>\n",
              "      <td>คนต่างชาติเดินทางมาจากต่างประเทศ</td>\n",
              "    </tr>\n",
              "    <tr>\n",
              "      <th>2</th>\n",
              "      <td>3</td>\n",
              "      <td>1/22/2020</td>\n",
              "      <td>NaN</td>\n",
              "      <td>หญิง</td>\n",
              "      <td>73.0</td>\n",
              "      <td>Thailand</td>\n",
              "      <td>นครปฐม</td>\n",
              "      <td>นครปฐม</td>\n",
              "      <td>เมือง</td>\n",
              "      <td>คนต่างชาติเดินทางมาจากต่างประเทศ</td>\n",
              "    </tr>\n",
              "    <tr>\n",
              "      <th>7</th>\n",
              "      <td>8</td>\n",
              "      <td>1/26/2020</td>\n",
              "      <td>NaN</td>\n",
              "      <td>หญิง</td>\n",
              "      <td>73.0</td>\n",
              "      <td>China</td>\n",
              "      <td>ประจวบคีรีขันธ์</td>\n",
              "      <td>ประจวบคีรีขันธ์</td>\n",
              "      <td>หัวหิน</td>\n",
              "      <td>คนต่างชาติเดินทางมาจากต่างประเทศ</td>\n",
              "    </tr>\n",
              "    <tr>\n",
              "      <th>24</th>\n",
              "      <td>25</td>\n",
              "      <td>2/4/2020</td>\n",
              "      <td>NaN</td>\n",
              "      <td>ชาย</td>\n",
              "      <td>70.0</td>\n",
              "      <td>Thailand</td>\n",
              "      <td>สมุทรปราการ</td>\n",
              "      <td>สมุทรปราการ</td>\n",
              "      <td>NaN</td>\n",
              "      <td>อาชีพเสี่ยง เช่น ทำงานในสถานที่แออัด หรือทำงาน...</td>\n",
              "    </tr>\n",
              "    <tr>\n",
              "      <th>82</th>\n",
              "      <td>83</td>\n",
              "      <td>3/15/2020</td>\n",
              "      <td>NaN</td>\n",
              "      <td>ชาย</td>\n",
              "      <td>76.0</td>\n",
              "      <td>Thailand</td>\n",
              "      <td>กรุงเทพมหานคร</td>\n",
              "      <td>กรุงเทพมหานคร</td>\n",
              "      <td>NaN</td>\n",
              "      <td>สนามมวย</td>\n",
              "    </tr>\n",
              "    <tr>\n",
              "      <th>...</th>\n",
              "      <td>...</td>\n",
              "      <td>...</td>\n",
              "      <td>...</td>\n",
              "      <td>...</td>\n",
              "      <td>...</td>\n",
              "      <td>...</td>\n",
              "      <td>...</td>\n",
              "      <td>...</td>\n",
              "      <td>...</td>\n",
              "      <td>...</td>\n",
              "    </tr>\n",
              "    <tr>\n",
              "      <th>11694</th>\n",
              "      <td>11695</td>\n",
              "      <td>1/17/2021</td>\n",
              "      <td>1/16/2021</td>\n",
              "      <td>หญิง</td>\n",
              "      <td>82.0</td>\n",
              "      <td>Thailand</td>\n",
              "      <td>กรุงเทพมหานคร</td>\n",
              "      <td>ชลบุรี</td>\n",
              "      <td>เมือง</td>\n",
              "      <td>ไปสถานที่ชุมชน เช่น ตลาดนัด สถานที่ท่องเที่ยว</td>\n",
              "    </tr>\n",
              "    <tr>\n",
              "      <th>11700</th>\n",
              "      <td>11701</td>\n",
              "      <td>1/17/2021</td>\n",
              "      <td>1/16/2021</td>\n",
              "      <td>ชาย</td>\n",
              "      <td>75.0</td>\n",
              "      <td>Thailand</td>\n",
              "      <td>นนทบุรี</td>\n",
              "      <td>นนทบุรี</td>\n",
              "      <td>เมือง</td>\n",
              "      <td>สัมผัสใกล้ชิดกับผู้ป่วยยืนยันรายก่อนหน้านี้</td>\n",
              "    </tr>\n",
              "    <tr>\n",
              "      <th>11730</th>\n",
              "      <td>11731</td>\n",
              "      <td>1/17/2021</td>\n",
              "      <td>1/16/2021</td>\n",
              "      <td>ชาย</td>\n",
              "      <td>73.0</td>\n",
              "      <td>NaN</td>\n",
              "      <td>สมุทรสาคร</td>\n",
              "      <td>NaN</td>\n",
              "      <td>NaN</td>\n",
              "      <td>Cluster สมุทรสาคร</td>\n",
              "    </tr>\n",
              "    <tr>\n",
              "      <th>11741</th>\n",
              "      <td>11742</td>\n",
              "      <td>1/17/2021</td>\n",
              "      <td>1/16/2021</td>\n",
              "      <td>ชาย</td>\n",
              "      <td>71.0</td>\n",
              "      <td>Thailand</td>\n",
              "      <td>ระยอง</td>\n",
              "      <td>ระยอง</td>\n",
              "      <td>แกลง</td>\n",
              "      <td>อยู่ระหว่างการสอบสวน</td>\n",
              "    </tr>\n",
              "    <tr>\n",
              "      <th>12102</th>\n",
              "      <td>12103</td>\n",
              "      <td>1/18/2021</td>\n",
              "      <td>1/17/2021</td>\n",
              "      <td>ชาย</td>\n",
              "      <td>75.0</td>\n",
              "      <td>NaN</td>\n",
              "      <td>สมุทรสาคร</td>\n",
              "      <td>NaN</td>\n",
              "      <td>NaN</td>\n",
              "      <td>Cluster สมุทรสาคร</td>\n",
              "    </tr>\n",
              "  </tbody>\n",
              "</table>\n",
              "<p>245 rows × 10 columns</p>\n",
              "</div>\n",
              "      <button class=\"colab-df-convert\" onclick=\"convertToInteractive('df-0c96626d-5a58-4170-adb6-956faf47a3b8')\"\n",
              "              title=\"Convert this dataframe to an interactive table.\"\n",
              "              style=\"display:none;\">\n",
              "        \n",
              "  <svg xmlns=\"http://www.w3.org/2000/svg\" height=\"24px\"viewBox=\"0 0 24 24\"\n",
              "       width=\"24px\">\n",
              "    <path d=\"M0 0h24v24H0V0z\" fill=\"none\"/>\n",
              "    <path d=\"M18.56 5.44l.94 2.06.94-2.06 2.06-.94-2.06-.94-.94-2.06-.94 2.06-2.06.94zm-11 1L8.5 8.5l.94-2.06 2.06-.94-2.06-.94L8.5 2.5l-.94 2.06-2.06.94zm10 10l.94 2.06.94-2.06 2.06-.94-2.06-.94-.94-2.06-.94 2.06-2.06.94z\"/><path d=\"M17.41 7.96l-1.37-1.37c-.4-.4-.92-.59-1.43-.59-.52 0-1.04.2-1.43.59L10.3 9.45l-7.72 7.72c-.78.78-.78 2.05 0 2.83L4 21.41c.39.39.9.59 1.41.59.51 0 1.02-.2 1.41-.59l7.78-7.78 2.81-2.81c.8-.78.8-2.07 0-2.86zM5.41 20L4 18.59l7.72-7.72 1.47 1.35L5.41 20z\"/>\n",
              "  </svg>\n",
              "      </button>\n",
              "      \n",
              "  <style>\n",
              "    .colab-df-container {\n",
              "      display:flex;\n",
              "      flex-wrap:wrap;\n",
              "      gap: 12px;\n",
              "    }\n",
              "\n",
              "    .colab-df-convert {\n",
              "      background-color: #E8F0FE;\n",
              "      border: none;\n",
              "      border-radius: 50%;\n",
              "      cursor: pointer;\n",
              "      display: none;\n",
              "      fill: #1967D2;\n",
              "      height: 32px;\n",
              "      padding: 0 0 0 0;\n",
              "      width: 32px;\n",
              "    }\n",
              "\n",
              "    .colab-df-convert:hover {\n",
              "      background-color: #E2EBFA;\n",
              "      box-shadow: 0px 1px 2px rgba(60, 64, 67, 0.3), 0px 1px 3px 1px rgba(60, 64, 67, 0.15);\n",
              "      fill: #174EA6;\n",
              "    }\n",
              "\n",
              "    [theme=dark] .colab-df-convert {\n",
              "      background-color: #3B4455;\n",
              "      fill: #D2E3FC;\n",
              "    }\n",
              "\n",
              "    [theme=dark] .colab-df-convert:hover {\n",
              "      background-color: #434B5C;\n",
              "      box-shadow: 0px 1px 3px 1px rgba(0, 0, 0, 0.15);\n",
              "      filter: drop-shadow(0px 1px 2px rgba(0, 0, 0, 0.3));\n",
              "      fill: #FFFFFF;\n",
              "    }\n",
              "  </style>\n",
              "\n",
              "      <script>\n",
              "        const buttonEl =\n",
              "          document.querySelector('#df-0c96626d-5a58-4170-adb6-956faf47a3b8 button.colab-df-convert');\n",
              "        buttonEl.style.display =\n",
              "          google.colab.kernel.accessAllowed ? 'block' : 'none';\n",
              "\n",
              "        async function convertToInteractive(key) {\n",
              "          const element = document.querySelector('#df-0c96626d-5a58-4170-adb6-956faf47a3b8');\n",
              "          const dataTable =\n",
              "            await google.colab.kernel.invokeFunction('convertToInteractive',\n",
              "                                                     [key], {});\n",
              "          if (!dataTable) return;\n",
              "\n",
              "          const docLinkHtml = 'Like what you see? Visit the ' +\n",
              "            '<a target=\"_blank\" href=https://colab.research.google.com/notebooks/data_table.ipynb>data table notebook</a>'\n",
              "            + ' to learn more about interactive tables.';\n",
              "          element.innerHTML = '';\n",
              "          dataTable['output_type'] = 'display_data';\n",
              "          await google.colab.output.renderOutput(dataTable, element);\n",
              "          const docLink = document.createElement('div');\n",
              "          docLink.innerHTML = docLinkHtml;\n",
              "          element.appendChild(docLink);\n",
              "        }\n",
              "      </script>\n",
              "    </div>\n",
              "  </div>\n",
              "  "
            ],
            "text/plain": [
              "         No.  ...                                               risk\n",
              "1          2  ...                   คนต่างชาติเดินทางมาจากต่างประเทศ\n",
              "2          3  ...                   คนต่างชาติเดินทางมาจากต่างประเทศ\n",
              "7          8  ...                   คนต่างชาติเดินทางมาจากต่างประเทศ\n",
              "24        25  ...  อาชีพเสี่ยง เช่น ทำงานในสถานที่แออัด หรือทำงาน...\n",
              "82        83  ...                                            สนามมวย\n",
              "...      ...  ...                                                ...\n",
              "11694  11695  ...      ไปสถานที่ชุมชน เช่น ตลาดนัด สถานที่ท่องเที่ยว\n",
              "11700  11701  ...        สัมผัสใกล้ชิดกับผู้ป่วยยืนยันรายก่อนหน้านี้\n",
              "11730  11731  ...                                  Cluster สมุทรสาคร\n",
              "11741  11742  ...                               อยู่ระหว่างการสอบสวน\n",
              "12102  12103  ...                                  Cluster สมุทรสาคร\n",
              "\n",
              "[245 rows x 10 columns]"
            ]
          },
          "metadata": {},
          "execution_count": 19
        }
      ]
    },
    {
      "cell_type": "markdown",
      "metadata": {
        "id": "z9IC5md533qS"
      },
      "source": [
        "การชี้ค่าในตารางด้วย data_covid[***x***] ค่า ***x*** สามารถมีค่าที่ใส่เข้าไปได้ 2 แบบ\n",
        "\n",
        "\n",
        "1.   ชื่อ column\n",
        "2.   ใส่ rows ที่ต้องการ (ใส่ list ที่มี***ขนาดเท่ากับจำนวนแถว*** แล้วบอกว่าเอา แถวไหนบ้างโดยใช้ logical expression (```True```/```False```))\n",
        "\n"
      ]
    },
    {
      "cell_type": "code",
      "metadata": {
        "colab": {
          "base_uri": "https://localhost:8080/",
          "height": 284
        },
        "id": "jQu4sr_53Ytk",
        "outputId": "58a68948-b508-4a0e-cce8-e3bb09c35157"
      },
      "source": [
        "eight_rows_covid = data_covid.iloc[:8,:] # ตารางตัวอย่าง\n",
        "eight_rows_covid"
      ],
      "execution_count": null,
      "outputs": [
        {
          "output_type": "execute_result",
          "data": {
            "text/html": [
              "<div>\n",
              "<style scoped>\n",
              "    .dataframe tbody tr th:only-of-type {\n",
              "        vertical-align: middle;\n",
              "    }\n",
              "\n",
              "    .dataframe tbody tr th {\n",
              "        vertical-align: top;\n",
              "    }\n",
              "\n",
              "    .dataframe thead th {\n",
              "        text-align: right;\n",
              "    }\n",
              "</style>\n",
              "<table border=\"1\" class=\"dataframe\">\n",
              "  <thead>\n",
              "    <tr style=\"text-align: right;\">\n",
              "      <th></th>\n",
              "      <th>No.</th>\n",
              "      <th>announce_date</th>\n",
              "      <th>notification_date</th>\n",
              "      <th>sex</th>\n",
              "      <th>age</th>\n",
              "      <th>nationality</th>\n",
              "      <th>province_of_isolation</th>\n",
              "      <th>province_of_onset</th>\n",
              "      <th>district_of_onset</th>\n",
              "      <th>risk</th>\n",
              "    </tr>\n",
              "  </thead>\n",
              "  <tbody>\n",
              "    <tr>\n",
              "      <th>0</th>\n",
              "      <td>1</td>\n",
              "      <td>1/12/2020</td>\n",
              "      <td>NaN</td>\n",
              "      <td>หญิง</td>\n",
              "      <td>61.0</td>\n",
              "      <td>China</td>\n",
              "      <td>กรุงเทพมหานคร</td>\n",
              "      <td>กรุงเทพมหานคร</td>\n",
              "      <td>NaN</td>\n",
              "      <td>คนต่างชาติเดินทางมาจากต่างประเทศ</td>\n",
              "    </tr>\n",
              "    <tr>\n",
              "      <th>1</th>\n",
              "      <td>2</td>\n",
              "      <td>1/17/2020</td>\n",
              "      <td>NaN</td>\n",
              "      <td>หญิง</td>\n",
              "      <td>74.0</td>\n",
              "      <td>China</td>\n",
              "      <td>กรุงเทพมหานคร</td>\n",
              "      <td>กรุงเทพมหานคร</td>\n",
              "      <td>NaN</td>\n",
              "      <td>คนต่างชาติเดินทางมาจากต่างประเทศ</td>\n",
              "    </tr>\n",
              "    <tr>\n",
              "      <th>2</th>\n",
              "      <td>3</td>\n",
              "      <td>1/22/2020</td>\n",
              "      <td>NaN</td>\n",
              "      <td>หญิง</td>\n",
              "      <td>73.0</td>\n",
              "      <td>Thailand</td>\n",
              "      <td>นครปฐม</td>\n",
              "      <td>นครปฐม</td>\n",
              "      <td>เมือง</td>\n",
              "      <td>คนต่างชาติเดินทางมาจากต่างประเทศ</td>\n",
              "    </tr>\n",
              "    <tr>\n",
              "      <th>3</th>\n",
              "      <td>4</td>\n",
              "      <td>1/22/2020</td>\n",
              "      <td>NaN</td>\n",
              "      <td>ชาย</td>\n",
              "      <td>68.0</td>\n",
              "      <td>China</td>\n",
              "      <td>กรุงเทพมหานคร</td>\n",
              "      <td>กรุงเทพมหานคร</td>\n",
              "      <td>NaN</td>\n",
              "      <td>คนต่างชาติเดินทางมาจากต่างประเทศ</td>\n",
              "    </tr>\n",
              "    <tr>\n",
              "      <th>4</th>\n",
              "      <td>5</td>\n",
              "      <td>1/24/2020</td>\n",
              "      <td>NaN</td>\n",
              "      <td>หญิง</td>\n",
              "      <td>66.0</td>\n",
              "      <td>China</td>\n",
              "      <td>นนทบุรี</td>\n",
              "      <td>กรุงเทพมหานคร</td>\n",
              "      <td>NaN</td>\n",
              "      <td>คนต่างชาติเดินทางมาจากต่างประเทศ</td>\n",
              "    </tr>\n",
              "    <tr>\n",
              "      <th>5</th>\n",
              "      <td>6</td>\n",
              "      <td>1/25/2020</td>\n",
              "      <td>NaN</td>\n",
              "      <td>หญิง</td>\n",
              "      <td>33.0</td>\n",
              "      <td>China</td>\n",
              "      <td>กรุงเทพมหานคร</td>\n",
              "      <td>กรุงเทพมหานคร</td>\n",
              "      <td>NaN</td>\n",
              "      <td>คนต่างชาติเดินทางมาจากต่างประเทศ</td>\n",
              "    </tr>\n",
              "    <tr>\n",
              "      <th>6</th>\n",
              "      <td>7</td>\n",
              "      <td>1/26/2020</td>\n",
              "      <td>NaN</td>\n",
              "      <td>หญิง</td>\n",
              "      <td>57.0</td>\n",
              "      <td>China</td>\n",
              "      <td>กรุงเทพมหานคร</td>\n",
              "      <td>กรุงเทพมหานคร</td>\n",
              "      <td>NaN</td>\n",
              "      <td>คนต่างชาติเดินทางมาจากต่างประเทศ</td>\n",
              "    </tr>\n",
              "    <tr>\n",
              "      <th>7</th>\n",
              "      <td>8</td>\n",
              "      <td>1/26/2020</td>\n",
              "      <td>NaN</td>\n",
              "      <td>หญิง</td>\n",
              "      <td>73.0</td>\n",
              "      <td>China</td>\n",
              "      <td>ประจวบคีรีขันธ์</td>\n",
              "      <td>ประจวบคีรีขันธ์</td>\n",
              "      <td>หัวหิน</td>\n",
              "      <td>คนต่างชาติเดินทางมาจากต่างประเทศ</td>\n",
              "    </tr>\n",
              "  </tbody>\n",
              "</table>\n",
              "</div>"
            ],
            "text/plain": [
              "   No. announce_date  ... district_of_onset                              risk\n",
              "0    1     1/12/2020  ...               NaN  คนต่างชาติเดินทางมาจากต่างประเทศ\n",
              "1    2     1/17/2020  ...               NaN  คนต่างชาติเดินทางมาจากต่างประเทศ\n",
              "2    3     1/22/2020  ...             เมือง  คนต่างชาติเดินทางมาจากต่างประเทศ\n",
              "3    4     1/22/2020  ...               NaN  คนต่างชาติเดินทางมาจากต่างประเทศ\n",
              "4    5     1/24/2020  ...               NaN  คนต่างชาติเดินทางมาจากต่างประเทศ\n",
              "5    6     1/25/2020  ...               NaN  คนต่างชาติเดินทางมาจากต่างประเทศ\n",
              "6    7     1/26/2020  ...               NaN  คนต่างชาติเดินทางมาจากต่างประเทศ\n",
              "7    8     1/26/2020  ...            หัวหิน  คนต่างชาติเดินทางมาจากต่างประเทศ\n",
              "\n",
              "[8 rows x 10 columns]"
            ]
          },
          "metadata": {
            "tags": []
          },
          "execution_count": 28
        }
      ]
    },
    {
      "cell_type": "code",
      "source": [
        "eight_rows_covid = data_covid.iloc[:8,3:] # ตารางตัวอย่าง\n",
        "eight_rows_covid"
      ],
      "metadata": {
        "id": "MVXYBl-6ZpIm",
        "outputId": "f605b6e7-810c-44e5-f480-8c66759a3811",
        "colab": {
          "base_uri": "https://localhost:8080/",
          "height": 300
        }
      },
      "execution_count": 20,
      "outputs": [
        {
          "output_type": "execute_result",
          "data": {
            "text/html": [
              "\n",
              "  <div id=\"df-46aaf370-7ed1-43ab-a7b5-0409ff9ddd1c\">\n",
              "    <div class=\"colab-df-container\">\n",
              "      <div>\n",
              "<style scoped>\n",
              "    .dataframe tbody tr th:only-of-type {\n",
              "        vertical-align: middle;\n",
              "    }\n",
              "\n",
              "    .dataframe tbody tr th {\n",
              "        vertical-align: top;\n",
              "    }\n",
              "\n",
              "    .dataframe thead th {\n",
              "        text-align: right;\n",
              "    }\n",
              "</style>\n",
              "<table border=\"1\" class=\"dataframe\">\n",
              "  <thead>\n",
              "    <tr style=\"text-align: right;\">\n",
              "      <th></th>\n",
              "      <th>sex</th>\n",
              "      <th>age</th>\n",
              "      <th>nationality</th>\n",
              "      <th>province_of_isolation</th>\n",
              "      <th>province_of_onset</th>\n",
              "      <th>district_of_onset</th>\n",
              "      <th>risk</th>\n",
              "    </tr>\n",
              "  </thead>\n",
              "  <tbody>\n",
              "    <tr>\n",
              "      <th>0</th>\n",
              "      <td>หญิง</td>\n",
              "      <td>61.0</td>\n",
              "      <td>China</td>\n",
              "      <td>กรุงเทพมหานคร</td>\n",
              "      <td>กรุงเทพมหานคร</td>\n",
              "      <td>NaN</td>\n",
              "      <td>คนต่างชาติเดินทางมาจากต่างประเทศ</td>\n",
              "    </tr>\n",
              "    <tr>\n",
              "      <th>1</th>\n",
              "      <td>หญิง</td>\n",
              "      <td>74.0</td>\n",
              "      <td>China</td>\n",
              "      <td>กรุงเทพมหานคร</td>\n",
              "      <td>กรุงเทพมหานคร</td>\n",
              "      <td>NaN</td>\n",
              "      <td>คนต่างชาติเดินทางมาจากต่างประเทศ</td>\n",
              "    </tr>\n",
              "    <tr>\n",
              "      <th>2</th>\n",
              "      <td>หญิง</td>\n",
              "      <td>73.0</td>\n",
              "      <td>Thailand</td>\n",
              "      <td>นครปฐม</td>\n",
              "      <td>นครปฐม</td>\n",
              "      <td>เมือง</td>\n",
              "      <td>คนต่างชาติเดินทางมาจากต่างประเทศ</td>\n",
              "    </tr>\n",
              "    <tr>\n",
              "      <th>3</th>\n",
              "      <td>ชาย</td>\n",
              "      <td>68.0</td>\n",
              "      <td>China</td>\n",
              "      <td>กรุงเทพมหานคร</td>\n",
              "      <td>กรุงเทพมหานคร</td>\n",
              "      <td>NaN</td>\n",
              "      <td>คนต่างชาติเดินทางมาจากต่างประเทศ</td>\n",
              "    </tr>\n",
              "    <tr>\n",
              "      <th>4</th>\n",
              "      <td>หญิง</td>\n",
              "      <td>66.0</td>\n",
              "      <td>China</td>\n",
              "      <td>นนทบุรี</td>\n",
              "      <td>กรุงเทพมหานคร</td>\n",
              "      <td>NaN</td>\n",
              "      <td>คนต่างชาติเดินทางมาจากต่างประเทศ</td>\n",
              "    </tr>\n",
              "    <tr>\n",
              "      <th>5</th>\n",
              "      <td>หญิง</td>\n",
              "      <td>33.0</td>\n",
              "      <td>China</td>\n",
              "      <td>กรุงเทพมหานคร</td>\n",
              "      <td>กรุงเทพมหานคร</td>\n",
              "      <td>NaN</td>\n",
              "      <td>คนต่างชาติเดินทางมาจากต่างประเทศ</td>\n",
              "    </tr>\n",
              "    <tr>\n",
              "      <th>6</th>\n",
              "      <td>หญิง</td>\n",
              "      <td>57.0</td>\n",
              "      <td>China</td>\n",
              "      <td>กรุงเทพมหานคร</td>\n",
              "      <td>กรุงเทพมหานคร</td>\n",
              "      <td>NaN</td>\n",
              "      <td>คนต่างชาติเดินทางมาจากต่างประเทศ</td>\n",
              "    </tr>\n",
              "    <tr>\n",
              "      <th>7</th>\n",
              "      <td>หญิง</td>\n",
              "      <td>73.0</td>\n",
              "      <td>China</td>\n",
              "      <td>ประจวบคีรีขันธ์</td>\n",
              "      <td>ประจวบคีรีขันธ์</td>\n",
              "      <td>หัวหิน</td>\n",
              "      <td>คนต่างชาติเดินทางมาจากต่างประเทศ</td>\n",
              "    </tr>\n",
              "  </tbody>\n",
              "</table>\n",
              "</div>\n",
              "      <button class=\"colab-df-convert\" onclick=\"convertToInteractive('df-46aaf370-7ed1-43ab-a7b5-0409ff9ddd1c')\"\n",
              "              title=\"Convert this dataframe to an interactive table.\"\n",
              "              style=\"display:none;\">\n",
              "        \n",
              "  <svg xmlns=\"http://www.w3.org/2000/svg\" height=\"24px\"viewBox=\"0 0 24 24\"\n",
              "       width=\"24px\">\n",
              "    <path d=\"M0 0h24v24H0V0z\" fill=\"none\"/>\n",
              "    <path d=\"M18.56 5.44l.94 2.06.94-2.06 2.06-.94-2.06-.94-.94-2.06-.94 2.06-2.06.94zm-11 1L8.5 8.5l.94-2.06 2.06-.94-2.06-.94L8.5 2.5l-.94 2.06-2.06.94zm10 10l.94 2.06.94-2.06 2.06-.94-2.06-.94-.94-2.06-.94 2.06-2.06.94z\"/><path d=\"M17.41 7.96l-1.37-1.37c-.4-.4-.92-.59-1.43-.59-.52 0-1.04.2-1.43.59L10.3 9.45l-7.72 7.72c-.78.78-.78 2.05 0 2.83L4 21.41c.39.39.9.59 1.41.59.51 0 1.02-.2 1.41-.59l7.78-7.78 2.81-2.81c.8-.78.8-2.07 0-2.86zM5.41 20L4 18.59l7.72-7.72 1.47 1.35L5.41 20z\"/>\n",
              "  </svg>\n",
              "      </button>\n",
              "      \n",
              "  <style>\n",
              "    .colab-df-container {\n",
              "      display:flex;\n",
              "      flex-wrap:wrap;\n",
              "      gap: 12px;\n",
              "    }\n",
              "\n",
              "    .colab-df-convert {\n",
              "      background-color: #E8F0FE;\n",
              "      border: none;\n",
              "      border-radius: 50%;\n",
              "      cursor: pointer;\n",
              "      display: none;\n",
              "      fill: #1967D2;\n",
              "      height: 32px;\n",
              "      padding: 0 0 0 0;\n",
              "      width: 32px;\n",
              "    }\n",
              "\n",
              "    .colab-df-convert:hover {\n",
              "      background-color: #E2EBFA;\n",
              "      box-shadow: 0px 1px 2px rgba(60, 64, 67, 0.3), 0px 1px 3px 1px rgba(60, 64, 67, 0.15);\n",
              "      fill: #174EA6;\n",
              "    }\n",
              "\n",
              "    [theme=dark] .colab-df-convert {\n",
              "      background-color: #3B4455;\n",
              "      fill: #D2E3FC;\n",
              "    }\n",
              "\n",
              "    [theme=dark] .colab-df-convert:hover {\n",
              "      background-color: #434B5C;\n",
              "      box-shadow: 0px 1px 3px 1px rgba(0, 0, 0, 0.15);\n",
              "      filter: drop-shadow(0px 1px 2px rgba(0, 0, 0, 0.3));\n",
              "      fill: #FFFFFF;\n",
              "    }\n",
              "  </style>\n",
              "\n",
              "      <script>\n",
              "        const buttonEl =\n",
              "          document.querySelector('#df-46aaf370-7ed1-43ab-a7b5-0409ff9ddd1c button.colab-df-convert');\n",
              "        buttonEl.style.display =\n",
              "          google.colab.kernel.accessAllowed ? 'block' : 'none';\n",
              "\n",
              "        async function convertToInteractive(key) {\n",
              "          const element = document.querySelector('#df-46aaf370-7ed1-43ab-a7b5-0409ff9ddd1c');\n",
              "          const dataTable =\n",
              "            await google.colab.kernel.invokeFunction('convertToInteractive',\n",
              "                                                     [key], {});\n",
              "          if (!dataTable) return;\n",
              "\n",
              "          const docLinkHtml = 'Like what you see? Visit the ' +\n",
              "            '<a target=\"_blank\" href=https://colab.research.google.com/notebooks/data_table.ipynb>data table notebook</a>'\n",
              "            + ' to learn more about interactive tables.';\n",
              "          element.innerHTML = '';\n",
              "          dataTable['output_type'] = 'display_data';\n",
              "          await google.colab.output.renderOutput(dataTable, element);\n",
              "          const docLink = document.createElement('div');\n",
              "          docLink.innerHTML = docLinkHtml;\n",
              "          element.appendChild(docLink);\n",
              "        }\n",
              "      </script>\n",
              "    </div>\n",
              "  </div>\n",
              "  "
            ],
            "text/plain": [
              "    sex   age  ... district_of_onset                              risk\n",
              "0  หญิง  61.0  ...               NaN  คนต่างชาติเดินทางมาจากต่างประเทศ\n",
              "1  หญิง  74.0  ...               NaN  คนต่างชาติเดินทางมาจากต่างประเทศ\n",
              "2  หญิง  73.0  ...             เมือง  คนต่างชาติเดินทางมาจากต่างประเทศ\n",
              "3   ชาย  68.0  ...               NaN  คนต่างชาติเดินทางมาจากต่างประเทศ\n",
              "4  หญิง  66.0  ...               NaN  คนต่างชาติเดินทางมาจากต่างประเทศ\n",
              "5  หญิง  33.0  ...               NaN  คนต่างชาติเดินทางมาจากต่างประเทศ\n",
              "6  หญิง  57.0  ...               NaN  คนต่างชาติเดินทางมาจากต่างประเทศ\n",
              "7  หญิง  73.0  ...            หัวหิน  คนต่างชาติเดินทางมาจากต่างประเทศ\n",
              "\n",
              "[8 rows x 7 columns]"
            ]
          },
          "metadata": {},
          "execution_count": 20
        }
      ]
    },
    {
      "cell_type": "code",
      "metadata": {
        "colab": {
          "base_uri": "https://localhost:8080/",
          "height": 175
        },
        "id": "3NeywU6J48Vv",
        "outputId": "0c04be1d-ca54-4188-e60f-214404399564"
      },
      "source": [
        "eight_rows_covid[[True,False,True,True,False,True,False,False]]   #2.   ใส่ list ที่มีค่า logic ของแต่ละ rows โดยที่ค่า True คือ เลือก  ค่า false คือ ไม่เลือก"
      ],
      "execution_count": 21,
      "outputs": [
        {
          "output_type": "execute_result",
          "data": {
            "text/html": [
              "\n",
              "  <div id=\"df-401d0310-c24a-44ab-ae1e-094885f512a3\">\n",
              "    <div class=\"colab-df-container\">\n",
              "      <div>\n",
              "<style scoped>\n",
              "    .dataframe tbody tr th:only-of-type {\n",
              "        vertical-align: middle;\n",
              "    }\n",
              "\n",
              "    .dataframe tbody tr th {\n",
              "        vertical-align: top;\n",
              "    }\n",
              "\n",
              "    .dataframe thead th {\n",
              "        text-align: right;\n",
              "    }\n",
              "</style>\n",
              "<table border=\"1\" class=\"dataframe\">\n",
              "  <thead>\n",
              "    <tr style=\"text-align: right;\">\n",
              "      <th></th>\n",
              "      <th>sex</th>\n",
              "      <th>age</th>\n",
              "      <th>nationality</th>\n",
              "      <th>province_of_isolation</th>\n",
              "      <th>province_of_onset</th>\n",
              "      <th>district_of_onset</th>\n",
              "      <th>risk</th>\n",
              "    </tr>\n",
              "  </thead>\n",
              "  <tbody>\n",
              "    <tr>\n",
              "      <th>0</th>\n",
              "      <td>หญิง</td>\n",
              "      <td>61.0</td>\n",
              "      <td>China</td>\n",
              "      <td>กรุงเทพมหานคร</td>\n",
              "      <td>กรุงเทพมหานคร</td>\n",
              "      <td>NaN</td>\n",
              "      <td>คนต่างชาติเดินทางมาจากต่างประเทศ</td>\n",
              "    </tr>\n",
              "    <tr>\n",
              "      <th>2</th>\n",
              "      <td>หญิง</td>\n",
              "      <td>73.0</td>\n",
              "      <td>Thailand</td>\n",
              "      <td>นครปฐม</td>\n",
              "      <td>นครปฐม</td>\n",
              "      <td>เมือง</td>\n",
              "      <td>คนต่างชาติเดินทางมาจากต่างประเทศ</td>\n",
              "    </tr>\n",
              "    <tr>\n",
              "      <th>3</th>\n",
              "      <td>ชาย</td>\n",
              "      <td>68.0</td>\n",
              "      <td>China</td>\n",
              "      <td>กรุงเทพมหานคร</td>\n",
              "      <td>กรุงเทพมหานคร</td>\n",
              "      <td>NaN</td>\n",
              "      <td>คนต่างชาติเดินทางมาจากต่างประเทศ</td>\n",
              "    </tr>\n",
              "    <tr>\n",
              "      <th>5</th>\n",
              "      <td>หญิง</td>\n",
              "      <td>33.0</td>\n",
              "      <td>China</td>\n",
              "      <td>กรุงเทพมหานคร</td>\n",
              "      <td>กรุงเทพมหานคร</td>\n",
              "      <td>NaN</td>\n",
              "      <td>คนต่างชาติเดินทางมาจากต่างประเทศ</td>\n",
              "    </tr>\n",
              "  </tbody>\n",
              "</table>\n",
              "</div>\n",
              "      <button class=\"colab-df-convert\" onclick=\"convertToInteractive('df-401d0310-c24a-44ab-ae1e-094885f512a3')\"\n",
              "              title=\"Convert this dataframe to an interactive table.\"\n",
              "              style=\"display:none;\">\n",
              "        \n",
              "  <svg xmlns=\"http://www.w3.org/2000/svg\" height=\"24px\"viewBox=\"0 0 24 24\"\n",
              "       width=\"24px\">\n",
              "    <path d=\"M0 0h24v24H0V0z\" fill=\"none\"/>\n",
              "    <path d=\"M18.56 5.44l.94 2.06.94-2.06 2.06-.94-2.06-.94-.94-2.06-.94 2.06-2.06.94zm-11 1L8.5 8.5l.94-2.06 2.06-.94-2.06-.94L8.5 2.5l-.94 2.06-2.06.94zm10 10l.94 2.06.94-2.06 2.06-.94-2.06-.94-.94-2.06-.94 2.06-2.06.94z\"/><path d=\"M17.41 7.96l-1.37-1.37c-.4-.4-.92-.59-1.43-.59-.52 0-1.04.2-1.43.59L10.3 9.45l-7.72 7.72c-.78.78-.78 2.05 0 2.83L4 21.41c.39.39.9.59 1.41.59.51 0 1.02-.2 1.41-.59l7.78-7.78 2.81-2.81c.8-.78.8-2.07 0-2.86zM5.41 20L4 18.59l7.72-7.72 1.47 1.35L5.41 20z\"/>\n",
              "  </svg>\n",
              "      </button>\n",
              "      \n",
              "  <style>\n",
              "    .colab-df-container {\n",
              "      display:flex;\n",
              "      flex-wrap:wrap;\n",
              "      gap: 12px;\n",
              "    }\n",
              "\n",
              "    .colab-df-convert {\n",
              "      background-color: #E8F0FE;\n",
              "      border: none;\n",
              "      border-radius: 50%;\n",
              "      cursor: pointer;\n",
              "      display: none;\n",
              "      fill: #1967D2;\n",
              "      height: 32px;\n",
              "      padding: 0 0 0 0;\n",
              "      width: 32px;\n",
              "    }\n",
              "\n",
              "    .colab-df-convert:hover {\n",
              "      background-color: #E2EBFA;\n",
              "      box-shadow: 0px 1px 2px rgba(60, 64, 67, 0.3), 0px 1px 3px 1px rgba(60, 64, 67, 0.15);\n",
              "      fill: #174EA6;\n",
              "    }\n",
              "\n",
              "    [theme=dark] .colab-df-convert {\n",
              "      background-color: #3B4455;\n",
              "      fill: #D2E3FC;\n",
              "    }\n",
              "\n",
              "    [theme=dark] .colab-df-convert:hover {\n",
              "      background-color: #434B5C;\n",
              "      box-shadow: 0px 1px 3px 1px rgba(0, 0, 0, 0.15);\n",
              "      filter: drop-shadow(0px 1px 2px rgba(0, 0, 0, 0.3));\n",
              "      fill: #FFFFFF;\n",
              "    }\n",
              "  </style>\n",
              "\n",
              "      <script>\n",
              "        const buttonEl =\n",
              "          document.querySelector('#df-401d0310-c24a-44ab-ae1e-094885f512a3 button.colab-df-convert');\n",
              "        buttonEl.style.display =\n",
              "          google.colab.kernel.accessAllowed ? 'block' : 'none';\n",
              "\n",
              "        async function convertToInteractive(key) {\n",
              "          const element = document.querySelector('#df-401d0310-c24a-44ab-ae1e-094885f512a3');\n",
              "          const dataTable =\n",
              "            await google.colab.kernel.invokeFunction('convertToInteractive',\n",
              "                                                     [key], {});\n",
              "          if (!dataTable) return;\n",
              "\n",
              "          const docLinkHtml = 'Like what you see? Visit the ' +\n",
              "            '<a target=\"_blank\" href=https://colab.research.google.com/notebooks/data_table.ipynb>data table notebook</a>'\n",
              "            + ' to learn more about interactive tables.';\n",
              "          element.innerHTML = '';\n",
              "          dataTable['output_type'] = 'display_data';\n",
              "          await google.colab.output.renderOutput(dataTable, element);\n",
              "          const docLink = document.createElement('div');\n",
              "          docLink.innerHTML = docLinkHtml;\n",
              "          element.appendChild(docLink);\n",
              "        }\n",
              "      </script>\n",
              "    </div>\n",
              "  </div>\n",
              "  "
            ],
            "text/plain": [
              "    sex   age  ... district_of_onset                              risk\n",
              "0  หญิง  61.0  ...               NaN  คนต่างชาติเดินทางมาจากต่างประเทศ\n",
              "2  หญิง  73.0  ...             เมือง  คนต่างชาติเดินทางมาจากต่างประเทศ\n",
              "3   ชาย  68.0  ...               NaN  คนต่างชาติเดินทางมาจากต่างประเทศ\n",
              "5  หญิง  33.0  ...               NaN  คนต่างชาติเดินทางมาจากต่างประเทศ\n",
              "\n",
              "[4 rows x 7 columns]"
            ]
          },
          "metadata": {},
          "execution_count": 21
        }
      ]
    },
    {
      "cell_type": "code",
      "source": [
        "eight_rows_covid[[True,False,True,True,False,True,False]]  # ถ้าเราใส่ True, False ไม่ครบตาม rows ที่กำหนด จะ error"
      ],
      "metadata": {
        "id": "GaOHO1mqaZzo",
        "outputId": "1c014eab-6bdd-45fe-ecf0-4b7eca6e75f1",
        "colab": {
          "base_uri": "https://localhost:8080/",
          "height": 312
        }
      },
      "execution_count": 22,
      "outputs": [
        {
          "output_type": "error",
          "ename": "ValueError",
          "evalue": "ignored",
          "traceback": [
            "\u001b[0;31m---------------------------------------------------------------------------\u001b[0m",
            "\u001b[0;31mValueError\u001b[0m                                Traceback (most recent call last)",
            "\u001b[0;32m<ipython-input-22-0ee32aa11baa>\u001b[0m in \u001b[0;36m<module>\u001b[0;34m()\u001b[0m\n\u001b[0;32m----> 1\u001b[0;31m \u001b[0meight_rows_covid\u001b[0m\u001b[0;34m[\u001b[0m\u001b[0;34m[\u001b[0m\u001b[0;32mTrue\u001b[0m\u001b[0;34m,\u001b[0m\u001b[0;32mFalse\u001b[0m\u001b[0;34m,\u001b[0m\u001b[0;32mTrue\u001b[0m\u001b[0;34m,\u001b[0m\u001b[0;32mTrue\u001b[0m\u001b[0;34m,\u001b[0m\u001b[0;32mFalse\u001b[0m\u001b[0;34m,\u001b[0m\u001b[0;32mTrue\u001b[0m\u001b[0;34m,\u001b[0m\u001b[0;32mFalse\u001b[0m\u001b[0;34m]\u001b[0m\u001b[0;34m]\u001b[0m  \u001b[0;31m# ถ้าเราใส่ True, False ไม่ครบตาม rows ที่กำหนด จะ error\u001b[0m\u001b[0;34m\u001b[0m\u001b[0;34m\u001b[0m\u001b[0m\n\u001b[0m",
            "\u001b[0;32m/usr/local/lib/python3.7/dist-packages/pandas/core/frame.py\u001b[0m in \u001b[0;36m__getitem__\u001b[0;34m(self, key)\u001b[0m\n\u001b[1;32m   2895\u001b[0m         \u001b[0;31m# Do we have a (boolean) 1d indexer?\u001b[0m\u001b[0;34m\u001b[0m\u001b[0;34m\u001b[0m\u001b[0;34m\u001b[0m\u001b[0m\n\u001b[1;32m   2896\u001b[0m         \u001b[0;32mif\u001b[0m \u001b[0mcom\u001b[0m\u001b[0;34m.\u001b[0m\u001b[0mis_bool_indexer\u001b[0m\u001b[0;34m(\u001b[0m\u001b[0mkey\u001b[0m\u001b[0;34m)\u001b[0m\u001b[0;34m:\u001b[0m\u001b[0;34m\u001b[0m\u001b[0;34m\u001b[0m\u001b[0m\n\u001b[0;32m-> 2897\u001b[0;31m             \u001b[0;32mreturn\u001b[0m \u001b[0mself\u001b[0m\u001b[0;34m.\u001b[0m\u001b[0m_getitem_bool_array\u001b[0m\u001b[0;34m(\u001b[0m\u001b[0mkey\u001b[0m\u001b[0;34m)\u001b[0m\u001b[0;34m\u001b[0m\u001b[0;34m\u001b[0m\u001b[0m\n\u001b[0m\u001b[1;32m   2898\u001b[0m \u001b[0;34m\u001b[0m\u001b[0m\n\u001b[1;32m   2899\u001b[0m         \u001b[0;31m# We are left with two options: a single key, and a collection of keys,\u001b[0m\u001b[0;34m\u001b[0m\u001b[0;34m\u001b[0m\u001b[0;34m\u001b[0m\u001b[0m\n",
            "\u001b[0;32m/usr/local/lib/python3.7/dist-packages/pandas/core/frame.py\u001b[0m in \u001b[0;36m_getitem_bool_array\u001b[0;34m(self, key)\u001b[0m\n\u001b[1;32m   2942\u001b[0m         \u001b[0;32melif\u001b[0m \u001b[0mlen\u001b[0m\u001b[0;34m(\u001b[0m\u001b[0mkey\u001b[0m\u001b[0;34m)\u001b[0m \u001b[0;34m!=\u001b[0m \u001b[0mlen\u001b[0m\u001b[0;34m(\u001b[0m\u001b[0mself\u001b[0m\u001b[0;34m.\u001b[0m\u001b[0mindex\u001b[0m\u001b[0;34m)\u001b[0m\u001b[0;34m:\u001b[0m\u001b[0;34m\u001b[0m\u001b[0;34m\u001b[0m\u001b[0m\n\u001b[1;32m   2943\u001b[0m             raise ValueError(\n\u001b[0;32m-> 2944\u001b[0;31m                 \u001b[0;34mf\"Item wrong length {len(key)} instead of {len(self.index)}.\"\u001b[0m\u001b[0;34m\u001b[0m\u001b[0;34m\u001b[0m\u001b[0m\n\u001b[0m\u001b[1;32m   2945\u001b[0m             )\n\u001b[1;32m   2946\u001b[0m \u001b[0;34m\u001b[0m\u001b[0m\n",
            "\u001b[0;31mValueError\u001b[0m: Item wrong length 7 instead of 8."
          ]
        }
      ]
    },
    {
      "cell_type": "code",
      "metadata": {
        "colab": {
          "base_uri": "https://localhost:8080/"
        },
        "id": "VaD8Uq625Xsk",
        "outputId": "2d0c46e8-0777-420e-8baa-adc34391fec0"
      },
      "source": [
        "eight_rows_covid['province_of_onset'] == 'กรุงเทพมหานคร'  #สร้าง list ของ logical expression"
      ],
      "execution_count": 23,
      "outputs": [
        {
          "output_type": "execute_result",
          "data": {
            "text/plain": [
              "0     True\n",
              "1     True\n",
              "2    False\n",
              "3     True\n",
              "4     True\n",
              "5     True\n",
              "6     True\n",
              "7    False\n",
              "Name: province_of_onset, dtype: bool"
            ]
          },
          "metadata": {},
          "execution_count": 23
        }
      ]
    },
    {
      "cell_type": "code",
      "metadata": {
        "colab": {
          "base_uri": "https://localhost:8080/",
          "height": 238
        },
        "id": "Ch14sJ-c6MFP",
        "outputId": "95001f6f-59dc-451f-8435-6af76c50036d"
      },
      "source": [
        "eight_rows_covid[eight_rows_covid['province_of_onset'] == 'กรุงเทพมหานคร']  #เราเอา 2 บรรทัดบนมาบวกกัน"
      ],
      "execution_count": 24,
      "outputs": [
        {
          "output_type": "execute_result",
          "data": {
            "text/html": [
              "\n",
              "  <div id=\"df-aac98c76-29e9-4932-9191-fbf3cecf0051\">\n",
              "    <div class=\"colab-df-container\">\n",
              "      <div>\n",
              "<style scoped>\n",
              "    .dataframe tbody tr th:only-of-type {\n",
              "        vertical-align: middle;\n",
              "    }\n",
              "\n",
              "    .dataframe tbody tr th {\n",
              "        vertical-align: top;\n",
              "    }\n",
              "\n",
              "    .dataframe thead th {\n",
              "        text-align: right;\n",
              "    }\n",
              "</style>\n",
              "<table border=\"1\" class=\"dataframe\">\n",
              "  <thead>\n",
              "    <tr style=\"text-align: right;\">\n",
              "      <th></th>\n",
              "      <th>sex</th>\n",
              "      <th>age</th>\n",
              "      <th>nationality</th>\n",
              "      <th>province_of_isolation</th>\n",
              "      <th>province_of_onset</th>\n",
              "      <th>district_of_onset</th>\n",
              "      <th>risk</th>\n",
              "    </tr>\n",
              "  </thead>\n",
              "  <tbody>\n",
              "    <tr>\n",
              "      <th>0</th>\n",
              "      <td>หญิง</td>\n",
              "      <td>61.0</td>\n",
              "      <td>China</td>\n",
              "      <td>กรุงเทพมหานคร</td>\n",
              "      <td>กรุงเทพมหานคร</td>\n",
              "      <td>NaN</td>\n",
              "      <td>คนต่างชาติเดินทางมาจากต่างประเทศ</td>\n",
              "    </tr>\n",
              "    <tr>\n",
              "      <th>1</th>\n",
              "      <td>หญิง</td>\n",
              "      <td>74.0</td>\n",
              "      <td>China</td>\n",
              "      <td>กรุงเทพมหานคร</td>\n",
              "      <td>กรุงเทพมหานคร</td>\n",
              "      <td>NaN</td>\n",
              "      <td>คนต่างชาติเดินทางมาจากต่างประเทศ</td>\n",
              "    </tr>\n",
              "    <tr>\n",
              "      <th>3</th>\n",
              "      <td>ชาย</td>\n",
              "      <td>68.0</td>\n",
              "      <td>China</td>\n",
              "      <td>กรุงเทพมหานคร</td>\n",
              "      <td>กรุงเทพมหานคร</td>\n",
              "      <td>NaN</td>\n",
              "      <td>คนต่างชาติเดินทางมาจากต่างประเทศ</td>\n",
              "    </tr>\n",
              "    <tr>\n",
              "      <th>4</th>\n",
              "      <td>หญิง</td>\n",
              "      <td>66.0</td>\n",
              "      <td>China</td>\n",
              "      <td>นนทบุรี</td>\n",
              "      <td>กรุงเทพมหานคร</td>\n",
              "      <td>NaN</td>\n",
              "      <td>คนต่างชาติเดินทางมาจากต่างประเทศ</td>\n",
              "    </tr>\n",
              "    <tr>\n",
              "      <th>5</th>\n",
              "      <td>หญิง</td>\n",
              "      <td>33.0</td>\n",
              "      <td>China</td>\n",
              "      <td>กรุงเทพมหานคร</td>\n",
              "      <td>กรุงเทพมหานคร</td>\n",
              "      <td>NaN</td>\n",
              "      <td>คนต่างชาติเดินทางมาจากต่างประเทศ</td>\n",
              "    </tr>\n",
              "    <tr>\n",
              "      <th>6</th>\n",
              "      <td>หญิง</td>\n",
              "      <td>57.0</td>\n",
              "      <td>China</td>\n",
              "      <td>กรุงเทพมหานคร</td>\n",
              "      <td>กรุงเทพมหานคร</td>\n",
              "      <td>NaN</td>\n",
              "      <td>คนต่างชาติเดินทางมาจากต่างประเทศ</td>\n",
              "    </tr>\n",
              "  </tbody>\n",
              "</table>\n",
              "</div>\n",
              "      <button class=\"colab-df-convert\" onclick=\"convertToInteractive('df-aac98c76-29e9-4932-9191-fbf3cecf0051')\"\n",
              "              title=\"Convert this dataframe to an interactive table.\"\n",
              "              style=\"display:none;\">\n",
              "        \n",
              "  <svg xmlns=\"http://www.w3.org/2000/svg\" height=\"24px\"viewBox=\"0 0 24 24\"\n",
              "       width=\"24px\">\n",
              "    <path d=\"M0 0h24v24H0V0z\" fill=\"none\"/>\n",
              "    <path d=\"M18.56 5.44l.94 2.06.94-2.06 2.06-.94-2.06-.94-.94-2.06-.94 2.06-2.06.94zm-11 1L8.5 8.5l.94-2.06 2.06-.94-2.06-.94L8.5 2.5l-.94 2.06-2.06.94zm10 10l.94 2.06.94-2.06 2.06-.94-2.06-.94-.94-2.06-.94 2.06-2.06.94z\"/><path d=\"M17.41 7.96l-1.37-1.37c-.4-.4-.92-.59-1.43-.59-.52 0-1.04.2-1.43.59L10.3 9.45l-7.72 7.72c-.78.78-.78 2.05 0 2.83L4 21.41c.39.39.9.59 1.41.59.51 0 1.02-.2 1.41-.59l7.78-7.78 2.81-2.81c.8-.78.8-2.07 0-2.86zM5.41 20L4 18.59l7.72-7.72 1.47 1.35L5.41 20z\"/>\n",
              "  </svg>\n",
              "      </button>\n",
              "      \n",
              "  <style>\n",
              "    .colab-df-container {\n",
              "      display:flex;\n",
              "      flex-wrap:wrap;\n",
              "      gap: 12px;\n",
              "    }\n",
              "\n",
              "    .colab-df-convert {\n",
              "      background-color: #E8F0FE;\n",
              "      border: none;\n",
              "      border-radius: 50%;\n",
              "      cursor: pointer;\n",
              "      display: none;\n",
              "      fill: #1967D2;\n",
              "      height: 32px;\n",
              "      padding: 0 0 0 0;\n",
              "      width: 32px;\n",
              "    }\n",
              "\n",
              "    .colab-df-convert:hover {\n",
              "      background-color: #E2EBFA;\n",
              "      box-shadow: 0px 1px 2px rgba(60, 64, 67, 0.3), 0px 1px 3px 1px rgba(60, 64, 67, 0.15);\n",
              "      fill: #174EA6;\n",
              "    }\n",
              "\n",
              "    [theme=dark] .colab-df-convert {\n",
              "      background-color: #3B4455;\n",
              "      fill: #D2E3FC;\n",
              "    }\n",
              "\n",
              "    [theme=dark] .colab-df-convert:hover {\n",
              "      background-color: #434B5C;\n",
              "      box-shadow: 0px 1px 3px 1px rgba(0, 0, 0, 0.15);\n",
              "      filter: drop-shadow(0px 1px 2px rgba(0, 0, 0, 0.3));\n",
              "      fill: #FFFFFF;\n",
              "    }\n",
              "  </style>\n",
              "\n",
              "      <script>\n",
              "        const buttonEl =\n",
              "          document.querySelector('#df-aac98c76-29e9-4932-9191-fbf3cecf0051 button.colab-df-convert');\n",
              "        buttonEl.style.display =\n",
              "          google.colab.kernel.accessAllowed ? 'block' : 'none';\n",
              "\n",
              "        async function convertToInteractive(key) {\n",
              "          const element = document.querySelector('#df-aac98c76-29e9-4932-9191-fbf3cecf0051');\n",
              "          const dataTable =\n",
              "            await google.colab.kernel.invokeFunction('convertToInteractive',\n",
              "                                                     [key], {});\n",
              "          if (!dataTable) return;\n",
              "\n",
              "          const docLinkHtml = 'Like what you see? Visit the ' +\n",
              "            '<a target=\"_blank\" href=https://colab.research.google.com/notebooks/data_table.ipynb>data table notebook</a>'\n",
              "            + ' to learn more about interactive tables.';\n",
              "          element.innerHTML = '';\n",
              "          dataTable['output_type'] = 'display_data';\n",
              "          await google.colab.output.renderOutput(dataTable, element);\n",
              "          const docLink = document.createElement('div');\n",
              "          docLink.innerHTML = docLinkHtml;\n",
              "          element.appendChild(docLink);\n",
              "        }\n",
              "      </script>\n",
              "    </div>\n",
              "  </div>\n",
              "  "
            ],
            "text/plain": [
              "    sex   age  ... district_of_onset                              risk\n",
              "0  หญิง  61.0  ...               NaN  คนต่างชาติเดินทางมาจากต่างประเทศ\n",
              "1  หญิง  74.0  ...               NaN  คนต่างชาติเดินทางมาจากต่างประเทศ\n",
              "3   ชาย  68.0  ...               NaN  คนต่างชาติเดินทางมาจากต่างประเทศ\n",
              "4  หญิง  66.0  ...               NaN  คนต่างชาติเดินทางมาจากต่างประเทศ\n",
              "5  หญิง  33.0  ...               NaN  คนต่างชาติเดินทางมาจากต่างประเทศ\n",
              "6  หญิง  57.0  ...               NaN  คนต่างชาติเดินทางมาจากต่างประเทศ\n",
              "\n",
              "[6 rows x 7 columns]"
            ]
          },
          "metadata": {},
          "execution_count": 24
        }
      ]
    },
    {
      "cell_type": "code",
      "source": [
        "eight_rows_covid ['district_of_onset'] == 'เมือง'"
      ],
      "metadata": {
        "id": "S4iVBNQ-a2v0",
        "outputId": "efabc496-140a-4ea1-d6d0-f541c26f1868",
        "colab": {
          "base_uri": "https://localhost:8080/"
        }
      },
      "execution_count": 29,
      "outputs": [
        {
          "output_type": "execute_result",
          "data": {
            "text/plain": [
              "0    False\n",
              "1    False\n",
              "2     True\n",
              "3    False\n",
              "4    False\n",
              "5    False\n",
              "6    False\n",
              "7    False\n",
              "Name: district_of_onset, dtype: bool"
            ]
          },
          "metadata": {},
          "execution_count": 29
        }
      ]
    },
    {
      "cell_type": "code",
      "source": [
        "import numpy as np"
      ],
      "metadata": {
        "id": "0w7tp-KvcaY-"
      },
      "execution_count": 30,
      "outputs": []
    },
    {
      "cell_type": "markdown",
      "source": [
        "$.isnull()$ ใช้ตรวจสอบ ว่าเป็น NaN หรือไม่"
      ],
      "metadata": {
        "id": "TPKWTrnyc3-h"
      }
    },
    {
      "cell_type": "code",
      "source": [
        "eight_rows_covid ['district_of_onset'].isnull()  # ค่าว่าง = True, ค่าไม่ว่าง = False"
      ],
      "metadata": {
        "id": "PlT2ZsAKbk5G",
        "outputId": "c4ceb20d-3f4e-4cec-9e55-78636491fdf2",
        "colab": {
          "base_uri": "https://localhost:8080/"
        }
      },
      "execution_count": 33,
      "outputs": [
        {
          "output_type": "execute_result",
          "data": {
            "text/plain": [
              "0     True\n",
              "1     True\n",
              "2    False\n",
              "3     True\n",
              "4     True\n",
              "5     True\n",
              "6     True\n",
              "7    False\n",
              "Name: district_of_onset, dtype: bool"
            ]
          },
          "metadata": {},
          "execution_count": 33
        }
      ]
    },
    {
      "cell_type": "markdown",
      "metadata": {
        "id": "HTZIBf0a7wTM"
      },
      "source": [
        "Quiz (ให้ใช้เฉพาะที่อาจารย์สอนไปแล้วในวิชานี้)\n",
        "\n",
        "1.   คำนวณ อายุเฉลี่ย **ของผู้ชาย** ในข้อมูลทั้งหมด\n",
        "2.   คำนวณ อายุเฉลี่ย **ของผู้ชาย** ในจังหวัดขอนแก่น\n",
        "3. หาจำนวนผู้ป่วยที่เป็นคน **ที่ไม่ใช่คนไทย**"
      ]
    },
    {
      "cell_type": "code",
      "metadata": {
        "id": "hxkhDHOK6hoc"
      },
      "source": [
        "this_data = data_covid[['sex','age','province_of_onset']]"
      ],
      "execution_count": 36,
      "outputs": []
    },
    {
      "cell_type": "code",
      "metadata": {
        "id": "KZvCLjtIYfV9",
        "colab": {
          "base_uri": "https://localhost:8080/",
          "height": 424
        },
        "outputId": "af0c02d7-1491-4003-b4cd-2e0d682e1641"
      },
      "source": [
        "this_data"
      ],
      "execution_count": 37,
      "outputs": [
        {
          "output_type": "execute_result",
          "data": {
            "text/html": [
              "\n",
              "  <div id=\"df-686339d5-6a7c-4eb3-86db-02ecba98accb\">\n",
              "    <div class=\"colab-df-container\">\n",
              "      <div>\n",
              "<style scoped>\n",
              "    .dataframe tbody tr th:only-of-type {\n",
              "        vertical-align: middle;\n",
              "    }\n",
              "\n",
              "    .dataframe tbody tr th {\n",
              "        vertical-align: top;\n",
              "    }\n",
              "\n",
              "    .dataframe thead th {\n",
              "        text-align: right;\n",
              "    }\n",
              "</style>\n",
              "<table border=\"1\" class=\"dataframe\">\n",
              "  <thead>\n",
              "    <tr style=\"text-align: right;\">\n",
              "      <th></th>\n",
              "      <th>sex</th>\n",
              "      <th>age</th>\n",
              "      <th>province_of_onset</th>\n",
              "    </tr>\n",
              "  </thead>\n",
              "  <tbody>\n",
              "    <tr>\n",
              "      <th>0</th>\n",
              "      <td>หญิง</td>\n",
              "      <td>61.0</td>\n",
              "      <td>กรุงเทพมหานคร</td>\n",
              "    </tr>\n",
              "    <tr>\n",
              "      <th>1</th>\n",
              "      <td>หญิง</td>\n",
              "      <td>74.0</td>\n",
              "      <td>กรุงเทพมหานคร</td>\n",
              "    </tr>\n",
              "    <tr>\n",
              "      <th>2</th>\n",
              "      <td>หญิง</td>\n",
              "      <td>73.0</td>\n",
              "      <td>นครปฐม</td>\n",
              "    </tr>\n",
              "    <tr>\n",
              "      <th>3</th>\n",
              "      <td>ชาย</td>\n",
              "      <td>68.0</td>\n",
              "      <td>กรุงเทพมหานคร</td>\n",
              "    </tr>\n",
              "    <tr>\n",
              "      <th>4</th>\n",
              "      <td>หญิง</td>\n",
              "      <td>66.0</td>\n",
              "      <td>กรุงเทพมหานคร</td>\n",
              "    </tr>\n",
              "    <tr>\n",
              "      <th>...</th>\n",
              "      <td>...</td>\n",
              "      <td>...</td>\n",
              "      <td>...</td>\n",
              "    </tr>\n",
              "    <tr>\n",
              "      <th>12648</th>\n",
              "      <td>หญิง</td>\n",
              "      <td>44.0</td>\n",
              "      <td>ชลบุรี</td>\n",
              "    </tr>\n",
              "    <tr>\n",
              "      <th>12649</th>\n",
              "      <td>หญิง</td>\n",
              "      <td>52.0</td>\n",
              "      <td>ระยอง</td>\n",
              "    </tr>\n",
              "    <tr>\n",
              "      <th>12650</th>\n",
              "      <td>หญิง</td>\n",
              "      <td>23.0</td>\n",
              "      <td>ระยอง</td>\n",
              "    </tr>\n",
              "    <tr>\n",
              "      <th>12651</th>\n",
              "      <td>หญิง</td>\n",
              "      <td>29.0</td>\n",
              "      <td>ระยอง</td>\n",
              "    </tr>\n",
              "    <tr>\n",
              "      <th>12652</th>\n",
              "      <td>หญิง</td>\n",
              "      <td>22.0</td>\n",
              "      <td>ตาก</td>\n",
              "    </tr>\n",
              "  </tbody>\n",
              "</table>\n",
              "<p>12653 rows × 3 columns</p>\n",
              "</div>\n",
              "      <button class=\"colab-df-convert\" onclick=\"convertToInteractive('df-686339d5-6a7c-4eb3-86db-02ecba98accb')\"\n",
              "              title=\"Convert this dataframe to an interactive table.\"\n",
              "              style=\"display:none;\">\n",
              "        \n",
              "  <svg xmlns=\"http://www.w3.org/2000/svg\" height=\"24px\"viewBox=\"0 0 24 24\"\n",
              "       width=\"24px\">\n",
              "    <path d=\"M0 0h24v24H0V0z\" fill=\"none\"/>\n",
              "    <path d=\"M18.56 5.44l.94 2.06.94-2.06 2.06-.94-2.06-.94-.94-2.06-.94 2.06-2.06.94zm-11 1L8.5 8.5l.94-2.06 2.06-.94-2.06-.94L8.5 2.5l-.94 2.06-2.06.94zm10 10l.94 2.06.94-2.06 2.06-.94-2.06-.94-.94-2.06-.94 2.06-2.06.94z\"/><path d=\"M17.41 7.96l-1.37-1.37c-.4-.4-.92-.59-1.43-.59-.52 0-1.04.2-1.43.59L10.3 9.45l-7.72 7.72c-.78.78-.78 2.05 0 2.83L4 21.41c.39.39.9.59 1.41.59.51 0 1.02-.2 1.41-.59l7.78-7.78 2.81-2.81c.8-.78.8-2.07 0-2.86zM5.41 20L4 18.59l7.72-7.72 1.47 1.35L5.41 20z\"/>\n",
              "  </svg>\n",
              "      </button>\n",
              "      \n",
              "  <style>\n",
              "    .colab-df-container {\n",
              "      display:flex;\n",
              "      flex-wrap:wrap;\n",
              "      gap: 12px;\n",
              "    }\n",
              "\n",
              "    .colab-df-convert {\n",
              "      background-color: #E8F0FE;\n",
              "      border: none;\n",
              "      border-radius: 50%;\n",
              "      cursor: pointer;\n",
              "      display: none;\n",
              "      fill: #1967D2;\n",
              "      height: 32px;\n",
              "      padding: 0 0 0 0;\n",
              "      width: 32px;\n",
              "    }\n",
              "\n",
              "    .colab-df-convert:hover {\n",
              "      background-color: #E2EBFA;\n",
              "      box-shadow: 0px 1px 2px rgba(60, 64, 67, 0.3), 0px 1px 3px 1px rgba(60, 64, 67, 0.15);\n",
              "      fill: #174EA6;\n",
              "    }\n",
              "\n",
              "    [theme=dark] .colab-df-convert {\n",
              "      background-color: #3B4455;\n",
              "      fill: #D2E3FC;\n",
              "    }\n",
              "\n",
              "    [theme=dark] .colab-df-convert:hover {\n",
              "      background-color: #434B5C;\n",
              "      box-shadow: 0px 1px 3px 1px rgba(0, 0, 0, 0.15);\n",
              "      filter: drop-shadow(0px 1px 2px rgba(0, 0, 0, 0.3));\n",
              "      fill: #FFFFFF;\n",
              "    }\n",
              "  </style>\n",
              "\n",
              "      <script>\n",
              "        const buttonEl =\n",
              "          document.querySelector('#df-686339d5-6a7c-4eb3-86db-02ecba98accb button.colab-df-convert');\n",
              "        buttonEl.style.display =\n",
              "          google.colab.kernel.accessAllowed ? 'block' : 'none';\n",
              "\n",
              "        async function convertToInteractive(key) {\n",
              "          const element = document.querySelector('#df-686339d5-6a7c-4eb3-86db-02ecba98accb');\n",
              "          const dataTable =\n",
              "            await google.colab.kernel.invokeFunction('convertToInteractive',\n",
              "                                                     [key], {});\n",
              "          if (!dataTable) return;\n",
              "\n",
              "          const docLinkHtml = 'Like what you see? Visit the ' +\n",
              "            '<a target=\"_blank\" href=https://colab.research.google.com/notebooks/data_table.ipynb>data table notebook</a>'\n",
              "            + ' to learn more about interactive tables.';\n",
              "          element.innerHTML = '';\n",
              "          dataTable['output_type'] = 'display_data';\n",
              "          await google.colab.output.renderOutput(dataTable, element);\n",
              "          const docLink = document.createElement('div');\n",
              "          docLink.innerHTML = docLinkHtml;\n",
              "          element.appendChild(docLink);\n",
              "        }\n",
              "      </script>\n",
              "    </div>\n",
              "  </div>\n",
              "  "
            ],
            "text/plain": [
              "        sex   age province_of_onset\n",
              "0      หญิง  61.0     กรุงเทพมหานคร\n",
              "1      หญิง  74.0     กรุงเทพมหานคร\n",
              "2      หญิง  73.0            นครปฐม\n",
              "3       ชาย  68.0     กรุงเทพมหานคร\n",
              "4      หญิง  66.0     กรุงเทพมหานคร\n",
              "...     ...   ...               ...\n",
              "12648  หญิง  44.0            ชลบุรี\n",
              "12649  หญิง  52.0             ระยอง\n",
              "12650  หญิง  23.0             ระยอง\n",
              "12651  หญิง  29.0             ระยอง\n",
              "12652  หญิง  22.0               ตาก\n",
              "\n",
              "[12653 rows x 3 columns]"
            ]
          },
          "metadata": {},
          "execution_count": 37
        }
      ]
    },
    {
      "cell_type": "code",
      "metadata": {
        "id": "O-364VUjYgxw",
        "colab": {
          "base_uri": "https://localhost:8080/"
        },
        "outputId": "32788f15-1762-4677-c569-cdd3da343d2a"
      },
      "source": [
        "female = this_data[this_data['sex']=='หญิง']\n",
        "female['age']"
      ],
      "execution_count": 38,
      "outputs": [
        {
          "output_type": "execute_result",
          "data": {
            "text/plain": [
              "0        61.0\n",
              "1        74.0\n",
              "2        73.0\n",
              "4        66.0\n",
              "5        33.0\n",
              "         ... \n",
              "12648    44.0\n",
              "12649    52.0\n",
              "12650    23.0\n",
              "12651    29.0\n",
              "12652    22.0\n",
              "Name: age, Length: 5332, dtype: float64"
            ]
          },
          "metadata": {},
          "execution_count": 38
        }
      ]
    },
    {
      "cell_type": "code",
      "metadata": {
        "id": "jdDlyCZiY_U3",
        "colab": {
          "base_uri": "https://localhost:8080/"
        },
        "outputId": "19848f22-9065-4431-d0e8-95d4592d3695"
      },
      "source": [
        "sum = 0\n",
        "N = 0\n",
        "for a in female['age']:\n",
        "    \n",
        "    if a > 0:\n",
        "        sum += a # sum = sum + a\n",
        "        N += 1\n",
        "\n",
        "print(f'อายุเฉลี่ย ของ ผู้ป่วยหญิง {sum/N}')"
      ],
      "execution_count": 39,
      "outputs": [
        {
          "output_type": "stream",
          "name": "stdout",
          "text": [
            "อายุเฉลี่ย ของ ผู้ป่วยหญิง 36.63955450022614\n"
          ]
        }
      ]
    },
    {
      "cell_type": "code",
      "metadata": {
        "id": "LpQi57Z8ZhIF",
        "colab": {
          "base_uri": "https://localhost:8080/"
        },
        "outputId": "e9e78fb1-fb4f-42d2-bb66-dfcf42ea708c"
      },
      "source": [
        "female_KK = female[female['province_of_onset']=='ขอนแก่น']\n",
        "\n",
        "sum = 0\n",
        "N = 0\n",
        "for a in female_KK['age']:\n",
        "    \n",
        "    if a > 0:\n",
        "        sum += a # sum = sum + a\n",
        "        N += 1\n",
        "\n",
        "print(f'อายุเฉลี่ย ของ ผู้ป่วยหญิง ในจังหวัดขอนแก่น {sum/N}')"
      ],
      "execution_count": 40,
      "outputs": [
        {
          "output_type": "stream",
          "name": "stdout",
          "text": [
            "อายุเฉลี่ย ของ ผู้ป่วยหญิง ในจังหวัดขอนแก่น 41.57142857142857\n"
          ]
        }
      ]
    },
    {
      "cell_type": "code",
      "source": [
        "male = this_data[this_data['sex']=='ชาย']\n",
        "male['age']"
      ],
      "metadata": {
        "id": "cx3Xy9l6eIPb",
        "outputId": "920fec8f-ade1-4771-e12e-3d1dcd0b6bbe",
        "colab": {
          "base_uri": "https://localhost:8080/"
        }
      },
      "execution_count": 41,
      "outputs": [
        {
          "output_type": "execute_result",
          "data": {
            "text/plain": [
              "3        68.0\n",
              "8        63.0\n",
              "10       33.0\n",
              "11       61.0\n",
              "12        6.0\n",
              "         ... \n",
              "12640    66.0\n",
              "12641    29.0\n",
              "12643    39.0\n",
              "12646    18.0\n",
              "12647    42.0\n",
              "Name: age, Length: 4819, dtype: float64"
            ]
          },
          "metadata": {},
          "execution_count": 41
        }
      ]
    },
    {
      "cell_type": "code",
      "source": [
        "sum = 0\n",
        "N = 0\n",
        "for a in male['age']:\n",
        "    \n",
        "    if a > 0:\n",
        "        sum += a # sum = sum + a\n",
        "        N += 1\n",
        "\n",
        "print(f'อายุเฉลี่ย ของ ผู้ป่วยชาย {sum/N}')"
      ],
      "metadata": {
        "id": "-tsiX_8Wenjm",
        "outputId": "007808a7-ee9d-4f73-ce64-fdf8ebec7a50",
        "colab": {
          "base_uri": "https://localhost:8080/"
        }
      },
      "execution_count": 42,
      "outputs": [
        {
          "output_type": "stream",
          "name": "stdout",
          "text": [
            "อายุเฉลี่ย ของ ผู้ป่วยชาย 39.46076940331987\n"
          ]
        }
      ]
    },
    {
      "cell_type": "code",
      "source": [
        "male_KK = male[male['province_of_onset']=='ขอนแก่น']\n",
        "\n",
        "sum = 0\n",
        "N = 0\n",
        "for a in male_KK['age']:\n",
        "    \n",
        "    if a > 0:\n",
        "        sum += a # sum = sum + a\n",
        "        N += 1\n",
        "\n",
        "print(f'อายุเฉลี่ย ของ ผู้ป่วยชาย ในจังหวัดขอนแก่น {sum/N}')"
      ],
      "metadata": {
        "id": "Ng4fEJFseul7",
        "outputId": "9b888404-27c9-4685-fc16-d682728b7373",
        "colab": {
          "base_uri": "https://localhost:8080/"
        }
      },
      "execution_count": 43,
      "outputs": [
        {
          "output_type": "stream",
          "name": "stdout",
          "text": [
            "อายุเฉลี่ย ของ ผู้ป่วยชาย ในจังหวัดขอนแก่น 26.571428571428573\n"
          ]
        }
      ]
    },
    {
      "cell_type": "code",
      "source": [
        "jj = data_covid[data_covid['nationality']!='Thailand']\n",
        "jj['nationality']"
      ],
      "metadata": {
        "id": "7TX8lcDzmukJ",
        "outputId": "57e29711-2715-462f-807f-2cc3a434bd35",
        "colab": {
          "base_uri": "https://localhost:8080/"
        }
      },
      "execution_count": 80,
      "outputs": [
        {
          "output_type": "execute_result",
          "data": {
            "text/plain": [
              "0           China\n",
              "1           China\n",
              "3           China\n",
              "4           China\n",
              "5           China\n",
              "           ...   \n",
              "12614       Burma\n",
              "12615       Burma\n",
              "12617     Ireland\n",
              "12618    Pakistan\n",
              "12652       Burma\n",
              "Name: nationality, Length: 5340, dtype: object"
            ]
          },
          "metadata": {},
          "execution_count": 80
        }
      ]
    },
    {
      "cell_type": "markdown",
      "metadata": {
        "id": "Jol0oyUYb2-9"
      },
      "source": [
        "การจัดการ Missing Value\n",
        "\n",
        "- ลบ record ที่เป็น missing \n",
        "- แทนที่ ค่า missing ด้วยค่าที่เหมาะสม mean, default, category-unknown\n",
        "- ใช้ ค่าจาก columns อื่นๆ ช่วยประมาณค่า ค่าใน column ที่หายไป (regression, deep learning, etc.)"
      ]
    },
    {
      "cell_type": "markdown",
      "metadata": {
        "id": "wedBfQPMePi6"
      },
      "source": [
        "### ลบ record (dropna)\n",
        "\n",
        "missing = ```None``` ```NA```(not autorized) ```NaN``` (not a number)"
      ]
    },
    {
      "cell_type": "code",
      "metadata": {
        "id": "x_f9i5-UePB-",
        "colab": {
          "base_uri": "https://localhost:8080/"
        },
        "outputId": "0f2d705d-966d-4308-e766-f92f8223db32"
      },
      "source": [
        "this_data.shape #(12423, 3)"
      ],
      "execution_count": null,
      "outputs": [
        {
          "output_type": "execute_result",
          "data": {
            "text/plain": [
              "(12653, 3)"
            ]
          },
          "metadata": {
            "tags": []
          },
          "execution_count": 19
        }
      ]
    },
    {
      "cell_type": "code",
      "metadata": {
        "id": "XHrGf2AUfSko",
        "colab": {
          "base_uri": "https://localhost:8080/"
        },
        "outputId": "4d2439bb-6708-4fe4-d2b7-4293b10894a7"
      },
      "source": [
        "print(data_covid.shape)\n",
        "print(data_covid.dropna().shape)"
      ],
      "execution_count": null,
      "outputs": [
        {
          "output_type": "stream",
          "text": [
            "(12653, 10)\n",
            "(6655, 10)\n"
          ],
          "name": "stdout"
        }
      ]
    },
    {
      "cell_type": "code",
      "metadata": {
        "id": "NIzVyhMvg7qc",
        "colab": {
          "base_uri": "https://localhost:8080/"
        },
        "outputId": "8eb46978-c434-41fc-a268-a5190c97c37c"
      },
      "source": [
        "this_data.dropna().shape"
      ],
      "execution_count": null,
      "outputs": [
        {
          "output_type": "execute_result",
          "data": {
            "text/plain": [
              "(8478, 3)"
            ]
          },
          "metadata": {
            "tags": []
          },
          "execution_count": 22
        }
      ]
    },
    {
      "cell_type": "code",
      "metadata": {
        "id": "ptnfU3OxhwpD",
        "colab": {
          "base_uri": "https://localhost:8080/",
          "height": 419
        },
        "outputId": "ed676f81-02b4-41ae-f2d0-515e42858ea1"
      },
      "source": [
        "this_data.dropna()"
      ],
      "execution_count": null,
      "outputs": [
        {
          "output_type": "execute_result",
          "data": {
            "text/html": [
              "<div>\n",
              "<style scoped>\n",
              "    .dataframe tbody tr th:only-of-type {\n",
              "        vertical-align: middle;\n",
              "    }\n",
              "\n",
              "    .dataframe tbody tr th {\n",
              "        vertical-align: top;\n",
              "    }\n",
              "\n",
              "    .dataframe thead th {\n",
              "        text-align: right;\n",
              "    }\n",
              "</style>\n",
              "<table border=\"1\" class=\"dataframe\">\n",
              "  <thead>\n",
              "    <tr style=\"text-align: right;\">\n",
              "      <th></th>\n",
              "      <th>sex</th>\n",
              "      <th>age</th>\n",
              "      <th>province_of_onset</th>\n",
              "    </tr>\n",
              "  </thead>\n",
              "  <tbody>\n",
              "    <tr>\n",
              "      <th>0</th>\n",
              "      <td>หญิง</td>\n",
              "      <td>61.0</td>\n",
              "      <td>กรุงเทพมหานคร</td>\n",
              "    </tr>\n",
              "    <tr>\n",
              "      <th>1</th>\n",
              "      <td>หญิง</td>\n",
              "      <td>74.0</td>\n",
              "      <td>กรุงเทพมหานคร</td>\n",
              "    </tr>\n",
              "    <tr>\n",
              "      <th>2</th>\n",
              "      <td>หญิง</td>\n",
              "      <td>73.0</td>\n",
              "      <td>นครปฐม</td>\n",
              "    </tr>\n",
              "    <tr>\n",
              "      <th>3</th>\n",
              "      <td>ชาย</td>\n",
              "      <td>68.0</td>\n",
              "      <td>กรุงเทพมหานคร</td>\n",
              "    </tr>\n",
              "    <tr>\n",
              "      <th>4</th>\n",
              "      <td>หญิง</td>\n",
              "      <td>66.0</td>\n",
              "      <td>กรุงเทพมหานคร</td>\n",
              "    </tr>\n",
              "    <tr>\n",
              "      <th>...</th>\n",
              "      <td>...</td>\n",
              "      <td>...</td>\n",
              "      <td>...</td>\n",
              "    </tr>\n",
              "    <tr>\n",
              "      <th>12648</th>\n",
              "      <td>หญิง</td>\n",
              "      <td>44.0</td>\n",
              "      <td>ชลบุรี</td>\n",
              "    </tr>\n",
              "    <tr>\n",
              "      <th>12649</th>\n",
              "      <td>หญิง</td>\n",
              "      <td>52.0</td>\n",
              "      <td>ระยอง</td>\n",
              "    </tr>\n",
              "    <tr>\n",
              "      <th>12650</th>\n",
              "      <td>หญิง</td>\n",
              "      <td>23.0</td>\n",
              "      <td>ระยอง</td>\n",
              "    </tr>\n",
              "    <tr>\n",
              "      <th>12651</th>\n",
              "      <td>หญิง</td>\n",
              "      <td>29.0</td>\n",
              "      <td>ระยอง</td>\n",
              "    </tr>\n",
              "    <tr>\n",
              "      <th>12652</th>\n",
              "      <td>หญิง</td>\n",
              "      <td>22.0</td>\n",
              "      <td>ตาก</td>\n",
              "    </tr>\n",
              "  </tbody>\n",
              "</table>\n",
              "<p>8478 rows × 3 columns</p>\n",
              "</div>"
            ],
            "text/plain": [
              "        sex   age province_of_onset\n",
              "0      หญิง  61.0     กรุงเทพมหานคร\n",
              "1      หญิง  74.0     กรุงเทพมหานคร\n",
              "2      หญิง  73.0            นครปฐม\n",
              "3       ชาย  68.0     กรุงเทพมหานคร\n",
              "4      หญิง  66.0     กรุงเทพมหานคร\n",
              "...     ...   ...               ...\n",
              "12648  หญิง  44.0            ชลบุรี\n",
              "12649  หญิง  52.0             ระยอง\n",
              "12650  หญิง  23.0             ระยอง\n",
              "12651  หญิง  29.0             ระยอง\n",
              "12652  หญิง  22.0               ตาก\n",
              "\n",
              "[8478 rows x 3 columns]"
            ]
          },
          "metadata": {
            "tags": []
          },
          "execution_count": 24
        }
      ]
    },
    {
      "cell_type": "code",
      "metadata": {
        "id": "yxmhbdWvhWKm",
        "colab": {
          "base_uri": "https://localhost:8080/"
        },
        "outputId": "4e0076ea-da40-4dea-e259-0e35900934f4"
      },
      "source": [
        "this_data.dropna()\n",
        "print(this_data.shape)"
      ],
      "execution_count": null,
      "outputs": [
        {
          "output_type": "stream",
          "text": [
            "(12653, 3)\n"
          ],
          "name": "stdout"
        }
      ]
    },
    {
      "cell_type": "code",
      "metadata": {
        "id": "5_FbVO65iZsL",
        "colab": {
          "base_uri": "https://localhost:8080/"
        },
        "outputId": "6b2d09bf-d3ed-4fef-e78c-8d60ee6d70e7"
      },
      "source": [
        "this_data.dropna(inplace=True)"
      ],
      "execution_count": null,
      "outputs": [
        {
          "output_type": "stream",
          "text": [
            "/usr/local/lib/python3.6/dist-packages/ipykernel_launcher.py:1: SettingWithCopyWarning: \n",
            "A value is trying to be set on a copy of a slice from a DataFrame\n",
            "\n",
            "See the caveats in the documentation: https://pandas.pydata.org/pandas-docs/stable/user_guide/indexing.html#returning-a-view-versus-a-copy\n",
            "  \"\"\"Entry point for launching an IPython kernel.\n"
          ],
          "name": "stderr"
        }
      ]
    },
    {
      "cell_type": "code",
      "metadata": {
        "id": "-S8vUhb_iKxj",
        "colab": {
          "base_uri": "https://localhost:8080/"
        },
        "outputId": "d2267ff6-f667-4ea5-8d30-3960340f8bd5"
      },
      "source": [
        "this_data.dropna(inplace=True)\n",
        "print(this_data.shape)"
      ],
      "execution_count": null,
      "outputs": [
        {
          "output_type": "stream",
          "text": [
            "(8478, 3)\n"
          ],
          "name": "stdout"
        },
        {
          "output_type": "stream",
          "text": [
            "/usr/local/lib/python3.6/dist-packages/ipykernel_launcher.py:1: SettingWithCopyWarning: \n",
            "A value is trying to be set on a copy of a slice from a DataFrame\n",
            "\n",
            "See the caveats in the documentation: https://pandas.pydata.org/pandas-docs/stable/user_guide/indexing.html#returning-a-view-versus-a-copy\n",
            "  \"\"\"Entry point for launching an IPython kernel.\n"
          ],
          "name": "stderr"
        }
      ]
    },
    {
      "cell_type": "code",
      "metadata": {
        "id": "0JuS46gSirwv",
        "colab": {
          "base_uri": "https://localhost:8080/"
        },
        "outputId": "431c5698-8ba2-4a55-ea83-d4ebceb9ac1f"
      },
      "source": [
        "this_data = data_covid[['sex','age','province_of_onset']]\n",
        "this_data.shape"
      ],
      "execution_count": null,
      "outputs": [
        {
          "output_type": "execute_result",
          "data": {
            "text/plain": [
              "(12653, 3)"
            ]
          },
          "metadata": {
            "tags": []
          },
          "execution_count": 28
        }
      ]
    },
    {
      "cell_type": "code",
      "metadata": {
        "id": "t4fJ3-PSjVi-",
        "colab": {
          "base_uri": "https://localhost:8080/"
        },
        "outputId": "9895cdb3-e111-4aa2-9d44-7ee027e226ab"
      },
      "source": [
        "this_data.dropna().shape"
      ],
      "execution_count": null,
      "outputs": [
        {
          "output_type": "execute_result",
          "data": {
            "text/plain": [
              "(8478, 3)"
            ]
          },
          "metadata": {
            "tags": []
          },
          "execution_count": 30
        }
      ]
    },
    {
      "cell_type": "code",
      "metadata": {
        "id": "TNKQ8BZii1OY",
        "colab": {
          "base_uri": "https://localhost:8080/"
        },
        "outputId": "1a08bc0d-7697-45c0-ccd8-167de73bd47c"
      },
      "source": [
        "this_data.dropna(subset=['age']).shape"
      ],
      "execution_count": null,
      "outputs": [
        {
          "output_type": "execute_result",
          "data": {
            "text/plain": [
              "(8881, 3)"
            ]
          },
          "metadata": {
            "tags": []
          },
          "execution_count": 29
        }
      ]
    },
    {
      "cell_type": "markdown",
      "metadata": {
        "id": "m5hChDmpjkyN"
      },
      "source": [
        "### แทน missing ด้วยค่าที่เหมาะสม (```fillna```)"
      ]
    },
    {
      "cell_type": "code",
      "metadata": {
        "id": "KvRsTv4umSnR"
      },
      "source": [
        "this_data = data_covid[['sex','age','province_of_onset']]"
      ],
      "execution_count": null,
      "outputs": []
    },
    {
      "cell_type": "code",
      "metadata": {
        "id": "8n1Qyl0ibKrL",
        "colab": {
          "base_uri": "https://localhost:8080/",
          "height": 204
        },
        "outputId": "ede9eb69-fb71-4b6d-ef96-083e244d5585"
      },
      "source": [
        "this_data.head()"
      ],
      "execution_count": null,
      "outputs": [
        {
          "output_type": "execute_result",
          "data": {
            "text/html": [
              "<div>\n",
              "<style scoped>\n",
              "    .dataframe tbody tr th:only-of-type {\n",
              "        vertical-align: middle;\n",
              "    }\n",
              "\n",
              "    .dataframe tbody tr th {\n",
              "        vertical-align: top;\n",
              "    }\n",
              "\n",
              "    .dataframe thead th {\n",
              "        text-align: right;\n",
              "    }\n",
              "</style>\n",
              "<table border=\"1\" class=\"dataframe\">\n",
              "  <thead>\n",
              "    <tr style=\"text-align: right;\">\n",
              "      <th></th>\n",
              "      <th>sex</th>\n",
              "      <th>age</th>\n",
              "      <th>province_of_onset</th>\n",
              "    </tr>\n",
              "  </thead>\n",
              "  <tbody>\n",
              "    <tr>\n",
              "      <th>0</th>\n",
              "      <td>หญิง</td>\n",
              "      <td>61.0</td>\n",
              "      <td>กรุงเทพมหานคร</td>\n",
              "    </tr>\n",
              "    <tr>\n",
              "      <th>1</th>\n",
              "      <td>หญิง</td>\n",
              "      <td>74.0</td>\n",
              "      <td>กรุงเทพมหานคร</td>\n",
              "    </tr>\n",
              "    <tr>\n",
              "      <th>2</th>\n",
              "      <td>หญิง</td>\n",
              "      <td>73.0</td>\n",
              "      <td>นครปฐม</td>\n",
              "    </tr>\n",
              "    <tr>\n",
              "      <th>3</th>\n",
              "      <td>ชาย</td>\n",
              "      <td>68.0</td>\n",
              "      <td>กรุงเทพมหานคร</td>\n",
              "    </tr>\n",
              "    <tr>\n",
              "      <th>4</th>\n",
              "      <td>หญิง</td>\n",
              "      <td>66.0</td>\n",
              "      <td>กรุงเทพมหานคร</td>\n",
              "    </tr>\n",
              "  </tbody>\n",
              "</table>\n",
              "</div>"
            ],
            "text/plain": [
              "    sex   age province_of_onset\n",
              "0  หญิง  61.0     กรุงเทพมหานคร\n",
              "1  หญิง  74.0     กรุงเทพมหานคร\n",
              "2  หญิง  73.0            นครปฐม\n",
              "3   ชาย  68.0     กรุงเทพมหานคร\n",
              "4  หญิง  66.0     กรุงเทพมหานคร"
            ]
          },
          "metadata": {
            "tags": []
          },
          "execution_count": 42
        }
      ]
    },
    {
      "cell_type": "code",
      "metadata": {
        "id": "wnlhDEjpkgUr",
        "colab": {
          "base_uri": "https://localhost:8080/"
        },
        "outputId": "d6ad2e37-455e-4bfc-85e7-0421d57a9d1f"
      },
      "source": [
        "print(f'จำนวน record ก่อน drop missing ใน province {this_data.shape[0]}')\n",
        "print(f'จำนวน record หลัง drop missing ใน province {this_data.dropna(subset=[\"province_of_onset\"]).shape[0]}')"
      ],
      "execution_count": null,
      "outputs": [
        {
          "output_type": "stream",
          "text": [
            "จำนวน record ก่อน drop missing ใน province 12653\n",
            "จำนวน record หลัง drop missing ใน province 10662\n"
          ],
          "name": "stdout"
        }
      ]
    },
    {
      "cell_type": "code",
      "metadata": {
        "id": "rFrzt9d7mZx4",
        "colab": {
          "base_uri": "https://localhost:8080/",
          "height": 204
        },
        "outputId": "92676489-1696-4918-ed13-d9a99b37f83d"
      },
      "source": [
        "this_data_updated = this_data.fillna(value={'sex':'ไม่รู้', 'age':-1, 'province_of_onset':'ไม่รู้'})\n",
        "this_data_updated.head()"
      ],
      "execution_count": null,
      "outputs": [
        {
          "output_type": "execute_result",
          "data": {
            "text/html": [
              "<div>\n",
              "<style scoped>\n",
              "    .dataframe tbody tr th:only-of-type {\n",
              "        vertical-align: middle;\n",
              "    }\n",
              "\n",
              "    .dataframe tbody tr th {\n",
              "        vertical-align: top;\n",
              "    }\n",
              "\n",
              "    .dataframe thead th {\n",
              "        text-align: right;\n",
              "    }\n",
              "</style>\n",
              "<table border=\"1\" class=\"dataframe\">\n",
              "  <thead>\n",
              "    <tr style=\"text-align: right;\">\n",
              "      <th></th>\n",
              "      <th>sex</th>\n",
              "      <th>age</th>\n",
              "      <th>province_of_onset</th>\n",
              "    </tr>\n",
              "  </thead>\n",
              "  <tbody>\n",
              "    <tr>\n",
              "      <th>0</th>\n",
              "      <td>หญิง</td>\n",
              "      <td>61.0</td>\n",
              "      <td>กรุงเทพมหานคร</td>\n",
              "    </tr>\n",
              "    <tr>\n",
              "      <th>1</th>\n",
              "      <td>หญิง</td>\n",
              "      <td>74.0</td>\n",
              "      <td>กรุงเทพมหานคร</td>\n",
              "    </tr>\n",
              "    <tr>\n",
              "      <th>2</th>\n",
              "      <td>หญิง</td>\n",
              "      <td>73.0</td>\n",
              "      <td>นครปฐม</td>\n",
              "    </tr>\n",
              "    <tr>\n",
              "      <th>3</th>\n",
              "      <td>ชาย</td>\n",
              "      <td>68.0</td>\n",
              "      <td>กรุงเทพมหานคร</td>\n",
              "    </tr>\n",
              "    <tr>\n",
              "      <th>4</th>\n",
              "      <td>หญิง</td>\n",
              "      <td>66.0</td>\n",
              "      <td>กรุงเทพมหานคร</td>\n",
              "    </tr>\n",
              "  </tbody>\n",
              "</table>\n",
              "</div>"
            ],
            "text/plain": [
              "    sex   age province_of_onset\n",
              "0  หญิง  61.0     กรุงเทพมหานคร\n",
              "1  หญิง  74.0     กรุงเทพมหานคร\n",
              "2  หญิง  73.0            นครปฐม\n",
              "3   ชาย  68.0     กรุงเทพมหานคร\n",
              "4  หญิง  66.0     กรุงเทพมหานคร"
            ]
          },
          "metadata": {
            "tags": []
          },
          "execution_count": 45
        }
      ]
    },
    {
      "cell_type": "code",
      "metadata": {
        "id": "8C_BVEldmZvF",
        "colab": {
          "base_uri": "https://localhost:8080/",
          "height": 419
        },
        "outputId": "595cc799-6530-43ea-e255-c15c6245270d"
      },
      "source": [
        "this_data_updated[this_data_updated['sex']=='ไม่รู้']"
      ],
      "execution_count": null,
      "outputs": [
        {
          "output_type": "execute_result",
          "data": {
            "text/html": [
              "<div>\n",
              "<style scoped>\n",
              "    .dataframe tbody tr th:only-of-type {\n",
              "        vertical-align: middle;\n",
              "    }\n",
              "\n",
              "    .dataframe tbody tr th {\n",
              "        vertical-align: top;\n",
              "    }\n",
              "\n",
              "    .dataframe thead th {\n",
              "        text-align: right;\n",
              "    }\n",
              "</style>\n",
              "<table border=\"1\" class=\"dataframe\">\n",
              "  <thead>\n",
              "    <tr style=\"text-align: right;\">\n",
              "      <th></th>\n",
              "      <th>sex</th>\n",
              "      <th>age</th>\n",
              "      <th>province_of_onset</th>\n",
              "    </tr>\n",
              "  </thead>\n",
              "  <tbody>\n",
              "    <tr>\n",
              "      <th>4391</th>\n",
              "      <td>ไม่รู้</td>\n",
              "      <td>-1.0</td>\n",
              "      <td>สมุทรสาคร</td>\n",
              "    </tr>\n",
              "    <tr>\n",
              "      <th>4392</th>\n",
              "      <td>ไม่รู้</td>\n",
              "      <td>-1.0</td>\n",
              "      <td>สมุทรสาคร</td>\n",
              "    </tr>\n",
              "    <tr>\n",
              "      <th>4393</th>\n",
              "      <td>ไม่รู้</td>\n",
              "      <td>-1.0</td>\n",
              "      <td>สมุทรสาคร</td>\n",
              "    </tr>\n",
              "    <tr>\n",
              "      <th>4394</th>\n",
              "      <td>ไม่รู้</td>\n",
              "      <td>-1.0</td>\n",
              "      <td>สมุทรสาคร</td>\n",
              "    </tr>\n",
              "    <tr>\n",
              "      <th>4395</th>\n",
              "      <td>ไม่รู้</td>\n",
              "      <td>-1.0</td>\n",
              "      <td>สมุทรสาคร</td>\n",
              "    </tr>\n",
              "    <tr>\n",
              "      <th>...</th>\n",
              "      <td>...</td>\n",
              "      <td>...</td>\n",
              "      <td>...</td>\n",
              "    </tr>\n",
              "    <tr>\n",
              "      <th>12635</th>\n",
              "      <td>ไม่รู้</td>\n",
              "      <td>-1.0</td>\n",
              "      <td>สมุทรสาคร</td>\n",
              "    </tr>\n",
              "    <tr>\n",
              "      <th>12636</th>\n",
              "      <td>ไม่รู้</td>\n",
              "      <td>-1.0</td>\n",
              "      <td>สมุทรสาคร</td>\n",
              "    </tr>\n",
              "    <tr>\n",
              "      <th>12637</th>\n",
              "      <td>ไม่รู้</td>\n",
              "      <td>-1.0</td>\n",
              "      <td>สมุทรสาคร</td>\n",
              "    </tr>\n",
              "    <tr>\n",
              "      <th>12638</th>\n",
              "      <td>ไม่รู้</td>\n",
              "      <td>-1.0</td>\n",
              "      <td>สมุทรสาคร</td>\n",
              "    </tr>\n",
              "    <tr>\n",
              "      <th>12639</th>\n",
              "      <td>ไม่รู้</td>\n",
              "      <td>-1.0</td>\n",
              "      <td>สมุทรสาคร</td>\n",
              "    </tr>\n",
              "  </tbody>\n",
              "</table>\n",
              "<p>2502 rows × 3 columns</p>\n",
              "</div>"
            ],
            "text/plain": [
              "          sex  age province_of_onset\n",
              "4391   ไม่รู้ -1.0         สมุทรสาคร\n",
              "4392   ไม่รู้ -1.0         สมุทรสาคร\n",
              "4393   ไม่รู้ -1.0         สมุทรสาคร\n",
              "4394   ไม่รู้ -1.0         สมุทรสาคร\n",
              "4395   ไม่รู้ -1.0         สมุทรสาคร\n",
              "...       ...  ...               ...\n",
              "12635  ไม่รู้ -1.0         สมุทรสาคร\n",
              "12636  ไม่รู้ -1.0         สมุทรสาคร\n",
              "12637  ไม่รู้ -1.0         สมุทรสาคร\n",
              "12638  ไม่รู้ -1.0         สมุทรสาคร\n",
              "12639  ไม่รู้ -1.0         สมุทรสาคร\n",
              "\n",
              "[2502 rows x 3 columns]"
            ]
          },
          "metadata": {
            "tags": []
          },
          "execution_count": 46
        }
      ]
    },
    {
      "cell_type": "code",
      "metadata": {
        "id": "ccURHliVsN2_",
        "colab": {
          "base_uri": "https://localhost:8080/"
        },
        "outputId": "048a7d2d-d2ec-4f56-cc0d-6e775e3da7bf"
      },
      "source": [
        "this_data_updated['province_of_onset']=='ไม่รู้'"
      ],
      "execution_count": null,
      "outputs": [
        {
          "output_type": "execute_result",
          "data": {
            "text/plain": [
              "0        False\n",
              "1        False\n",
              "2        False\n",
              "3        False\n",
              "4        False\n",
              "         ...  \n",
              "12648    False\n",
              "12649    False\n",
              "12650    False\n",
              "12651    False\n",
              "12652    False\n",
              "Name: province_of_onset, Length: 12653, dtype: bool"
            ]
          },
          "metadata": {
            "tags": []
          },
          "execution_count": 48
        }
      ]
    },
    {
      "cell_type": "code",
      "metadata": {
        "id": "mBtBgXRQlSu6",
        "colab": {
          "base_uri": "https://localhost:8080/",
          "height": 626
        },
        "outputId": "474ad3d5-ca60-412c-8a77-4fde4d1f4972"
      },
      "source": [
        "data_covid[this_data_updated['province_of_onset']=='ไม่รู้']"
      ],
      "execution_count": null,
      "outputs": [
        {
          "output_type": "execute_result",
          "data": {
            "text/html": [
              "<div>\n",
              "<style scoped>\n",
              "    .dataframe tbody tr th:only-of-type {\n",
              "        vertical-align: middle;\n",
              "    }\n",
              "\n",
              "    .dataframe tbody tr th {\n",
              "        vertical-align: top;\n",
              "    }\n",
              "\n",
              "    .dataframe thead th {\n",
              "        text-align: right;\n",
              "    }\n",
              "</style>\n",
              "<table border=\"1\" class=\"dataframe\">\n",
              "  <thead>\n",
              "    <tr style=\"text-align: right;\">\n",
              "      <th></th>\n",
              "      <th>No.</th>\n",
              "      <th>announce_date</th>\n",
              "      <th>notification_date</th>\n",
              "      <th>sex</th>\n",
              "      <th>age</th>\n",
              "      <th>nationality</th>\n",
              "      <th>province_of_isolation</th>\n",
              "      <th>province_of_onset</th>\n",
              "      <th>district_of_onset</th>\n",
              "      <th>risk</th>\n",
              "    </tr>\n",
              "  </thead>\n",
              "  <tbody>\n",
              "    <tr>\n",
              "      <th>414</th>\n",
              "      <td>415</td>\n",
              "      <td>3/22/2020</td>\n",
              "      <td>3/22/2020</td>\n",
              "      <td>ชาย</td>\n",
              "      <td>29.0</td>\n",
              "      <td>Thailand</td>\n",
              "      <td>กรุงเทพมหานคร</td>\n",
              "      <td>NaN</td>\n",
              "      <td>NaN</td>\n",
              "      <td>สนามมวย</td>\n",
              "    </tr>\n",
              "    <tr>\n",
              "      <th>529</th>\n",
              "      <td>530</td>\n",
              "      <td>3/22/2020</td>\n",
              "      <td>3/20/2020</td>\n",
              "      <td>ชาย</td>\n",
              "      <td>37.0</td>\n",
              "      <td>Thailand</td>\n",
              "      <td>กรุงเทพมหานคร</td>\n",
              "      <td>NaN</td>\n",
              "      <td>NaN</td>\n",
              "      <td>สัมผัสใกล้ชิดกับผู้ป่วยยืนยันรายก่อนหน้านี้</td>\n",
              "    </tr>\n",
              "    <tr>\n",
              "      <th>555</th>\n",
              "      <td>556</td>\n",
              "      <td>3/22/2020</td>\n",
              "      <td>3/21/2020</td>\n",
              "      <td>หญิง</td>\n",
              "      <td>6.0</td>\n",
              "      <td>Thailand</td>\n",
              "      <td>กรุงเทพมหานคร</td>\n",
              "      <td>NaN</td>\n",
              "      <td>NaN</td>\n",
              "      <td>สนามมวย</td>\n",
              "    </tr>\n",
              "    <tr>\n",
              "      <th>576</th>\n",
              "      <td>577</td>\n",
              "      <td>3/22/2020</td>\n",
              "      <td>3/20/2020</td>\n",
              "      <td>ชาย</td>\n",
              "      <td>NaN</td>\n",
              "      <td>Thailand</td>\n",
              "      <td>กรุงเทพมหานคร</td>\n",
              "      <td>NaN</td>\n",
              "      <td>NaN</td>\n",
              "      <td>สนามมวย</td>\n",
              "    </tr>\n",
              "    <tr>\n",
              "      <th>588</th>\n",
              "      <td>589</td>\n",
              "      <td>3/22/2020</td>\n",
              "      <td>3/21/2020</td>\n",
              "      <td>ชาย</td>\n",
              "      <td>NaN</td>\n",
              "      <td>Thailand</td>\n",
              "      <td>กรุงเทพมหานคร</td>\n",
              "      <td>NaN</td>\n",
              "      <td>NaN</td>\n",
              "      <td>อยู่ระหว่างการสอบสวน</td>\n",
              "    </tr>\n",
              "    <tr>\n",
              "      <th>...</th>\n",
              "      <td>...</td>\n",
              "      <td>...</td>\n",
              "      <td>...</td>\n",
              "      <td>...</td>\n",
              "      <td>...</td>\n",
              "      <td>...</td>\n",
              "      <td>...</td>\n",
              "      <td>...</td>\n",
              "      <td>...</td>\n",
              "      <td>...</td>\n",
              "    </tr>\n",
              "    <tr>\n",
              "      <th>12405</th>\n",
              "      <td>12406</td>\n",
              "      <td>1/18/2021</td>\n",
              "      <td>1/17/2021</td>\n",
              "      <td>NaN</td>\n",
              "      <td>NaN</td>\n",
              "      <td>NaN</td>\n",
              "      <td>สมุทรสาคร</td>\n",
              "      <td>NaN</td>\n",
              "      <td>NaN</td>\n",
              "      <td>Cluster สมุทรสาคร</td>\n",
              "    </tr>\n",
              "    <tr>\n",
              "      <th>12406</th>\n",
              "      <td>12407</td>\n",
              "      <td>1/18/2021</td>\n",
              "      <td>1/17/2021</td>\n",
              "      <td>NaN</td>\n",
              "      <td>NaN</td>\n",
              "      <td>NaN</td>\n",
              "      <td>สมุทรสาคร</td>\n",
              "      <td>NaN</td>\n",
              "      <td>NaN</td>\n",
              "      <td>Cluster สมุทรสาคร</td>\n",
              "    </tr>\n",
              "    <tr>\n",
              "      <th>12407</th>\n",
              "      <td>12408</td>\n",
              "      <td>1/18/2021</td>\n",
              "      <td>1/17/2021</td>\n",
              "      <td>NaN</td>\n",
              "      <td>NaN</td>\n",
              "      <td>NaN</td>\n",
              "      <td>สมุทรสาคร</td>\n",
              "      <td>NaN</td>\n",
              "      <td>NaN</td>\n",
              "      <td>Cluster สมุทรสาคร</td>\n",
              "    </tr>\n",
              "    <tr>\n",
              "      <th>12408</th>\n",
              "      <td>12409</td>\n",
              "      <td>1/18/2021</td>\n",
              "      <td>1/17/2021</td>\n",
              "      <td>NaN</td>\n",
              "      <td>NaN</td>\n",
              "      <td>NaN</td>\n",
              "      <td>สมุทรสาคร</td>\n",
              "      <td>NaN</td>\n",
              "      <td>NaN</td>\n",
              "      <td>Cluster สมุทรสาคร</td>\n",
              "    </tr>\n",
              "    <tr>\n",
              "      <th>12409</th>\n",
              "      <td>12410</td>\n",
              "      <td>1/18/2021</td>\n",
              "      <td>1/17/2021</td>\n",
              "      <td>NaN</td>\n",
              "      <td>NaN</td>\n",
              "      <td>NaN</td>\n",
              "      <td>สมุทรสาคร</td>\n",
              "      <td>NaN</td>\n",
              "      <td>NaN</td>\n",
              "      <td>Cluster สมุทรสาคร</td>\n",
              "    </tr>\n",
              "  </tbody>\n",
              "</table>\n",
              "<p>1991 rows × 10 columns</p>\n",
              "</div>"
            ],
            "text/plain": [
              "         No.  ...                                         risk\n",
              "414      415  ...                                      สนามมวย\n",
              "529      530  ...  สัมผัสใกล้ชิดกับผู้ป่วยยืนยันรายก่อนหน้านี้\n",
              "555      556  ...                                      สนามมวย\n",
              "576      577  ...                                      สนามมวย\n",
              "588      589  ...                         อยู่ระหว่างการสอบสวน\n",
              "...      ...  ...                                          ...\n",
              "12405  12406  ...                            Cluster สมุทรสาคร\n",
              "12406  12407  ...                            Cluster สมุทรสาคร\n",
              "12407  12408  ...                            Cluster สมุทรสาคร\n",
              "12408  12409  ...                            Cluster สมุทรสาคร\n",
              "12409  12410  ...                            Cluster สมุทรสาคร\n",
              "\n",
              "[1991 rows x 10 columns]"
            ]
          },
          "metadata": {
            "tags": []
          },
          "execution_count": 47
        }
      ]
    },
    {
      "cell_type": "code",
      "metadata": {
        "id": "WZIO6inapd2J"
      },
      "source": [
        "this_data_updated_2 = this_data.fillna(value={'province_of_onset':'ไม่รู้'})"
      ],
      "execution_count": null,
      "outputs": []
    },
    {
      "cell_type": "code",
      "metadata": {
        "id": "_hzYgvv4tLTA",
        "colab": {
          "base_uri": "https://localhost:8080/",
          "height": 419
        },
        "outputId": "d4d3c766-f29d-46fa-a2e0-3d4a6bf8649b"
      },
      "source": [
        "this_data_updated_2[this_data_updated['sex']=='ไม่รู้']"
      ],
      "execution_count": null,
      "outputs": [
        {
          "output_type": "execute_result",
          "data": {
            "text/html": [
              "<div>\n",
              "<style scoped>\n",
              "    .dataframe tbody tr th:only-of-type {\n",
              "        vertical-align: middle;\n",
              "    }\n",
              "\n",
              "    .dataframe tbody tr th {\n",
              "        vertical-align: top;\n",
              "    }\n",
              "\n",
              "    .dataframe thead th {\n",
              "        text-align: right;\n",
              "    }\n",
              "</style>\n",
              "<table border=\"1\" class=\"dataframe\">\n",
              "  <thead>\n",
              "    <tr style=\"text-align: right;\">\n",
              "      <th></th>\n",
              "      <th>sex</th>\n",
              "      <th>age</th>\n",
              "      <th>province_of_onset</th>\n",
              "    </tr>\n",
              "  </thead>\n",
              "  <tbody>\n",
              "    <tr>\n",
              "      <th>4391</th>\n",
              "      <td>NaN</td>\n",
              "      <td>NaN</td>\n",
              "      <td>สมุทรสาคร</td>\n",
              "    </tr>\n",
              "    <tr>\n",
              "      <th>4392</th>\n",
              "      <td>NaN</td>\n",
              "      <td>NaN</td>\n",
              "      <td>สมุทรสาคร</td>\n",
              "    </tr>\n",
              "    <tr>\n",
              "      <th>4393</th>\n",
              "      <td>NaN</td>\n",
              "      <td>NaN</td>\n",
              "      <td>สมุทรสาคร</td>\n",
              "    </tr>\n",
              "    <tr>\n",
              "      <th>4394</th>\n",
              "      <td>NaN</td>\n",
              "      <td>NaN</td>\n",
              "      <td>สมุทรสาคร</td>\n",
              "    </tr>\n",
              "    <tr>\n",
              "      <th>4395</th>\n",
              "      <td>NaN</td>\n",
              "      <td>NaN</td>\n",
              "      <td>สมุทรสาคร</td>\n",
              "    </tr>\n",
              "    <tr>\n",
              "      <th>...</th>\n",
              "      <td>...</td>\n",
              "      <td>...</td>\n",
              "      <td>...</td>\n",
              "    </tr>\n",
              "    <tr>\n",
              "      <th>12635</th>\n",
              "      <td>NaN</td>\n",
              "      <td>NaN</td>\n",
              "      <td>สมุทรสาคร</td>\n",
              "    </tr>\n",
              "    <tr>\n",
              "      <th>12636</th>\n",
              "      <td>NaN</td>\n",
              "      <td>NaN</td>\n",
              "      <td>สมุทรสาคร</td>\n",
              "    </tr>\n",
              "    <tr>\n",
              "      <th>12637</th>\n",
              "      <td>NaN</td>\n",
              "      <td>NaN</td>\n",
              "      <td>สมุทรสาคร</td>\n",
              "    </tr>\n",
              "    <tr>\n",
              "      <th>12638</th>\n",
              "      <td>NaN</td>\n",
              "      <td>NaN</td>\n",
              "      <td>สมุทรสาคร</td>\n",
              "    </tr>\n",
              "    <tr>\n",
              "      <th>12639</th>\n",
              "      <td>NaN</td>\n",
              "      <td>NaN</td>\n",
              "      <td>สมุทรสาคร</td>\n",
              "    </tr>\n",
              "  </tbody>\n",
              "</table>\n",
              "<p>2502 rows × 3 columns</p>\n",
              "</div>"
            ],
            "text/plain": [
              "       sex  age province_of_onset\n",
              "4391   NaN  NaN         สมุทรสาคร\n",
              "4392   NaN  NaN         สมุทรสาคร\n",
              "4393   NaN  NaN         สมุทรสาคร\n",
              "4394   NaN  NaN         สมุทรสาคร\n",
              "4395   NaN  NaN         สมุทรสาคร\n",
              "...    ...  ...               ...\n",
              "12635  NaN  NaN         สมุทรสาคร\n",
              "12636  NaN  NaN         สมุทรสาคร\n",
              "12637  NaN  NaN         สมุทรสาคร\n",
              "12638  NaN  NaN         สมุทรสาคร\n",
              "12639  NaN  NaN         สมุทรสาคร\n",
              "\n",
              "[2502 rows x 3 columns]"
            ]
          },
          "metadata": {
            "tags": []
          },
          "execution_count": 50
        }
      ]
    },
    {
      "cell_type": "markdown",
      "metadata": {
        "id": "ZbzScMVdb6U7"
      },
      "source": [
        "### การวนลูป record ในตาราง  (```.iterrows```)"
      ]
    },
    {
      "cell_type": "code",
      "metadata": {
        "id": "HuvNCoCRq1YQ"
      },
      "source": [
        "this_data = data_covid[['sex','age','province_of_onset']]"
      ],
      "execution_count": null,
      "outputs": []
    },
    {
      "cell_type": "code",
      "metadata": {
        "id": "WekNYPgMtwxX",
        "colab": {
          "base_uri": "https://localhost:8080/"
        },
        "outputId": "ceca8709-aadd-4b08-8b69-1adb8b80f32a"
      },
      "source": [
        "for each_row in this_data.iterrows():\n",
        "    # print(each_row)\n",
        "    # print(each_row[1])\n",
        "    if (each_row[1]['age'] == 20) and (each_row[1]['province_of_onset'] == 'ขอนแก่น'):\n",
        "        print(each_row)"
      ],
      "execution_count": null,
      "outputs": [
        {
          "output_type": "stream",
          "text": [
            "(9334, sex                      ชาย\n",
            "age                       20\n",
            "province_of_onset    ขอนแก่น\n",
            "Name: 9334, dtype: object)\n"
          ],
          "name": "stdout"
        }
      ]
    },
    {
      "cell_type": "markdown",
      "metadata": {
        "id": "Rt9Sm-nGr8um"
      },
      "source": [
        "### การวนลูป แบบมองตารางแพนด้าส์(pandas dataframe) เป็น numpy array  (```.iloc```)"
      ]
    },
    {
      "cell_type": "code",
      "metadata": {
        "id": "-gT66JgMuBN0",
        "colab": {
          "base_uri": "https://localhost:8080/"
        },
        "outputId": "764c0ed6-602b-46fa-89cf-a3c52c4dfe4b"
      },
      "source": [
        "for each_row in range(this_data.shape[0]):\n",
        "    if (this_data.iloc[each_row,1] == 20) and (this_data.iloc[each_row,2] == 'ขอนแก่น'):  #each_row คือ ตัวเลข\n",
        "        print(each_row)\n",
        "        print(this_data.iloc[each_row,:])   "
      ],
      "execution_count": null,
      "outputs": [
        {
          "output_type": "stream",
          "text": [
            "9334\n",
            "sex                      ชาย\n",
            "age                       20\n",
            "province_of_onset    ขอนแก่น\n",
            "Name: 9334, dtype: object\n"
          ],
          "name": "stdout"
        }
      ]
    },
    {
      "cell_type": "markdown",
      "metadata": {
        "id": "VlgREHOC0eXu"
      },
      "source": [
        "## Quiz ตัดตารางออกมาเฉพาะปี 2021 ```announce_date``` ในปี 2021 \n",
        "\n",
        "**Hint**\n",
        "*   วนลูปหา index ของปี 2021\n",
        "*   ตัดตารางมาเฉพาะ ปี 2021\n",
        "\n"
      ]
    },
    {
      "cell_type": "code",
      "metadata": {
        "id": "E3C7RQIz8wtu",
        "outputId": "f018a7dd-b07f-4dc8-d27a-764f87c18258",
        "colab": {
          "base_uri": "https://localhost:8080/",
          "height": 237
        }
      },
      "source": [
        "TF=list()\n",
        "for each_row in data_covid.iterrows():\n",
        "    if each_row[1]['announce_date'].split('/')[2] == '2021':\n",
        "        TF.append(True)\n",
        "    else:\n",
        "        TF.append(False)\n",
        "\n",
        "data_covid[TF].head()"
      ],
      "execution_count": null,
      "outputs": [
        {
          "output_type": "execute_result",
          "data": {
            "text/html": [
              "<div>\n",
              "<style scoped>\n",
              "    .dataframe tbody tr th:only-of-type {\n",
              "        vertical-align: middle;\n",
              "    }\n",
              "\n",
              "    .dataframe tbody tr th {\n",
              "        vertical-align: top;\n",
              "    }\n",
              "\n",
              "    .dataframe thead th {\n",
              "        text-align: right;\n",
              "    }\n",
              "</style>\n",
              "<table border=\"1\" class=\"dataframe\">\n",
              "  <thead>\n",
              "    <tr style=\"text-align: right;\">\n",
              "      <th></th>\n",
              "      <th>No.</th>\n",
              "      <th>announce_date</th>\n",
              "      <th>notification_date</th>\n",
              "      <th>sex</th>\n",
              "      <th>age</th>\n",
              "      <th>nationality</th>\n",
              "      <th>province_of_isolation</th>\n",
              "      <th>province_of_onset</th>\n",
              "      <th>district_of_onset</th>\n",
              "      <th>risk</th>\n",
              "    </tr>\n",
              "  </thead>\n",
              "  <tbody>\n",
              "    <tr>\n",
              "      <th>6884</th>\n",
              "      <td>6885</td>\n",
              "      <td>1/1/2021</td>\n",
              "      <td>12/31/2020</td>\n",
              "      <td>หญิง</td>\n",
              "      <td>40.0</td>\n",
              "      <td>Thailand</td>\n",
              "      <td>กรุงเทพมหานคร</td>\n",
              "      <td>ปทุมธานี</td>\n",
              "      <td>คลองหลวง</td>\n",
              "      <td>Cluster สมุทรสาคร</td>\n",
              "    </tr>\n",
              "    <tr>\n",
              "      <th>6885</th>\n",
              "      <td>6886</td>\n",
              "      <td>1/1/2021</td>\n",
              "      <td>12/31/2020</td>\n",
              "      <td>หญิง</td>\n",
              "      <td>21.0</td>\n",
              "      <td>Thailand</td>\n",
              "      <td>ปทุมธานี</td>\n",
              "      <td>ปทุมธานี</td>\n",
              "      <td>คลองหลวง</td>\n",
              "      <td>Cluster ระยอง</td>\n",
              "    </tr>\n",
              "    <tr>\n",
              "      <th>6886</th>\n",
              "      <td>6887</td>\n",
              "      <td>1/1/2021</td>\n",
              "      <td>12/31/2020</td>\n",
              "      <td>หญิง</td>\n",
              "      <td>20.0</td>\n",
              "      <td>Thailand</td>\n",
              "      <td>นครปฐม</td>\n",
              "      <td>นครปฐม</td>\n",
              "      <td>สามพราน</td>\n",
              "      <td>สถานบันเทิง</td>\n",
              "    </tr>\n",
              "    <tr>\n",
              "      <th>6887</th>\n",
              "      <td>6888</td>\n",
              "      <td>1/1/2021</td>\n",
              "      <td>12/31/2020</td>\n",
              "      <td>หญิง</td>\n",
              "      <td>47.0</td>\n",
              "      <td>Thailand</td>\n",
              "      <td>สมุทรสาคร</td>\n",
              "      <td>นครปฐม</td>\n",
              "      <td>สามพราน</td>\n",
              "      <td>Cluster สมุทรสาคร</td>\n",
              "    </tr>\n",
              "    <tr>\n",
              "      <th>6888</th>\n",
              "      <td>6889</td>\n",
              "      <td>1/1/2021</td>\n",
              "      <td>12/31/2020</td>\n",
              "      <td>หญิง</td>\n",
              "      <td>36.0</td>\n",
              "      <td>Cambodia</td>\n",
              "      <td>ปทุมธานี</td>\n",
              "      <td>กรุงเทพมหานคร</td>\n",
              "      <td>สายไหม</td>\n",
              "      <td>อาชีพเสี่ยง เช่น ทำงานในสถานที่แออัด หรือทำงาน...</td>\n",
              "    </tr>\n",
              "  </tbody>\n",
              "</table>\n",
              "</div>"
            ],
            "text/plain": [
              "       No.  ...                                               risk\n",
              "6884  6885  ...                                  Cluster สมุทรสาคร\n",
              "6885  6886  ...                                      Cluster ระยอง\n",
              "6886  6887  ...                                        สถานบันเทิง\n",
              "6887  6888  ...                                  Cluster สมุทรสาคร\n",
              "6888  6889  ...  อาชีพเสี่ยง เช่น ทำงานในสถานที่แออัด หรือทำงาน...\n",
              "\n",
              "[5 rows x 10 columns]"
            ]
          },
          "metadata": {
            "tags": []
          },
          "execution_count": 15
        }
      ]
    },
    {
      "cell_type": "markdown",
      "metadata": {
        "id": "gXOzi1O6BAFO"
      },
      "source": [
        "# Function ตัวช่วยใน pandas"
      ]
    },
    {
      "cell_type": "markdown",
      "metadata": {
        "id": "TvToU8hCCJL-"
      },
      "source": [
        "### ```.describe()``` คำนวณค่าทางสถิติของข้อมูลที่เป็นตัวเลข"
      ]
    },
    {
      "cell_type": "code",
      "metadata": {
        "id": "XM8qJ0o7A7ip",
        "outputId": "4468b28c-7d4e-49a2-afc7-013e148b0d22",
        "colab": {
          "base_uri": "https://localhost:8080/",
          "height": 294
        }
      },
      "source": [
        "data_covid.describe()"
      ],
      "execution_count": null,
      "outputs": [
        {
          "output_type": "execute_result",
          "data": {
            "text/html": [
              "<div>\n",
              "<style scoped>\n",
              "    .dataframe tbody tr th:only-of-type {\n",
              "        vertical-align: middle;\n",
              "    }\n",
              "\n",
              "    .dataframe tbody tr th {\n",
              "        vertical-align: top;\n",
              "    }\n",
              "\n",
              "    .dataframe thead th {\n",
              "        text-align: right;\n",
              "    }\n",
              "</style>\n",
              "<table border=\"1\" class=\"dataframe\">\n",
              "  <thead>\n",
              "    <tr style=\"text-align: right;\">\n",
              "      <th></th>\n",
              "      <th>No.</th>\n",
              "      <th>age</th>\n",
              "    </tr>\n",
              "  </thead>\n",
              "  <tbody>\n",
              "    <tr>\n",
              "      <th>count</th>\n",
              "      <td>12653.000000</td>\n",
              "      <td>8881.000000</td>\n",
              "    </tr>\n",
              "    <tr>\n",
              "      <th>mean</th>\n",
              "      <td>6327.000000</td>\n",
              "      <td>38.054748</td>\n",
              "    </tr>\n",
              "    <tr>\n",
              "      <th>std</th>\n",
              "      <td>3652.750813</td>\n",
              "      <td>15.125178</td>\n",
              "    </tr>\n",
              "    <tr>\n",
              "      <th>min</th>\n",
              "      <td>1.000000</td>\n",
              "      <td>0.100000</td>\n",
              "    </tr>\n",
              "    <tr>\n",
              "      <th>25%</th>\n",
              "      <td>3164.000000</td>\n",
              "      <td>27.000000</td>\n",
              "    </tr>\n",
              "    <tr>\n",
              "      <th>50%</th>\n",
              "      <td>6327.000000</td>\n",
              "      <td>36.000000</td>\n",
              "    </tr>\n",
              "    <tr>\n",
              "      <th>75%</th>\n",
              "      <td>9490.000000</td>\n",
              "      <td>48.000000</td>\n",
              "    </tr>\n",
              "    <tr>\n",
              "      <th>max</th>\n",
              "      <td>12653.000000</td>\n",
              "      <td>97.000000</td>\n",
              "    </tr>\n",
              "  </tbody>\n",
              "</table>\n",
              "</div>"
            ],
            "text/plain": [
              "                No.          age\n",
              "count  12653.000000  8881.000000\n",
              "mean    6327.000000    38.054748\n",
              "std     3652.750813    15.125178\n",
              "min        1.000000     0.100000\n",
              "25%     3164.000000    27.000000\n",
              "50%     6327.000000    36.000000\n",
              "75%     9490.000000    48.000000\n",
              "max    12653.000000    97.000000"
            ]
          },
          "metadata": {
            "tags": []
          },
          "execution_count": 19
        }
      ]
    },
    {
      "cell_type": "markdown",
      "metadata": {
        "id": "zXToQo4-CaPF"
      },
      "source": [
        "### ```.mean()``` คำนวณค่าเฉลี่ยของข้อมูลโดยไม่สนใจ missing "
      ]
    },
    {
      "cell_type": "code",
      "metadata": {
        "id": "TBwXJCRLBomc",
        "outputId": "5ff7e490-192f-45b8-ae3a-696b1bf5f235",
        "colab": {
          "base_uri": "https://localhost:8080/"
        }
      },
      "source": [
        "data_covid[data_covid['sex']=='ชาย']['age'].mean()"
      ],
      "execution_count": null,
      "outputs": [
        {
          "output_type": "execute_result",
          "data": {
            "text/plain": [
              "39.46076940331987"
            ]
          },
          "metadata": {
            "tags": []
          },
          "execution_count": 20
        }
      ]
    },
    {
      "cell_type": "markdown",
      "metadata": {
        "id": "NuwVtwnjCpb5"
      },
      "source": [
        "### ```.isnull()```"
      ]
    },
    {
      "cell_type": "code",
      "metadata": {
        "id": "GNHkaDLMCo5t",
        "outputId": "44c7747c-d48f-4bec-e88c-4bfa42ba0d7e",
        "colab": {
          "base_uri": "https://localhost:8080/",
          "height": 415
        }
      },
      "source": [
        "data_covid.isnull()"
      ],
      "execution_count": null,
      "outputs": [
        {
          "output_type": "execute_result",
          "data": {
            "text/html": [
              "<div>\n",
              "<style scoped>\n",
              "    .dataframe tbody tr th:only-of-type {\n",
              "        vertical-align: middle;\n",
              "    }\n",
              "\n",
              "    .dataframe tbody tr th {\n",
              "        vertical-align: top;\n",
              "    }\n",
              "\n",
              "    .dataframe thead th {\n",
              "        text-align: right;\n",
              "    }\n",
              "</style>\n",
              "<table border=\"1\" class=\"dataframe\">\n",
              "  <thead>\n",
              "    <tr style=\"text-align: right;\">\n",
              "      <th></th>\n",
              "      <th>No.</th>\n",
              "      <th>announce_date</th>\n",
              "      <th>notification_date</th>\n",
              "      <th>sex</th>\n",
              "      <th>age</th>\n",
              "      <th>nationality</th>\n",
              "      <th>province_of_isolation</th>\n",
              "      <th>province_of_onset</th>\n",
              "      <th>district_of_onset</th>\n",
              "      <th>risk</th>\n",
              "    </tr>\n",
              "  </thead>\n",
              "  <tbody>\n",
              "    <tr>\n",
              "      <th>0</th>\n",
              "      <td>False</td>\n",
              "      <td>False</td>\n",
              "      <td>True</td>\n",
              "      <td>False</td>\n",
              "      <td>False</td>\n",
              "      <td>False</td>\n",
              "      <td>False</td>\n",
              "      <td>False</td>\n",
              "      <td>True</td>\n",
              "      <td>False</td>\n",
              "    </tr>\n",
              "    <tr>\n",
              "      <th>1</th>\n",
              "      <td>False</td>\n",
              "      <td>False</td>\n",
              "      <td>True</td>\n",
              "      <td>False</td>\n",
              "      <td>False</td>\n",
              "      <td>False</td>\n",
              "      <td>False</td>\n",
              "      <td>False</td>\n",
              "      <td>True</td>\n",
              "      <td>False</td>\n",
              "    </tr>\n",
              "    <tr>\n",
              "      <th>2</th>\n",
              "      <td>False</td>\n",
              "      <td>False</td>\n",
              "      <td>True</td>\n",
              "      <td>False</td>\n",
              "      <td>False</td>\n",
              "      <td>False</td>\n",
              "      <td>False</td>\n",
              "      <td>False</td>\n",
              "      <td>False</td>\n",
              "      <td>False</td>\n",
              "    </tr>\n",
              "    <tr>\n",
              "      <th>3</th>\n",
              "      <td>False</td>\n",
              "      <td>False</td>\n",
              "      <td>True</td>\n",
              "      <td>False</td>\n",
              "      <td>False</td>\n",
              "      <td>False</td>\n",
              "      <td>False</td>\n",
              "      <td>False</td>\n",
              "      <td>True</td>\n",
              "      <td>False</td>\n",
              "    </tr>\n",
              "    <tr>\n",
              "      <th>4</th>\n",
              "      <td>False</td>\n",
              "      <td>False</td>\n",
              "      <td>True</td>\n",
              "      <td>False</td>\n",
              "      <td>False</td>\n",
              "      <td>False</td>\n",
              "      <td>False</td>\n",
              "      <td>False</td>\n",
              "      <td>True</td>\n",
              "      <td>False</td>\n",
              "    </tr>\n",
              "    <tr>\n",
              "      <th>...</th>\n",
              "      <td>...</td>\n",
              "      <td>...</td>\n",
              "      <td>...</td>\n",
              "      <td>...</td>\n",
              "      <td>...</td>\n",
              "      <td>...</td>\n",
              "      <td>...</td>\n",
              "      <td>...</td>\n",
              "      <td>...</td>\n",
              "      <td>...</td>\n",
              "    </tr>\n",
              "    <tr>\n",
              "      <th>12648</th>\n",
              "      <td>False</td>\n",
              "      <td>False</td>\n",
              "      <td>False</td>\n",
              "      <td>False</td>\n",
              "      <td>False</td>\n",
              "      <td>False</td>\n",
              "      <td>False</td>\n",
              "      <td>False</td>\n",
              "      <td>False</td>\n",
              "      <td>False</td>\n",
              "    </tr>\n",
              "    <tr>\n",
              "      <th>12649</th>\n",
              "      <td>False</td>\n",
              "      <td>False</td>\n",
              "      <td>False</td>\n",
              "      <td>False</td>\n",
              "      <td>False</td>\n",
              "      <td>False</td>\n",
              "      <td>False</td>\n",
              "      <td>False</td>\n",
              "      <td>False</td>\n",
              "      <td>False</td>\n",
              "    </tr>\n",
              "    <tr>\n",
              "      <th>12650</th>\n",
              "      <td>False</td>\n",
              "      <td>False</td>\n",
              "      <td>False</td>\n",
              "      <td>False</td>\n",
              "      <td>False</td>\n",
              "      <td>False</td>\n",
              "      <td>False</td>\n",
              "      <td>False</td>\n",
              "      <td>False</td>\n",
              "      <td>False</td>\n",
              "    </tr>\n",
              "    <tr>\n",
              "      <th>12651</th>\n",
              "      <td>False</td>\n",
              "      <td>False</td>\n",
              "      <td>False</td>\n",
              "      <td>False</td>\n",
              "      <td>False</td>\n",
              "      <td>False</td>\n",
              "      <td>False</td>\n",
              "      <td>False</td>\n",
              "      <td>False</td>\n",
              "      <td>False</td>\n",
              "    </tr>\n",
              "    <tr>\n",
              "      <th>12652</th>\n",
              "      <td>False</td>\n",
              "      <td>False</td>\n",
              "      <td>False</td>\n",
              "      <td>False</td>\n",
              "      <td>False</td>\n",
              "      <td>False</td>\n",
              "      <td>False</td>\n",
              "      <td>False</td>\n",
              "      <td>False</td>\n",
              "      <td>False</td>\n",
              "    </tr>\n",
              "  </tbody>\n",
              "</table>\n",
              "<p>12653 rows × 10 columns</p>\n",
              "</div>"
            ],
            "text/plain": [
              "         No.  announce_date  ...  district_of_onset   risk\n",
              "0      False          False  ...               True  False\n",
              "1      False          False  ...               True  False\n",
              "2      False          False  ...              False  False\n",
              "3      False          False  ...               True  False\n",
              "4      False          False  ...               True  False\n",
              "...      ...            ...  ...                ...    ...\n",
              "12648  False          False  ...              False  False\n",
              "12649  False          False  ...              False  False\n",
              "12650  False          False  ...              False  False\n",
              "12651  False          False  ...              False  False\n",
              "12652  False          False  ...              False  False\n",
              "\n",
              "[12653 rows x 10 columns]"
            ]
          },
          "metadata": {
            "tags": []
          },
          "execution_count": 21
        }
      ]
    },
    {
      "cell_type": "markdown",
      "metadata": {
        "id": "mkAeKL1D5HLi"
      },
      "source": [
        "# next\n",
        "*   .describe\n",
        "*   .mean\n",
        "*   HW วนลูป missing .isnull\n",
        "*   ต่อตารางแกน X แกน y\n",
        "*   .groupby\n",
        "*   save table"
      ]
    },
    {
      "cell_type": "code",
      "metadata": {
        "id": "hqgXy4NYxy1W"
      },
      "source": [
        ""
      ],
      "execution_count": null,
      "outputs": []
    }
  ]
}