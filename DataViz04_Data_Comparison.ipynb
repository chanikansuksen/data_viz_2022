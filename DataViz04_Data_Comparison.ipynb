{
  "nbformat": 4,
  "nbformat_minor": 0,
  "metadata": {
    "colab": {
      "name": "DataViz04_Data_Comparison.ipynb",
      "provenance": [],
      "toc_visible": true,
      "authorship_tag": "ABX9TyM3D5slJKTMM0RfmD4F1uv/",
      "include_colab_link": true
    },
    "kernelspec": {
      "name": "python3",
      "display_name": "Python 3"
    },
    "language_info": {
      "name": "python"
    }
  },
  "cells": [
    {
      "cell_type": "markdown",
      "metadata": {
        "id": "view-in-github",
        "colab_type": "text"
      },
      "source": [
        "<a href=\"https://colab.research.google.com/github/chanikansuksen/data_viz_2022/blob/main/DataViz04_Data_Comparison.ipynb\" target=\"_parent\"><img src=\"https://colab.research.google.com/assets/colab-badge.svg\" alt=\"Open In Colab\"/></a>"
      ]
    },
    {
      "cell_type": "markdown",
      "source": [
        "# เปรียบเทียบ ข้อมูล ด้วย coordinate plot"
      ],
      "metadata": {
        "id": "srWhuzFR6JSV"
      }
    },
    {
      "cell_type": "code",
      "execution_count": null,
      "metadata": {
        "id": "AQ7XtOwe54XF"
      },
      "outputs": [],
      "source": [
        "import pandas as pd"
      ]
    },
    {
      "cell_type": "code",
      "source": [
        "example_df = pd.read_csv('https://raw.github.com/pandas-dev/pandas/master/pandas/tests/io/data/csv/iris.csv')\n",
        "example_df"
      ],
      "metadata": {
        "colab": {
          "base_uri": "https://localhost:8080/",
          "height": 424
        },
        "id": "q3No-ffy6fKL",
        "outputId": "a8f3752d-6a00-449c-9592-d09c9a871a46"
      },
      "execution_count": null,
      "outputs": [
        {
          "output_type": "execute_result",
          "data": {
            "text/plain": [
              "     SepalLength  SepalWidth  PetalLength  PetalWidth            Name\n",
              "0            5.1         3.5          1.4         0.2     Iris-setosa\n",
              "1            4.9         3.0          1.4         0.2     Iris-setosa\n",
              "2            4.7         3.2          1.3         0.2     Iris-setosa\n",
              "3            4.6         3.1          1.5         0.2     Iris-setosa\n",
              "4            5.0         3.6          1.4         0.2     Iris-setosa\n",
              "..           ...         ...          ...         ...             ...\n",
              "145          6.7         3.0          5.2         2.3  Iris-virginica\n",
              "146          6.3         2.5          5.0         1.9  Iris-virginica\n",
              "147          6.5         3.0          5.2         2.0  Iris-virginica\n",
              "148          6.2         3.4          5.4         2.3  Iris-virginica\n",
              "149          5.9         3.0          5.1         1.8  Iris-virginica\n",
              "\n",
              "[150 rows x 5 columns]"
            ],
            "text/html": [
              "\n",
              "  <div id=\"df-54551769-3c04-40d4-a3ef-5c55b5c4f24c\">\n",
              "    <div class=\"colab-df-container\">\n",
              "      <div>\n",
              "<style scoped>\n",
              "    .dataframe tbody tr th:only-of-type {\n",
              "        vertical-align: middle;\n",
              "    }\n",
              "\n",
              "    .dataframe tbody tr th {\n",
              "        vertical-align: top;\n",
              "    }\n",
              "\n",
              "    .dataframe thead th {\n",
              "        text-align: right;\n",
              "    }\n",
              "</style>\n",
              "<table border=\"1\" class=\"dataframe\">\n",
              "  <thead>\n",
              "    <tr style=\"text-align: right;\">\n",
              "      <th></th>\n",
              "      <th>SepalLength</th>\n",
              "      <th>SepalWidth</th>\n",
              "      <th>PetalLength</th>\n",
              "      <th>PetalWidth</th>\n",
              "      <th>Name</th>\n",
              "    </tr>\n",
              "  </thead>\n",
              "  <tbody>\n",
              "    <tr>\n",
              "      <th>0</th>\n",
              "      <td>5.1</td>\n",
              "      <td>3.5</td>\n",
              "      <td>1.4</td>\n",
              "      <td>0.2</td>\n",
              "      <td>Iris-setosa</td>\n",
              "    </tr>\n",
              "    <tr>\n",
              "      <th>1</th>\n",
              "      <td>4.9</td>\n",
              "      <td>3.0</td>\n",
              "      <td>1.4</td>\n",
              "      <td>0.2</td>\n",
              "      <td>Iris-setosa</td>\n",
              "    </tr>\n",
              "    <tr>\n",
              "      <th>2</th>\n",
              "      <td>4.7</td>\n",
              "      <td>3.2</td>\n",
              "      <td>1.3</td>\n",
              "      <td>0.2</td>\n",
              "      <td>Iris-setosa</td>\n",
              "    </tr>\n",
              "    <tr>\n",
              "      <th>3</th>\n",
              "      <td>4.6</td>\n",
              "      <td>3.1</td>\n",
              "      <td>1.5</td>\n",
              "      <td>0.2</td>\n",
              "      <td>Iris-setosa</td>\n",
              "    </tr>\n",
              "    <tr>\n",
              "      <th>4</th>\n",
              "      <td>5.0</td>\n",
              "      <td>3.6</td>\n",
              "      <td>1.4</td>\n",
              "      <td>0.2</td>\n",
              "      <td>Iris-setosa</td>\n",
              "    </tr>\n",
              "    <tr>\n",
              "      <th>...</th>\n",
              "      <td>...</td>\n",
              "      <td>...</td>\n",
              "      <td>...</td>\n",
              "      <td>...</td>\n",
              "      <td>...</td>\n",
              "    </tr>\n",
              "    <tr>\n",
              "      <th>145</th>\n",
              "      <td>6.7</td>\n",
              "      <td>3.0</td>\n",
              "      <td>5.2</td>\n",
              "      <td>2.3</td>\n",
              "      <td>Iris-virginica</td>\n",
              "    </tr>\n",
              "    <tr>\n",
              "      <th>146</th>\n",
              "      <td>6.3</td>\n",
              "      <td>2.5</td>\n",
              "      <td>5.0</td>\n",
              "      <td>1.9</td>\n",
              "      <td>Iris-virginica</td>\n",
              "    </tr>\n",
              "    <tr>\n",
              "      <th>147</th>\n",
              "      <td>6.5</td>\n",
              "      <td>3.0</td>\n",
              "      <td>5.2</td>\n",
              "      <td>2.0</td>\n",
              "      <td>Iris-virginica</td>\n",
              "    </tr>\n",
              "    <tr>\n",
              "      <th>148</th>\n",
              "      <td>6.2</td>\n",
              "      <td>3.4</td>\n",
              "      <td>5.4</td>\n",
              "      <td>2.3</td>\n",
              "      <td>Iris-virginica</td>\n",
              "    </tr>\n",
              "    <tr>\n",
              "      <th>149</th>\n",
              "      <td>5.9</td>\n",
              "      <td>3.0</td>\n",
              "      <td>5.1</td>\n",
              "      <td>1.8</td>\n",
              "      <td>Iris-virginica</td>\n",
              "    </tr>\n",
              "  </tbody>\n",
              "</table>\n",
              "<p>150 rows × 5 columns</p>\n",
              "</div>\n",
              "      <button class=\"colab-df-convert\" onclick=\"convertToInteractive('df-54551769-3c04-40d4-a3ef-5c55b5c4f24c')\"\n",
              "              title=\"Convert this dataframe to an interactive table.\"\n",
              "              style=\"display:none;\">\n",
              "        \n",
              "  <svg xmlns=\"http://www.w3.org/2000/svg\" height=\"24px\"viewBox=\"0 0 24 24\"\n",
              "       width=\"24px\">\n",
              "    <path d=\"M0 0h24v24H0V0z\" fill=\"none\"/>\n",
              "    <path d=\"M18.56 5.44l.94 2.06.94-2.06 2.06-.94-2.06-.94-.94-2.06-.94 2.06-2.06.94zm-11 1L8.5 8.5l.94-2.06 2.06-.94-2.06-.94L8.5 2.5l-.94 2.06-2.06.94zm10 10l.94 2.06.94-2.06 2.06-.94-2.06-.94-.94-2.06-.94 2.06-2.06.94z\"/><path d=\"M17.41 7.96l-1.37-1.37c-.4-.4-.92-.59-1.43-.59-.52 0-1.04.2-1.43.59L10.3 9.45l-7.72 7.72c-.78.78-.78 2.05 0 2.83L4 21.41c.39.39.9.59 1.41.59.51 0 1.02-.2 1.41-.59l7.78-7.78 2.81-2.81c.8-.78.8-2.07 0-2.86zM5.41 20L4 18.59l7.72-7.72 1.47 1.35L5.41 20z\"/>\n",
              "  </svg>\n",
              "      </button>\n",
              "      \n",
              "  <style>\n",
              "    .colab-df-container {\n",
              "      display:flex;\n",
              "      flex-wrap:wrap;\n",
              "      gap: 12px;\n",
              "    }\n",
              "\n",
              "    .colab-df-convert {\n",
              "      background-color: #E8F0FE;\n",
              "      border: none;\n",
              "      border-radius: 50%;\n",
              "      cursor: pointer;\n",
              "      display: none;\n",
              "      fill: #1967D2;\n",
              "      height: 32px;\n",
              "      padding: 0 0 0 0;\n",
              "      width: 32px;\n",
              "    }\n",
              "\n",
              "    .colab-df-convert:hover {\n",
              "      background-color: #E2EBFA;\n",
              "      box-shadow: 0px 1px 2px rgba(60, 64, 67, 0.3), 0px 1px 3px 1px rgba(60, 64, 67, 0.15);\n",
              "      fill: #174EA6;\n",
              "    }\n",
              "\n",
              "    [theme=dark] .colab-df-convert {\n",
              "      background-color: #3B4455;\n",
              "      fill: #D2E3FC;\n",
              "    }\n",
              "\n",
              "    [theme=dark] .colab-df-convert:hover {\n",
              "      background-color: #434B5C;\n",
              "      box-shadow: 0px 1px 3px 1px rgba(0, 0, 0, 0.15);\n",
              "      filter: drop-shadow(0px 1px 2px rgba(0, 0, 0, 0.3));\n",
              "      fill: #FFFFFF;\n",
              "    }\n",
              "  </style>\n",
              "\n",
              "      <script>\n",
              "        const buttonEl =\n",
              "          document.querySelector('#df-54551769-3c04-40d4-a3ef-5c55b5c4f24c button.colab-df-convert');\n",
              "        buttonEl.style.display =\n",
              "          google.colab.kernel.accessAllowed ? 'block' : 'none';\n",
              "\n",
              "        async function convertToInteractive(key) {\n",
              "          const element = document.querySelector('#df-54551769-3c04-40d4-a3ef-5c55b5c4f24c');\n",
              "          const dataTable =\n",
              "            await google.colab.kernel.invokeFunction('convertToInteractive',\n",
              "                                                     [key], {});\n",
              "          if (!dataTable) return;\n",
              "\n",
              "          const docLinkHtml = 'Like what you see? Visit the ' +\n",
              "            '<a target=\"_blank\" href=https://colab.research.google.com/notebooks/data_table.ipynb>data table notebook</a>'\n",
              "            + ' to learn more about interactive tables.';\n",
              "          element.innerHTML = '';\n",
              "          dataTable['output_type'] = 'display_data';\n",
              "          await google.colab.output.renderOutput(dataTable, element);\n",
              "          const docLink = document.createElement('div');\n",
              "          docLink.innerHTML = docLinkHtml;\n",
              "          element.appendChild(docLink);\n",
              "        }\n",
              "      </script>\n",
              "    </div>\n",
              "  </div>\n",
              "  "
            ]
          },
          "metadata": {},
          "execution_count": 2
        }
      ]
    },
    {
      "cell_type": "code",
      "source": [
        "sample_data = example_df.groupby('Name').mean()"
      ],
      "metadata": {
        "id": "NOP5xoAe6kfR"
      },
      "execution_count": null,
      "outputs": []
    },
    {
      "cell_type": "code",
      "source": [
        "sample_data"
      ],
      "metadata": {
        "colab": {
          "base_uri": "https://localhost:8080/",
          "height": 175
        },
        "id": "CoriCfgc6kSw",
        "outputId": "b8cf10b1-4a4b-4ce7-ff69-13da441d9896"
      },
      "execution_count": null,
      "outputs": [
        {
          "output_type": "execute_result",
          "data": {
            "text/plain": [
              "                 SepalLength  SepalWidth  PetalLength  PetalWidth\n",
              "Name                                                             \n",
              "Iris-setosa            5.006       3.418        1.464       0.244\n",
              "Iris-versicolor        5.936       2.770        4.260       1.326\n",
              "Iris-virginica         6.588       2.974        5.552       2.026"
            ],
            "text/html": [
              "\n",
              "  <div id=\"df-e6ae3671-90ec-464b-b3e6-9ba094f910c5\">\n",
              "    <div class=\"colab-df-container\">\n",
              "      <div>\n",
              "<style scoped>\n",
              "    .dataframe tbody tr th:only-of-type {\n",
              "        vertical-align: middle;\n",
              "    }\n",
              "\n",
              "    .dataframe tbody tr th {\n",
              "        vertical-align: top;\n",
              "    }\n",
              "\n",
              "    .dataframe thead th {\n",
              "        text-align: right;\n",
              "    }\n",
              "</style>\n",
              "<table border=\"1\" class=\"dataframe\">\n",
              "  <thead>\n",
              "    <tr style=\"text-align: right;\">\n",
              "      <th></th>\n",
              "      <th>SepalLength</th>\n",
              "      <th>SepalWidth</th>\n",
              "      <th>PetalLength</th>\n",
              "      <th>PetalWidth</th>\n",
              "    </tr>\n",
              "    <tr>\n",
              "      <th>Name</th>\n",
              "      <th></th>\n",
              "      <th></th>\n",
              "      <th></th>\n",
              "      <th></th>\n",
              "    </tr>\n",
              "  </thead>\n",
              "  <tbody>\n",
              "    <tr>\n",
              "      <th>Iris-setosa</th>\n",
              "      <td>5.006</td>\n",
              "      <td>3.418</td>\n",
              "      <td>1.464</td>\n",
              "      <td>0.244</td>\n",
              "    </tr>\n",
              "    <tr>\n",
              "      <th>Iris-versicolor</th>\n",
              "      <td>5.936</td>\n",
              "      <td>2.770</td>\n",
              "      <td>4.260</td>\n",
              "      <td>1.326</td>\n",
              "    </tr>\n",
              "    <tr>\n",
              "      <th>Iris-virginica</th>\n",
              "      <td>6.588</td>\n",
              "      <td>2.974</td>\n",
              "      <td>5.552</td>\n",
              "      <td>2.026</td>\n",
              "    </tr>\n",
              "  </tbody>\n",
              "</table>\n",
              "</div>\n",
              "      <button class=\"colab-df-convert\" onclick=\"convertToInteractive('df-e6ae3671-90ec-464b-b3e6-9ba094f910c5')\"\n",
              "              title=\"Convert this dataframe to an interactive table.\"\n",
              "              style=\"display:none;\">\n",
              "        \n",
              "  <svg xmlns=\"http://www.w3.org/2000/svg\" height=\"24px\"viewBox=\"0 0 24 24\"\n",
              "       width=\"24px\">\n",
              "    <path d=\"M0 0h24v24H0V0z\" fill=\"none\"/>\n",
              "    <path d=\"M18.56 5.44l.94 2.06.94-2.06 2.06-.94-2.06-.94-.94-2.06-.94 2.06-2.06.94zm-11 1L8.5 8.5l.94-2.06 2.06-.94-2.06-.94L8.5 2.5l-.94 2.06-2.06.94zm10 10l.94 2.06.94-2.06 2.06-.94-2.06-.94-.94-2.06-.94 2.06-2.06.94z\"/><path d=\"M17.41 7.96l-1.37-1.37c-.4-.4-.92-.59-1.43-.59-.52 0-1.04.2-1.43.59L10.3 9.45l-7.72 7.72c-.78.78-.78 2.05 0 2.83L4 21.41c.39.39.9.59 1.41.59.51 0 1.02-.2 1.41-.59l7.78-7.78 2.81-2.81c.8-.78.8-2.07 0-2.86zM5.41 20L4 18.59l7.72-7.72 1.47 1.35L5.41 20z\"/>\n",
              "  </svg>\n",
              "      </button>\n",
              "      \n",
              "  <style>\n",
              "    .colab-df-container {\n",
              "      display:flex;\n",
              "      flex-wrap:wrap;\n",
              "      gap: 12px;\n",
              "    }\n",
              "\n",
              "    .colab-df-convert {\n",
              "      background-color: #E8F0FE;\n",
              "      border: none;\n",
              "      border-radius: 50%;\n",
              "      cursor: pointer;\n",
              "      display: none;\n",
              "      fill: #1967D2;\n",
              "      height: 32px;\n",
              "      padding: 0 0 0 0;\n",
              "      width: 32px;\n",
              "    }\n",
              "\n",
              "    .colab-df-convert:hover {\n",
              "      background-color: #E2EBFA;\n",
              "      box-shadow: 0px 1px 2px rgba(60, 64, 67, 0.3), 0px 1px 3px 1px rgba(60, 64, 67, 0.15);\n",
              "      fill: #174EA6;\n",
              "    }\n",
              "\n",
              "    [theme=dark] .colab-df-convert {\n",
              "      background-color: #3B4455;\n",
              "      fill: #D2E3FC;\n",
              "    }\n",
              "\n",
              "    [theme=dark] .colab-df-convert:hover {\n",
              "      background-color: #434B5C;\n",
              "      box-shadow: 0px 1px 3px 1px rgba(0, 0, 0, 0.15);\n",
              "      filter: drop-shadow(0px 1px 2px rgba(0, 0, 0, 0.3));\n",
              "      fill: #FFFFFF;\n",
              "    }\n",
              "  </style>\n",
              "\n",
              "      <script>\n",
              "        const buttonEl =\n",
              "          document.querySelector('#df-e6ae3671-90ec-464b-b3e6-9ba094f910c5 button.colab-df-convert');\n",
              "        buttonEl.style.display =\n",
              "          google.colab.kernel.accessAllowed ? 'block' : 'none';\n",
              "\n",
              "        async function convertToInteractive(key) {\n",
              "          const element = document.querySelector('#df-e6ae3671-90ec-464b-b3e6-9ba094f910c5');\n",
              "          const dataTable =\n",
              "            await google.colab.kernel.invokeFunction('convertToInteractive',\n",
              "                                                     [key], {});\n",
              "          if (!dataTable) return;\n",
              "\n",
              "          const docLinkHtml = 'Like what you see? Visit the ' +\n",
              "            '<a target=\"_blank\" href=https://colab.research.google.com/notebooks/data_table.ipynb>data table notebook</a>'\n",
              "            + ' to learn more about interactive tables.';\n",
              "          element.innerHTML = '';\n",
              "          dataTable['output_type'] = 'display_data';\n",
              "          await google.colab.output.renderOutput(dataTable, element);\n",
              "          const docLink = document.createElement('div');\n",
              "          docLink.innerHTML = docLinkHtml;\n",
              "          element.appendChild(docLink);\n",
              "        }\n",
              "      </script>\n",
              "    </div>\n",
              "  </div>\n",
              "  "
            ]
          },
          "metadata": {},
          "execution_count": 4
        }
      ]
    },
    {
      "cell_type": "code",
      "source": [
        "sample_data.iloc[0,:]"
      ],
      "metadata": {
        "colab": {
          "base_uri": "https://localhost:8080/"
        },
        "id": "bY033hWK70dZ",
        "outputId": "95564d1e-6407-43c4-eaa5-6545a9480926"
      },
      "execution_count": null,
      "outputs": [
        {
          "output_type": "execute_result",
          "data": {
            "text/plain": [
              "SepalLength    5.006\n",
              "SepalWidth     3.418\n",
              "PetalLength    1.464\n",
              "PetalWidth     0.244\n",
              "Name: Iris-setosa, dtype: float64"
            ]
          },
          "metadata": {},
          "execution_count": 5
        }
      ]
    },
    {
      "cell_type": "code",
      "source": [
        "from matplotlib import pyplot as plt"
      ],
      "metadata": {
        "id": "cNTE9B7Q6wkc"
      },
      "execution_count": null,
      "outputs": []
    },
    {
      "cell_type": "code",
      "source": [
        "plt.plot([1, 2, 3, 4], sample_data.iloc[0,:], 'ro')\n",
        "plt.plot([1, 2, 3, 4], sample_data.iloc[1,:], 'g*')\n",
        "plt.plot([1, 2, 3, 4], sample_data.iloc[2,:], 'b^')"
      ],
      "metadata": {
        "colab": {
          "base_uri": "https://localhost:8080/",
          "height": 283
        },
        "id": "s8SZhJY07Z8w",
        "outputId": "89976c2f-8264-44a9-83ad-e22805e78c6d"
      },
      "execution_count": null,
      "outputs": [
        {
          "output_type": "execute_result",
          "data": {
            "text/plain": [
              "[<matplotlib.lines.Line2D at 0x7fabfb3380d0>]"
            ]
          },
          "metadata": {},
          "execution_count": 7
        },
        {
          "output_type": "display_data",
          "data": {
            "text/plain": [
              "<Figure size 432x288 with 1 Axes>"
            ],
            "image/png": "[encoded data removed]"
          },
          "metadata": {
            "needs_background": "light"
          }
        }
      ]
    },
    {
      "cell_type": "code",
      "source": [
        "plt.plot([1, 2, 3, 4], sample_data.iloc[0,:], 'ro-')\n",
        "plt.plot([1, 2, 3, 4], sample_data.iloc[1,:], 'g*-')\n",
        "plt.plot([1, 2, 3, 4], sample_data.iloc[2,:], 'b^-')"
      ],
      "metadata": {
        "colab": {
          "base_uri": "https://localhost:8080/",
          "height": 283
        },
        "id": "P7VzeMhC8ilp",
        "outputId": "7bb7b6ca-1d05-466a-afea-5c86dce7f699"
      },
      "execution_count": null,
      "outputs": [
        {
          "output_type": "execute_result",
          "data": {
            "text/plain": [
              "[<matplotlib.lines.Line2D at 0x7fabfae1e1d0>]"
            ]
          },
          "metadata": {},
          "execution_count": 8
        },
        {
          "output_type": "display_data",
          "data": {
            "text/plain": [
              "<Figure size 432x288 with 1 Axes>"
            ],
            "image/png": "[encoded data removed]"
          },
          "metadata": {
            "needs_background": "light"
          }
        }
      ]
    },
    {
      "cell_type": "code",
      "source": [
        "plt.plot([1, 1], [min(sample_data.iloc[:,0]), max(sample_data.iloc[:,0])], 'c' )\n",
        "plt.plot([2, 2], [min(sample_data.iloc[:,1]), max(sample_data.iloc[:,1])], 'c' )\n",
        "plt.plot([3, 3], [min(sample_data.iloc[:,2]), max(sample_data.iloc[:,2])], 'c' )\n",
        "plt.plot([4, 4], [min(sample_data.iloc[:,3]), max(sample_data.iloc[:,3])], 'c' )\n",
        "\n",
        "plt.plot([1, 2, 3, 4], sample_data.iloc[0,:], 'ro')\n",
        "plt.plot([1, 2, 3, 4], sample_data.iloc[1,:], 'g*')\n",
        "plt.plot([1, 2, 3, 4], sample_data.iloc[2,:], 'b^')"
      ],
      "metadata": {
        "colab": {
          "base_uri": "https://localhost:8080/",
          "height": 283
        },
        "id": "hg29ZuaR9fBH",
        "outputId": "8e9c73b2-6f0a-4227-f9b1-a97fdd5c4d54"
      },
      "execution_count": null,
      "outputs": [
        {
          "output_type": "execute_result",
          "data": {
            "text/plain": [
              "[<matplotlib.lines.Line2D at 0x7fabfadabd90>]"
            ]
          },
          "metadata": {},
          "execution_count": 9
        },
        {
          "output_type": "display_data",
          "data": {
            "text/plain": [
              "<Figure size 432x288 with 1 Axes>"
            ],
            "image/png": "[encoded data removed]"
          },
          "metadata": {
            "needs_background": "light"
          }
        }
      ]
    },
    {
      "cell_type": "markdown",
      "source": [
        "### การใช้ plt.plot\n",
        "`plt.plot`(`พิกัดแกน X`, `พิกัดแกน Y`, `ลักษณะของ marker + เส้นเชื่อม`)\n",
        "\n",
        "marker -> `cML`\n",
        "\n",
        "\n",
        "\n",
        "\n"
      ],
      "metadata": {
        "id": "dCs4OvoW-31K"
      }
    },
    {
      "cell_type": "code",
      "source": [
        "plt.plot([1,2], [2,4], 'ro')"
      ],
      "metadata": {
        "colab": {
          "base_uri": "https://localhost:8080/",
          "height": 283
        },
        "id": "U-DpE_KG9exY",
        "outputId": "a33733ea-8a33-47fb-9777-67a752a909aa"
      },
      "execution_count": null,
      "outputs": [
        {
          "output_type": "execute_result",
          "data": {
            "text/plain": [
              "[<matplotlib.lines.Line2D at 0x7fabfad214d0>]"
            ]
          },
          "metadata": {},
          "execution_count": 10
        },
        {
          "output_type": "display_data",
          "data": {
            "text/plain": [
              "<Figure size 432x288 with 1 Axes>"
            ],
            "image/png": "[encoded data removed]"
          },
          "metadata": {
            "needs_background": "light"
          }
        }
      ]
    },
    {
      "cell_type": "code",
      "source": [
        "plt.plot([1,2], [2,4], 'ro-.')  # เพิ่มเส้นเชื่อม"
      ],
      "metadata": {
        "colab": {
          "base_uri": "https://localhost:8080/",
          "height": 283
        },
        "id": "6g0vNo2M_oQW",
        "outputId": "2e94da45-5e7b-4e28-ffa3-015b7988e7ca"
      },
      "execution_count": null,
      "outputs": [
        {
          "output_type": "execute_result",
          "data": {
            "text/plain": [
              "[<matplotlib.lines.Line2D at 0x7fabfad11410>]"
            ]
          },
          "metadata": {},
          "execution_count": 11
        },
        {
          "output_type": "display_data",
          "data": {
            "text/plain": [
              "<Figure size 432x288 with 1 Axes>"
            ],
            "image/png": "[encoded data removed]"
          },
          "metadata": {
            "needs_background": "light"
          }
        }
      ]
    },
    {
      "cell_type": "code",
      "source": [
        "example_df.iloc[:,:-1].columns.tolist(),"
      ],
      "metadata": {
        "colab": {
          "base_uri": "https://localhost:8080/"
        },
        "id": "YPbDQYU1DDKi",
        "outputId": "c610a40f-5209-4fa5-ac88-b069c425a8b7"
      },
      "execution_count": null,
      "outputs": [
        {
          "output_type": "execute_result",
          "data": {
            "text/plain": [
              "(['SepalLength', 'SepalWidth', 'PetalLength', 'PetalWidth'],)"
            ]
          },
          "metadata": {},
          "execution_count": 12
        }
      ]
    },
    {
      "cell_type": "code",
      "source": [
        "plt.plot([1, 1], [min(sample_data.iloc[:,0]), max(sample_data.iloc[:,0])], 'c' )\n",
        "plt.plot([2, 2], [min(sample_data.iloc[:,1]), max(sample_data.iloc[:,1])], 'c' )\n",
        "plt.plot([3, 3], [min(sample_data.iloc[:,2]), max(sample_data.iloc[:,2])], 'c' )\n",
        "plt.plot([4, 4], [min(sample_data.iloc[:,3]), max(sample_data.iloc[:,3])], 'c' )\n",
        "\n",
        "plt.plot([1, 2, 3, 4], sample_data.iloc[0,:], 'ro', label = 'Setosa')\n",
        "plt.plot([1, 2, 3, 4], sample_data.iloc[1,:], 'g*', label = 'Versicolor')\n",
        "plt.plot([1, 2, 3, 4], sample_data.iloc[2,:], 'b^', label = 'Virginiga')\n",
        "plt.legend()\n",
        "plt.xticks([1, 2, 3, 4], example_df.iloc[:,:-1].columns.tolist(), rotation = 'vertical')\n",
        "plt.title('Features comparison between 3 different Iris flowers') ;\n",
        "plt.ylabel('size (cm)')"
      ],
      "metadata": {
        "colab": {
          "base_uri": "https://localhost:8080/",
          "height": 350
        },
        "id": "J5H43I2vATVD",
        "outputId": "e2be49ba-177a-4341-fbbd-687ebf4ac328"
      },
      "execution_count": null,
      "outputs": [
        {
          "output_type": "execute_result",
          "data": {
            "text/plain": [
              "Text(0, 0.5, 'size (cm)')"
            ]
          },
          "metadata": {},
          "execution_count": 13
        },
        {
          "output_type": "display_data",
          "data": {
            "text/plain": [
              "<Figure size 432x288 with 1 Axes>"
            ],
            "image/png": "[encoded data removed]"
          },
          "metadata": {
            "needs_background": "light"
          }
        }
      ]
    },
    {
      "cell_type": "markdown",
      "source": [
        "# HW วาดรูป ก้อนเมฆ และ ฝน ด้วย plt.plot"
      ],
      "metadata": {
        "id": "zJXr-F2dDpJv"
      }
    },
    {
      "cell_type": "code",
      "source": [
        "fig, ax = plt.subplots(figsize=(8,6))\n",
        "plt.plot([0,3,5,7,10,13,15,18,21,19,17,14,10,6,4,1,0], [5.8,6.5,6,7,6.1,7,6.1,6.5,5.8,4.5,4.8,3.8,4.5,3.8,4.8,5,5.8], 'g*-.')\n",
        "\n",
        "plt.plot([2,0.5],[4.3,0],'b>-.')\n",
        "plt.plot([3,1.5],[4.5,0],'c*-.')\n",
        "plt.plot([4,2.5],[4,0],'ro-.')\n",
        "plt.plot([5,3.5],[3.7,0],'b>-.')\n",
        "plt.plot([6,4.5],[3.4,0],'c*-.')\n",
        "plt.plot([7,5.5],[3.5,0],'ro-.')\n",
        "plt.plot([8,6.5],[3.8,0],'b>-.')\n",
        "plt.plot([9,7.5],[4,0],'c*-.')\n",
        "plt.plot([10,8.5],[3.8,0],'ro-.')\n",
        "plt.plot([11,9.5],[4,0],'b>-.')\n",
        "plt.plot([12,10.5],[3.7,0],'c*-.')\n",
        "plt.plot([13,11.5],[3.5,0],'ro-.')\n",
        "plt.plot([14,12.5],[3.5,0],'b>-.')\n",
        "plt.plot([15,13.5],[3.7,0],'c*-.')\n",
        "plt.plot([16,14.5],[4,0],'ro-.')\n",
        "plt.plot([17,15.5],[4.3,0],'b>-.')\n",
        "plt.plot([18,16.5],[4.1,0],'c*-.')\n",
        "plt.plot([19,17.5],[4.2,0],'ro-.')\n",
        "plt.plot([20,18.5],[4.5,0],'b>-.')"
      ],
      "metadata": {
        "id": "GTJvldv7CFDF",
        "colab": {
          "base_uri": "https://localhost:8080/",
          "height": 391
        },
        "outputId": "07bed57f-bb51-441b-b958-504b3b165378"
      },
      "execution_count": null,
      "outputs": [
        {
          "output_type": "execute_result",
          "data": {
            "text/plain": [
              "[<matplotlib.lines.Line2D at 0x7fabfac48c50>]"
            ]
          },
          "metadata": {},
          "execution_count": 14
        },
        {
          "output_type": "display_data",
          "data": {
            "text/plain": [
              "<Figure size 576x432 with 1 Axes>"
            ],
            "image/png": "[encoded data removed]"
          },
          "metadata": {
            "needs_background": "light"
          }
        }
      ]
    },
    {
      "cell_type": "markdown",
      "source": [
        "## Bar Chart"
      ],
      "metadata": {
        "id": "BA4wbrRZX6oC"
      }
    },
    {
      "cell_type": "code",
      "source": [
        "sample_data"
      ],
      "metadata": {
        "id": "xgmUjYh85hio",
        "outputId": "dfd62e67-6010-42e0-c1b5-5e5c0769a642",
        "colab": {
          "base_uri": "https://localhost:8080/"
        }
      },
      "execution_count": null,
      "outputs": [
        {
          "output_type": "execute_result",
          "data": {
            "text/plain": [
              "                 SepalLength  SepalWidth  PetalLength  PetalWidth\n",
              "Name                                                             \n",
              "Iris-setosa            5.006       3.418        1.464       0.244\n",
              "Iris-versicolor        5.936       2.770        4.260       1.326\n",
              "Iris-virginica         6.588       2.974        5.552       2.026"
            ],
            "text/html": [
              "\n",
              "  <div id=\"df-f34d332c-0abe-4a31-9f24-2abf2ee956b9\">\n",
              "    <div class=\"colab-df-container\">\n",
              "      <div>\n",
              "<style scoped>\n",
              "    .dataframe tbody tr th:only-of-type {\n",
              "        vertical-align: middle;\n",
              "    }\n",
              "\n",
              "    .dataframe tbody tr th {\n",
              "        vertical-align: top;\n",
              "    }\n",
              "\n",
              "    .dataframe thead th {\n",
              "        text-align: right;\n",
              "    }\n",
              "</style>\n",
              "<table border=\"1\" class=\"dataframe\">\n",
              "  <thead>\n",
              "    <tr style=\"text-align: right;\">\n",
              "      <th></th>\n",
              "      <th>SepalLength</th>\n",
              "      <th>SepalWidth</th>\n",
              "      <th>PetalLength</th>\n",
              "      <th>PetalWidth</th>\n",
              "    </tr>\n",
              "    <tr>\n",
              "      <th>Name</th>\n",
              "      <th></th>\n",
              "      <th></th>\n",
              "      <th></th>\n",
              "      <th></th>\n",
              "    </tr>\n",
              "  </thead>\n",
              "  <tbody>\n",
              "    <tr>\n",
              "      <th>Iris-setosa</th>\n",
              "      <td>5.006</td>\n",
              "      <td>3.418</td>\n",
              "      <td>1.464</td>\n",
              "      <td>0.244</td>\n",
              "    </tr>\n",
              "    <tr>\n",
              "      <th>Iris-versicolor</th>\n",
              "      <td>5.936</td>\n",
              "      <td>2.770</td>\n",
              "      <td>4.260</td>\n",
              "      <td>1.326</td>\n",
              "    </tr>\n",
              "    <tr>\n",
              "      <th>Iris-virginica</th>\n",
              "      <td>6.588</td>\n",
              "      <td>2.974</td>\n",
              "      <td>5.552</td>\n",
              "      <td>2.026</td>\n",
              "    </tr>\n",
              "  </tbody>\n",
              "</table>\n",
              "</div>\n",
              "      <button class=\"colab-df-convert\" onclick=\"convertToInteractive('df-f34d332c-0abe-4a31-9f24-2abf2ee956b9')\"\n",
              "              title=\"Convert this dataframe to an interactive table.\"\n",
              "              style=\"display:none;\">\n",
              "        \n",
              "  <svg xmlns=\"http://www.w3.org/2000/svg\" height=\"24px\"viewBox=\"0 0 24 24\"\n",
              "       width=\"24px\">\n",
              "    <path d=\"M0 0h24v24H0V0z\" fill=\"none\"/>\n",
              "    <path d=\"M18.56 5.44l.94 2.06.94-2.06 2.06-.94-2.06-.94-.94-2.06-.94 2.06-2.06.94zm-11 1L8.5 8.5l.94-2.06 2.06-.94-2.06-.94L8.5 2.5l-.94 2.06-2.06.94zm10 10l.94 2.06.94-2.06 2.06-.94-2.06-.94-.94-2.06-.94 2.06-2.06.94z\"/><path d=\"M17.41 7.96l-1.37-1.37c-.4-.4-.92-.59-1.43-.59-.52 0-1.04.2-1.43.59L10.3 9.45l-7.72 7.72c-.78.78-.78 2.05 0 2.83L4 21.41c.39.39.9.59 1.41.59.51 0 1.02-.2 1.41-.59l7.78-7.78 2.81-2.81c.8-.78.8-2.07 0-2.86zM5.41 20L4 18.59l7.72-7.72 1.47 1.35L5.41 20z\"/>\n",
              "  </svg>\n",
              "      </button>\n",
              "      \n",
              "  <style>\n",
              "    .colab-df-container {\n",
              "      display:flex;\n",
              "      flex-wrap:wrap;\n",
              "      gap: 12px;\n",
              "    }\n",
              "\n",
              "    .colab-df-convert {\n",
              "      background-color: #E8F0FE;\n",
              "      border: none;\n",
              "      border-radius: 50%;\n",
              "      cursor: pointer;\n",
              "      display: none;\n",
              "      fill: #1967D2;\n",
              "      height: 32px;\n",
              "      padding: 0 0 0 0;\n",
              "      width: 32px;\n",
              "    }\n",
              "\n",
              "    .colab-df-convert:hover {\n",
              "      background-color: #E2EBFA;\n",
              "      box-shadow: 0px 1px 2px rgba(60, 64, 67, 0.3), 0px 1px 3px 1px rgba(60, 64, 67, 0.15);\n",
              "      fill: #174EA6;\n",
              "    }\n",
              "\n",
              "    [theme=dark] .colab-df-convert {\n",
              "      background-color: #3B4455;\n",
              "      fill: #D2E3FC;\n",
              "    }\n",
              "\n",
              "    [theme=dark] .colab-df-convert:hover {\n",
              "      background-color: #434B5C;\n",
              "      box-shadow: 0px 1px 3px 1px rgba(0, 0, 0, 0.15);\n",
              "      filter: drop-shadow(0px 1px 2px rgba(0, 0, 0, 0.3));\n",
              "      fill: #FFFFFF;\n",
              "    }\n",
              "  </style>\n",
              "\n",
              "      <script>\n",
              "        const buttonEl =\n",
              "          document.querySelector('#df-f34d332c-0abe-4a31-9f24-2abf2ee956b9 button.colab-df-convert');\n",
              "        buttonEl.style.display =\n",
              "          google.colab.kernel.accessAllowed ? 'block' : 'none';\n",
              "\n",
              "        async function convertToInteractive(key) {\n",
              "          const element = document.querySelector('#df-f34d332c-0abe-4a31-9f24-2abf2ee956b9');\n",
              "          const dataTable =\n",
              "            await google.colab.kernel.invokeFunction('convertToInteractive',\n",
              "                                                     [key], {});\n",
              "          if (!dataTable) return;\n",
              "\n",
              "          const docLinkHtml = 'Like what you see? Visit the ' +\n",
              "            '<a target=\"_blank\" href=https://colab.research.google.com/notebooks/data_table.ipynb>data table notebook</a>'\n",
              "            + ' to learn more about interactive tables.';\n",
              "          element.innerHTML = '';\n",
              "          dataTable['output_type'] = 'display_data';\n",
              "          await google.colab.output.renderOutput(dataTable, element);\n",
              "          const docLink = document.createElement('div');\n",
              "          docLink.innerHTML = docLinkHtml;\n",
              "          element.appendChild(docLink);\n",
              "        }\n",
              "      </script>\n",
              "    </div>\n",
              "  </div>\n",
              "  "
            ]
          },
          "metadata": {},
          "execution_count": 15
        }
      ]
    },
    {
      "cell_type": "code",
      "source": [
        "sample_data['PetalLength']"
      ],
      "metadata": {
        "id": "6z1C9ZeWX-2x",
        "outputId": "63764d02-3041-408b-cc21-1c7e09b81119",
        "colab": {
          "base_uri": "https://localhost:8080/"
        }
      },
      "execution_count": null,
      "outputs": [
        {
          "output_type": "execute_result",
          "data": {
            "text/plain": [
              "Name\n",
              "Iris-setosa        1.464\n",
              "Iris-versicolor    4.260\n",
              "Iris-virginica     5.552\n",
              "Name: PetalLength, dtype: float64"
            ]
          },
          "metadata": {},
          "execution_count": 16
        }
      ]
    },
    {
      "cell_type": "code",
      "source": [
        "sample_data['PetalLength'][0]"
      ],
      "metadata": {
        "id": "-KFJEKEOYUKI",
        "outputId": "c1b88b47-73fc-485a-99b1-55075a47dee1",
        "colab": {
          "base_uri": "https://localhost:8080/"
        }
      },
      "execution_count": null,
      "outputs": [
        {
          "output_type": "execute_result",
          "data": {
            "text/plain": [
              "1.464"
            ]
          },
          "metadata": {},
          "execution_count": 17
        }
      ]
    },
    {
      "cell_type": "markdown",
      "source": [
        "### เปรียบเทียบปริมาณ 1 ปริมาณของ object หลาย class"
      ],
      "metadata": {
        "id": "IeI3xRXJal-h"
      }
    },
    {
      "cell_type": "code",
      "source": [
        "plt.bar([1, 2, 3], sample_data['PetalLength'])"
      ],
      "metadata": {
        "id": "WVPk_C55YERG",
        "outputId": "ed45e3a8-bab3-4195-a956-a6dd0c0c06a6",
        "colab": {
          "base_uri": "https://localhost:8080/"
        }
      },
      "execution_count": null,
      "outputs": [
        {
          "output_type": "execute_result",
          "data": {
            "text/plain": [
              "<BarContainer object of 3 artists>"
            ]
          },
          "metadata": {},
          "execution_count": 18
        },
        {
          "output_type": "display_data",
          "data": {
            "text/plain": [
              "<Figure size 432x288 with 1 Axes>"
            ],
            "image/png": "[encoded data removed]"
          },
          "metadata": {
            "needs_background": "light"
          }
        }
      ]
    },
    {
      "cell_type": "code",
      "source": [
        "sample_data.reset_index()['Name']"
      ],
      "metadata": {
        "id": "Xg9yz3q4Y4h-",
        "outputId": "f58d3445-dce4-402f-e371-df6320caa62e",
        "colab": {
          "base_uri": "https://localhost:8080/"
        }
      },
      "execution_count": null,
      "outputs": [
        {
          "output_type": "execute_result",
          "data": {
            "text/plain": [
              "0        Iris-setosa\n",
              "1    Iris-versicolor\n",
              "2     Iris-virginica\n",
              "Name: Name, dtype: object"
            ]
          },
          "metadata": {},
          "execution_count": 19
        }
      ]
    },
    {
      "cell_type": "code",
      "source": [
        "plt.bar([1, 2, 3], sample_data['PetalLength'])\n",
        "plt.xticks([1, 2, 3], sample_data.reset_index()['Name'], rotation = 'vertical')\n",
        "plt.title('Comparison between average petal length of 3 iris flowers')\n",
        "plt.grid(True, axis='y') #เปิดตาราง เปิดเฉพาะแกน y\n",
        "plt.ylabel('size (cm)') ;"
      ],
      "metadata": {
        "id": "w5XbsBwPYnVU",
        "outputId": "a8b4f2af-1552-446b-d92c-9d9ea86765c3",
        "colab": {
          "base_uri": "https://localhost:8080/"
        }
      },
      "execution_count": null,
      "outputs": [
        {
          "output_type": "display_data",
          "data": {
            "text/plain": [
              "<Figure size 432x288 with 1 Axes>"
            ],
            "image/png": "[encoded data removed]"
          },
          "metadata": {
            "needs_background": "light"
          }
        }
      ]
    },
    {
      "cell_type": "code",
      "source": [
        "# เปลี่ยนสี\n",
        "\n",
        "plt.bar([1, 2, 3], sample_data['PetalLength'], color = ['r', 'g', 'b'])\n",
        "plt.xticks([1, 2, 3], sample_data.reset_index()['Name'], rotation = 'vertical')\n",
        "plt.title('Comparison between average petal length of 3 iris flowers')\n",
        "plt.grid(True)\n",
        "plt.ylabel('size (cm)') ;"
      ],
      "metadata": {
        "id": "tMwhtWiCaEnu",
        "outputId": "1357c188-13ef-4892-ba2c-334d30344a48",
        "colab": {
          "base_uri": "https://localhost:8080/"
        }
      },
      "execution_count": null,
      "outputs": [
        {
          "output_type": "display_data",
          "data": {
            "text/plain": [
              "<Figure size 432x288 with 1 Axes>"
            ],
            "image/png": "[encoded data removed]"
          },
          "metadata": {
            "needs_background": "light"
          }
        }
      ]
    },
    {
      "cell_type": "markdown",
      "source": [
        "### เปรียบเทียบปริมาณ มากกว่า 1 ปริมาณของ object หลาย class"
      ],
      "metadata": {
        "id": "8jhu8lRyaxjm"
      }
    },
    {
      "cell_type": "code",
      "source": [
        "import numpy as np"
      ],
      "metadata": {
        "id": "e_huP7Hla3QT"
      },
      "execution_count": null,
      "outputs": []
    },
    {
      "cell_type": "code",
      "source": [
        "\n",
        "width = 0.2\n",
        "\n",
        "plt.bar([1,2],[sample_data['PetalLength'][1],sample_data['PetalWidth'][1]],width,color='g',label='vericolor') #ดอกที่2 versicolor\n",
        "plt.bar([1-width,2-width],[sample_data['PetalLength'][0],sample_data['PetalWidth'][0]],width,color='r',label='setosa') #ดอกที่1 setosa ขยับซ้าย\n",
        "plt.bar([1+width,2+width],[sample_data['PetalLength'][2],sample_data['PetalWidth'][2]],width,color='b',label='verginica') #ดอกที่3 verginica ขยับขวา\n",
        "\n",
        "plt.xticks([1,2],['Petal Length','Petal Width'])\n",
        "plt.legend();"
      ],
      "metadata": {
        "id": "mqcVaf5tjTKg",
        "outputId": "4baa673a-0a78-4c21-f508-fe04d94f5966",
        "colab": {
          "base_uri": "https://localhost:8080/"
        }
      },
      "execution_count": null,
      "outputs": [
        {
          "output_type": "display_data",
          "data": {
            "text/plain": [
              "<Figure size 432x288 with 1 Axes>"
            ],
            "image/png": "[encoded data removed]"
          },
          "metadata": {
            "needs_background": "light"
          }
        }
      ]
    },
    {
      "cell_type": "markdown",
      "source": [
        "### การนำปริมาณหลายปริมาณมาซ้อนกัน"
      ],
      "metadata": {
        "id": "yJaIcXGzimyX"
      }
    },
    {
      "cell_type": "code",
      "source": [
        "plt.bar([1, 2, 3], sample_data['PetalLength'], color = 'b', label = 'Petal Length')\n",
        "plt.bar([1, 2, 3], sample_data['PetalWidth'],bottom = sample_data['PetalLength'], color = 'r', label = 'Petal Width')\n",
        "plt.xticks([1,2,3],sample_data.reset_index()['Name'])\n",
        "plt.grid(True, axis = 'y')\n",
        "plt.legend() ;"
      ],
      "metadata": {
        "id": "wezXpt5Yh1ez",
        "outputId": "130183c5-5af2-40f5-d836-a6454e76d545",
        "colab": {
          "base_uri": "https://localhost:8080/"
        }
      },
      "execution_count": null,
      "outputs": [
        {
          "output_type": "display_data",
          "data": {
            "text/plain": [
              "<Figure size 432x288 with 1 Axes>"
            ],
            "image/png": "[encoded data removed]"
          },
          "metadata": {
            "needs_background": "light"
          }
        }
      ]
    },
    {
      "cell_type": "markdown",
      "source": [
        "### Bar Chart แบบตะแคงข้าง"
      ],
      "metadata": {
        "id": "Fw5aGWyhnxzN"
      }
    },
    {
      "cell_type": "code",
      "source": [
        "plt.barh([1, 2, 3], sample_data['PetalLength'], color = 'b', label = 'Petal Length')\n",
        "plt.barh([1, 2, 3], sample_data['PetalWidth'],left = sample_data['PetalLength'], color = 'r', label = 'Petal Width')\n",
        "plt.yticks([1,2,3],sample_data.reset_index()['Name'])\n",
        "plt.grid(True, axis = 'x')\n",
        "plt.legend() ;"
      ],
      "metadata": {
        "id": "-ZTXpvqNnSQV",
        "outputId": "9b0bf087-f29e-4f1b-d726-36ede7b5a6b6",
        "colab": {
          "base_uri": "https://localhost:8080/"
        }
      },
      "execution_count": null,
      "outputs": [
        {
          "output_type": "display_data",
          "data": {
            "text/plain": [
              "<Figure size 432x288 with 1 Axes>"
            ],
            "image/png": "[encoded data removed]"
          },
          "metadata": {
            "needs_background": "light"
          }
        }
      ]
    },
    {
      "cell_type": "markdown",
      "source": [
        "# HW7\n",
        "\n",
        "1. plot bar chart เปรียบเทียบ sepal length, sepal width, petal length และ petal width ของ ดอก Iris ทั้ง 3 ชนิด\n",
        "2. plot bar chart เปรียบเทียบขนดโดยรวม ของ ดอก Iris ทั้ง 3 ชนิด โดยดูจาก sepal length, sepal width, petal length และ petal width"
      ],
      "metadata": {
        "id": "L8W14PcbmgEI"
      }
    },
    {
      "cell_type": "code",
      "source": [
        "sample_data['SepalWidth']"
      ],
      "metadata": {
        "id": "baUXZFZQFN6S",
        "outputId": "1bff0e46-adb4-4df7-93bb-0f76d65cd09f",
        "colab": {
          "base_uri": "https://localhost:8080/"
        }
      },
      "execution_count": null,
      "outputs": [
        {
          "output_type": "execute_result",
          "data": {
            "text/plain": [
              "Name\n",
              "Iris-setosa        3.418\n",
              "Iris-versicolor    2.770\n",
              "Iris-virginica     2.974\n",
              "Name: SepalWidth, dtype: float64"
            ]
          },
          "metadata": {},
          "execution_count": 26
        }
      ]
    },
    {
      "cell_type": "code",
      "source": [
        "sample_data['SepalLength']"
      ],
      "metadata": {
        "id": "cYpN344QFVUB",
        "outputId": "ce9ad7fe-f4d4-46ed-f82e-cd751196a436",
        "colab": {
          "base_uri": "https://localhost:8080/"
        }
      },
      "execution_count": null,
      "outputs": [
        {
          "output_type": "execute_result",
          "data": {
            "text/plain": [
              "Name\n",
              "Iris-setosa        5.006\n",
              "Iris-versicolor    5.936\n",
              "Iris-virginica     6.588\n",
              "Name: SepalLength, dtype: float64"
            ]
          },
          "metadata": {},
          "execution_count": 27
        }
      ]
    },
    {
      "cell_type": "code",
      "source": [
        "plt.subplots(figsize=(8, 5))\n",
        "width = 0.2\n",
        "\n",
        "plt.bar([1,2,3,4],[sample_data['PetalLength'][1], sample_data['PetalWidth'][1], sample_data['SepalLength'][1], sample_data['SepalWidth'][1]],width,color='#FF00E0',label='vericolor') #ดอกที่2 versicolor\n",
        "plt.bar([1-width,2-width,3-width,4-width],[sample_data['PetalLength'][0], sample_data['PetalWidth'][0], sample_data['SepalLength'][0], sample_data['SepalWidth'][0]],width,color='#00FFE2',label='setosa') #ดอกที่1 setosa ขยับซ้าย\n",
        "plt.bar([1+width,2+width,3+width,4+width],[sample_data['PetalLength'][2], sample_data['PetalWidth'][2], sample_data['SepalLength'][2], sample_data['SepalWidth'][2]],width,color='#ECFF00',label='verginica') #ดอกที่3 verginica ขยับขวา\n",
        "\n",
        "plt.xticks([1,2,3,4],['Petal Length','Petal Width', 'Sepal Width', ' Sepal Length'])\n",
        "plt.grid(True)\n",
        "plt.legend();"
      ],
      "metadata": {
        "id": "HUgSE3cSE7IV",
        "outputId": "f29333e1-4069-4dce-a77f-6194a0746842",
        "colab": {
          "base_uri": "https://localhost:8080/",
          "height": 320
        }
      },
      "execution_count": null,
      "outputs": [
        {
          "output_type": "display_data",
          "data": {
            "text/plain": [
              "<Figure size 576x360 with 1 Axes>"
            ],
            "image/png": "[encoded data removed]"
          },
          "metadata": {
            "needs_background": "light"
          }
        }
      ]
    },
    {
      "cell_type": "code",
      "source": [
        "plt.subplots(figsize=(7, 6))\n",
        "width = 0.3\n",
        "\n",
        "plt.bar([1, 2, 3], sample_data['PetalLength'], color = [0,0,0.8], label = 'Petal Length')\n",
        "plt.bar([1, 2, 3], sample_data['PetalWidth'],bottom = sample_data['PetalLength'], color = [0.2,0.4,0.7], label = 'Petal Width')\n",
        "plt.bar([1, 2, 3], sample_data['SepalLength'],bottom = sample_data['PetalWidth']+sample_data['PetalLength'], color = '#00FFE2', label = 'Sepal Length')\n",
        "plt.bar([1, 2, 3], sample_data['SepalWidth'],bottom = sample_data['PetalWidth']+sample_data['PetalLength']+sample_data['SepalLength'], color = [0.5,0.5,0.5], label = 'Sepal Width')\n",
        "plt.xticks([1,2,3],sample_data.reset_index()['Name'])\n",
        "#plt.grid(True)\n",
        "plt.legend() ;\n",
        "\n",
        "# อันไหนที่ขนาดใกล้เคียงกันให้วางเป็นพื้น จะสามารถเปรียบเทียบอันอื่นได้ด้วย"
      ],
      "metadata": {
        "id": "F7c03SSIIhE7",
        "outputId": "81a91409-283e-4ab7-c0d4-a2fb40c33366",
        "colab": {
          "base_uri": "https://localhost:8080/",
          "height": 374
        }
      },
      "execution_count": null,
      "outputs": [
        {
          "output_type": "display_data",
          "data": {
            "text/plain": [
              "<Figure size 504x432 with 1 Axes>"
            ],
            "image/png": "[encoded data removed]"
          },
          "metadata": {
            "needs_background": "light"
          }
        }
      ]
    },
    {
      "cell_type": "code",
      "source": [
        "plt.subplots(figsize=(7, 6))\n",
        "width = 0.3\n",
        "\n",
        "plt.bar([1, 2, 3], sample_data['SepalLength'], color = [0,0,0.8], label = 'Sepal Length')\n",
        "plt.bar([1, 2, 3], sample_data['SepalWidth'],bottom = sample_data['SepalLength']+1 , color = [0.2,0.4,0.7], label = 'Sepal Width')  # bottom มากเกินไป จะเห็นชั้นแยก\n",
        "plt.bar([1, 2, 3], sample_data['PetalLength'],bottom = sample_data['SepalWidth']+sample_data['SepalLength'], color = '#00FFE2', label = 'Petal Length')\n",
        "plt.bar([1, 2, 3], sample_data['PetalWidth'],bottom = sample_data['SepalWidth']+sample_data['SepalLength']+sample_data['PetalLength'], color = [0.5,0.5,0.5], label = 'Petal Width')  # # bottom น้อยเกินไป จะเห็น bar ซ้อนกัน\n",
        "plt.xticks([1,2,3],sample_data.reset_index()['Name'])\n",
        "#plt.grid(True)\n",
        "plt.legend() ;"
      ],
      "metadata": {
        "id": "fe3cOsDi6iU8",
        "outputId": "7b2174be-f2f5-4d08-c1a0-110f94cb332b",
        "colab": {
          "base_uri": "https://localhost:8080/",
          "height": 374
        }
      },
      "execution_count": null,
      "outputs": [
        {
          "output_type": "display_data",
          "data": {
            "text/plain": [
              "<Figure size 504x432 with 1 Axes>"
            ],
            "image/png": "[encoded data removed]"
          },
          "metadata": {
            "needs_background": "light"
          }
        }
      ]
    },
    {
      "cell_type": "markdown",
      "source": [
        "ตัวอย่างอาจารย์"
      ],
      "metadata": {
        "id": "Yo6TL8-AGji7"
      }
    },
    {
      "cell_type": "code",
      "source": [
        "plt.subplots(figsize=(10,5))\n",
        "plt.bar([1,2,3],sample_data['SepalLength'],color='darkviolet',label='Sepal Length')\n",
        "\n",
        "plt.bar([1,2,3],sample_data['SepalWidth'],bottom=sample_data['SepalLength']+1,color='blue',label='Sepal Width') ## bottom มากเกินไป จะเห็นชั้นแยก\n",
        "\n",
        "plt.bar([1,2,3],sample_data['PetalLength'],bottom=sample_data['SepalLength']+sample_data['SepalWidth'],color=[0.8,0.2,0.0,0.5],label='Petal Length') ## bottom น้อยเกินไป จะเห็น bar ซ้อนกัน\n",
        "\n",
        "plt.bar([1,2,3],sample_data['PetalWidth'],bottom=sample_data['SepalLength']+sample_data['SepalWidth']+sample_data['PetalLength'],color='aqua',label='Petal Length')\n",
        "\n",
        "plt.title('Compare the overall sizes of 3 types of iris flowers')\n",
        "plt.xticks([1,2,3], sample_data.reset_index()['Name'])\n",
        "plt.grid(True,axis='y')\n",
        "plt.legend();"
      ],
      "metadata": {
        "id": "wIL3qYEbGc9s",
        "outputId": "a2c26cbe-fa2a-42ec-919f-5e400875fdc0",
        "colab": {
          "base_uri": "https://localhost:8080/",
          "height": 336
        }
      },
      "execution_count": null,
      "outputs": [
        {
          "output_type": "display_data",
          "data": {
            "text/plain": [
              "<Figure size 720x360 with 1 Axes>"
            ],
            "image/png": "[encoded data removed]"
          },
          "metadata": {
            "needs_background": "light"
          }
        }
      ]
    },
    {
      "cell_type": "markdown",
      "source": [
        "## Histogram\n",
        "แสดงความถี่ของข้อมูล"
      ],
      "metadata": {
        "id": "p6OptowHoinm"
      }
    },
    {
      "cell_type": "code",
      "source": [
        "np.random.seed(2022)  # ถ้าใช้ random.seed() เหมือนกัน ตัวเลขที่สุ่มได้จะเหมือนกัน\n",
        "X = np.random.randint(1, 101, 10000)  # ตัวเลขน้อยสุด คือ 1 มากสุด คือ 101 สุ่มมาจำนวน 10000 ตัว"
      ],
      "metadata": {
        "id": "qfOyeyE1lQTE"
      },
      "execution_count": null,
      "outputs": []
    },
    {
      "cell_type": "code",
      "source": [
        "X"
      ],
      "metadata": {
        "id": "5MvbnlQJo1_S",
        "outputId": "9d288b5e-07b3-4948-cc44-ec09f5a67462",
        "colab": {
          "base_uri": "https://localhost:8080/"
        }
      },
      "execution_count": null,
      "outputs": [
        {
          "output_type": "execute_result",
          "data": {
            "text/plain": [
              "array([93, 46, 50, ..., 64,  7, 46])"
            ]
          },
          "metadata": {},
          "execution_count": 32
        }
      ]
    },
    {
      "cell_type": "code",
      "source": [
        "histout = plt.hist(X)"
      ],
      "metadata": {
        "id": "pb-T2zToqFC9",
        "outputId": "9bd879dd-ed65-4d53-f8da-46b3accbe1a0",
        "colab": {
          "base_uri": "https://localhost:8080/",
          "height": 265
        }
      },
      "execution_count": null,
      "outputs": [
        {
          "output_type": "display_data",
          "data": {
            "text/plain": [
              "<Figure size 432x288 with 1 Axes>"
            ],
            "image/png": "[encoded data removed]"
          },
          "metadata": {
            "needs_background": "light"
          }
        }
      ]
    },
    {
      "cell_type": "code",
      "source": [
        "histout"
      ],
      "metadata": {
        "id": "WLDMobfEqLaT",
        "outputId": "a3bd1b9f-0d21-40fb-a8a9-0ed3913c2486",
        "colab": {
          "base_uri": "https://localhost:8080/"
        }
      },
      "execution_count": null,
      "outputs": [
        {
          "output_type": "execute_result",
          "data": {
            "text/plain": [
              "(array([1020., 1033.,  963.,  988., 1018.,  990., 1010., 1012.,  992.,\n",
              "         974.]),\n",
              " array([  1. ,  10.9,  20.8,  30.7,  40.6,  50.5,  60.4,  70.3,  80.2,\n",
              "         90.1, 100. ]),\n",
              " <a list of 10 Patch objects>)"
            ]
          },
          "metadata": {},
          "execution_count": 34
        }
      ]
    },
    {
      "cell_type": "code",
      "source": [
        "histout[0]"
      ],
      "metadata": {
        "id": "Qgdfiu3lraFU",
        "outputId": "f4464ab0-08f5-4a98-bc5d-fbb0bb46a435",
        "colab": {
          "base_uri": "https://localhost:8080/"
        }
      },
      "execution_count": null,
      "outputs": [
        {
          "output_type": "execute_result",
          "data": {
            "text/plain": [
              "array([1020., 1033.,  963.,  988., 1018.,  990., 1010., 1012.,  992.,\n",
              "        974.])"
            ]
          },
          "metadata": {},
          "execution_count": 35
        }
      ]
    },
    {
      "cell_type": "code",
      "source": [
        "histout[1]"
      ],
      "metadata": {
        "id": "E7S4_stQr1__",
        "outputId": "694f7644-8846-45cf-aeb4-0a99779f980e",
        "colab": {
          "base_uri": "https://localhost:8080/"
        }
      },
      "execution_count": null,
      "outputs": [
        {
          "output_type": "execute_result",
          "data": {
            "text/plain": [
              "array([  1. ,  10.9,  20.8,  30.7,  40.6,  50.5,  60.4,  70.3,  80.2,\n",
              "        90.1, 100. ])"
            ]
          },
          "metadata": {},
          "execution_count": 36
        }
      ]
    },
    {
      "cell_type": "markdown",
      "source": [
        "## Tree map\n",
        "https://www.analyticsvidhya.com/blog/2021/06/build-treemaps-in-python-using-squarify/"
      ],
      "metadata": {
        "id": "mXh4ht8k8R-2"
      }
    },
    {
      "cell_type": "code",
      "source": [
        "!pip install squarify"
      ],
      "metadata": {
        "id": "jJGlz831r3gZ",
        "outputId": "8af0ce42-a37b-4cee-ce14-ea8d5a7a9cc4",
        "colab": {
          "base_uri": "https://localhost:8080/"
        }
      },
      "execution_count": null,
      "outputs": [
        {
          "output_type": "stream",
          "name": "stdout",
          "text": [
            "Collecting squarify\n",
            "  Downloading squarify-0.4.3-py3-none-any.whl (4.3 kB)\n",
            "Installing collected packages: squarify\n",
            "Successfully installed squarify-0.4.3\n"
          ]
        }
      ]
    },
    {
      "cell_type": "code",
      "source": [
        "import matplotlib.pyplot as plt\n",
        "import squarify"
      ],
      "metadata": {
        "id": "4uM4zY5v8XQv"
      },
      "execution_count": null,
      "outputs": []
    },
    {
      "cell_type": "code",
      "source": [
        "data = [500, 250, 60, 120]"
      ],
      "metadata": {
        "id": "IsjzHYYv8beG"
      },
      "execution_count": null,
      "outputs": []
    },
    {
      "cell_type": "code",
      "source": [
        "squarify.plot(data)\n",
        "plt.axis('off')"
      ],
      "metadata": {
        "id": "eOYRgdj88qnn",
        "outputId": "51c0995e-ec90-4146-d70c-71db2ae08f49",
        "colab": {
          "base_uri": "https://localhost:8080/",
          "height": 265
        }
      },
      "execution_count": null,
      "outputs": [
        {
          "output_type": "execute_result",
          "data": {
            "text/plain": [
              "(0.0, 100.0, 0.0, 100.0)"
            ]
          },
          "metadata": {},
          "execution_count": 40
        },
        {
          "output_type": "display_data",
          "data": {
            "text/plain": [
              "<Figure size 432x288 with 1 Axes>"
            ],
            "image/png": "[encoded data removed]"
          },
          "metadata": {
            "needs_background": "light"
          }
        }
      ]
    },
    {
      "cell_type": "markdown",
      "source": [
        "### ตั้งสีที่ต้องการ"
      ],
      "metadata": {
        "id": "n56xivIE9R_N"
      }
    },
    {
      "cell_type": "code",
      "source": [
        "data = [500, 250, 120, 60]\n",
        "color = ['red', 'green', 'blue', 'orange']\n",
        "squarify.plot(data, color=color)\n",
        "plt.axis('off')\n",
        "plt.show()"
      ],
      "metadata": {
        "id": "QWqJj17D88tm",
        "outputId": "c7fe01ec-9420-46d7-997c-205d62ea60b5",
        "colab": {
          "base_uri": "https://localhost:8080/",
          "height": 248
        }
      },
      "execution_count": null,
      "outputs": [
        {
          "output_type": "display_data",
          "data": {
            "text/plain": [
              "<Figure size 432x288 with 1 Axes>"
            ],
            "image/png": "[encoded data removed]"
          },
          "metadata": {
            "needs_background": "light"
          }
        }
      ]
    },
    {
      "cell_type": "markdown",
      "source": [
        "### เพิ่มชื่อให้กับปริมาณแต่ละตัว"
      ],
      "metadata": {
        "id": "HxKJTxBm9t1B"
      }
    },
    {
      "cell_type": "code",
      "source": [
        "labels = ['SCI', 'ENG', 'EDU', 'AGI']\n",
        "data = [500, 250, 120, 60]\n",
        "color = ['red', 'green', 'blue', 'orange']\n",
        "squarify.plot(data ,color=color, label = labels)\n",
        "plt.axis('off')\n",
        "plt.show()"
      ],
      "metadata": {
        "id": "4ySlJ7iv9raM",
        "outputId": "69a8252d-91c6-49f6-cdf4-50b12d23a5c3",
        "colab": {
          "base_uri": "https://localhost:8080/",
          "height": 248
        }
      },
      "execution_count": null,
      "outputs": [
        {
          "output_type": "display_data",
          "data": {
            "text/plain": [
              "<Figure size 432x288 with 1 Axes>"
            ],
            "image/png": "[encoded data removed]"
          },
          "metadata": {
            "needs_background": "light"
          }
        }
      ]
    },
    {
      "cell_type": "code",
      "source": [
        "labels = ['SCI', 'ENG', 'EDU', 'AGI']\n",
        "data = [500, 250, 120, 60]\n",
        "color = ['red', 'green', 'blue', 'orange']\n",
        "squarify.plot(data, color=color, label = labels, pad = True)\n",
        "plt.axis('off')\n",
        "plt.show()"
      ],
      "metadata": {
        "id": "uI1gFUMH-Mtt",
        "outputId": "c91b132a-0fa7-4476-94a9-86d4b162f77f",
        "colab": {
          "base_uri": "https://localhost:8080/",
          "height": 248
        }
      },
      "execution_count": null,
      "outputs": [
        {
          "output_type": "display_data",
          "data": {
            "text/plain": [
              "<Figure size 432x288 with 1 Axes>"
            ],
            "image/png": "[encoded data removed]"
          },
          "metadata": {
            "needs_background": "light"
          }
        }
      ]
    },
    {
      "cell_type": "markdown",
      "source": [
        "# Group HW2\n",
        "plot tree map ของปริมาณผู้ติดเชื้อ covid - 19 ของแต่ละจังหวัดในประเทศไทย ในวันที่ 1 - 4 มีนาคม 2565"
      ],
      "metadata": {
        "id": "Dn_Pxr1T-6Za"
      }
    },
    {
      "cell_type": "code",
      "source": [
        "import pandas as pd  # เรียกใช้คำว่า pd แทน pandas ได้\n",
        "import os"
      ],
      "metadata": {
        "id": "MAZDy0xkIJWX"
      },
      "execution_count": 2,
      "outputs": []
    },
    {
      "cell_type": "code",
      "source": [
        "from google.colab import drive  # pandas ใช้จัดการไฟล์ต่าง ๆ ที่เป็นตาราง เช่น excel .csv\n",
        "drive.mount('/content/drive') # ถ้าไฟล์ใน gg drive ไม่หาย ก็จะยังสามารถรันข้อมูลได้\n",
        "path = '/content/drive/My Drive/dataviz_2021_data'"
      ],
      "metadata": {
        "id": "o3xOMXLCPCxW",
        "outputId": "2b1241bc-3672-4568-90dc-164776382fc6",
        "colab": {
          "base_uri": "https://localhost:8080/"
        }
      },
      "execution_count": 3,
      "outputs": [
        {
          "output_type": "stream",
          "name": "stdout",
          "text": [
            "Mounted at /content/drive\n"
          ]
        }
      ]
    },
    {
      "cell_type": "code",
      "source": [
        "data_file_path=os.path.join(path,'confirmed-cases-since-280265.csv')\n",
        "data_cases=pd.read_csv(data_file_path)"
      ],
      "metadata": {
        "id": "_fML1EYVPT_m"
      },
      "execution_count": 4,
      "outputs": []
    },
    {
      "cell_type": "code",
      "source": [
        "data_cases"
      ],
      "metadata": {
        "id": "SEwIAFKMPT1V",
        "outputId": "1d1b6ad4-a636-455b-949f-7b02a5e45706",
        "colab": {
          "base_uri": "https://localhost:8080/",
          "height": 852
        }
      },
      "execution_count": 5,
      "outputs": [
        {
          "output_type": "execute_result",
          "data": {
            "text/plain": [
              "            No. announce_date Notified date   sex   age Unit nationality  \\\n",
              "0       2869617     28/2/2022     27/2/2022   ชาย  41.0   ปี    Thailand   \n",
              "1       2869618     28/2/2022     27/2/2022  หญิง  45.0   ปี    Thailand   \n",
              "2       2869619     28/2/2022     27/2/2022  หญิง  40.0   ปี    Thailand   \n",
              "3       2869620     28/2/2022     27/2/2022   ชาย  44.0   ปี    Thailand   \n",
              "4       2869621     28/2/2022     27/2/2022   ชาย  11.0   ปี    Thailand   \n",
              "...         ...           ...           ...   ...   ...  ...         ...   \n",
              "337334  3206951     14/3/2022     13/3/2022   ชาย   NaN  NaN    Thailand   \n",
              "337335  3206952     14/3/2022     13/3/2022   ชาย   NaN  NaN    Thailand   \n",
              "337336  3206953     14/3/2022     13/3/2022   ชาย   NaN  NaN    Thailand   \n",
              "337337  3206954     14/3/2022     13/3/2022   ชาย   NaN  NaN    Thailand   \n",
              "337338  3206955     14/3/2022     13/3/2022   ชาย   NaN  NaN    Thailand   \n",
              "\n",
              "       province_of_isolation                                         risk  \\\n",
              "0                      พะเยา  สัมผัสใกล้ชิดกับผู้ป่วยยืนยันรายก่อนหน้านี้   \n",
              "1                      พะเยา  สัมผัสใกล้ชิดกับผู้ป่วยยืนยันรายก่อนหน้านี้   \n",
              "2                      พะเยา  สัมผัสใกล้ชิดกับผู้ป่วยยืนยันรายก่อนหน้านี้   \n",
              "3                      พะเยา  สัมผัสใกล้ชิดกับผู้ป่วยยืนยันรายก่อนหน้านี้   \n",
              "4                      พะเยา  สัมผัสใกล้ชิดกับผู้ป่วยยืนยันรายก่อนหน้านี้   \n",
              "...                      ...                                          ...   \n",
              "337334              ปทุมธานี                             ทัณฑสถาน/เรือนจำ   \n",
              "337335              ปทุมธานี                             ทัณฑสถาน/เรือนจำ   \n",
              "337336              ปทุมธานี                             ทัณฑสถาน/เรือนจำ   \n",
              "337337              ปทุมธานี                             ทัณฑสถาน/เรือนจำ   \n",
              "337338              ปทุมธานี                             ทัณฑสถาน/เรือนจำ   \n",
              "\n",
              "       province_of_onset district_of_onset  \n",
              "0                  พะเยา        เมืองพะเยา  \n",
              "1                  พะเยา        เมืองพะเยา  \n",
              "2                  พะเยา        เมืองพะเยา  \n",
              "3                  พะเยา        เมืองพะเยา  \n",
              "4                  พะเยา        เมืองพะเยา  \n",
              "...                  ...               ...  \n",
              "337334               NaN               NaN  \n",
              "337335               NaN               NaN  \n",
              "337336               NaN               NaN  \n",
              "337337               NaN               NaN  \n",
              "337338               NaN               NaN  \n",
              "\n",
              "[337339 rows x 11 columns]"
            ],
            "text/html": [
              "\n",
              "  <div id=\"df-cc3c67a3-1b0d-450d-8146-7fa9f866c76d\">\n",
              "    <div class=\"colab-df-container\">\n",
              "      <div>\n",
              "<style scoped>\n",
              "    .dataframe tbody tr th:only-of-type {\n",
              "        vertical-align: middle;\n",
              "    }\n",
              "\n",
              "    .dataframe tbody tr th {\n",
              "        vertical-align: top;\n",
              "    }\n",
              "\n",
              "    .dataframe thead th {\n",
              "        text-align: right;\n",
              "    }\n",
              "</style>\n",
              "<table border=\"1\" class=\"dataframe\">\n",
              "  <thead>\n",
              "    <tr style=\"text-align: right;\">\n",
              "      <th></th>\n",
              "      <th>No.</th>\n",
              "      <th>announce_date</th>\n",
              "      <th>Notified date</th>\n",
              "      <th>sex</th>\n",
              "      <th>age</th>\n",
              "      <th>Unit</th>\n",
              "      <th>nationality</th>\n",
              "      <th>province_of_isolation</th>\n",
              "      <th>risk</th>\n",
              "      <th>province_of_onset</th>\n",
              "      <th>district_of_onset</th>\n",
              "    </tr>\n",
              "  </thead>\n",
              "  <tbody>\n",
              "    <tr>\n",
              "      <th>0</th>\n",
              "      <td>2869617</td>\n",
              "      <td>28/2/2022</td>\n",
              "      <td>27/2/2022</td>\n",
              "      <td>ชาย</td>\n",
              "      <td>41.0</td>\n",
              "      <td>ปี</td>\n",
              "      <td>Thailand</td>\n",
              "      <td>พะเยา</td>\n",
              "      <td>สัมผัสใกล้ชิดกับผู้ป่วยยืนยันรายก่อนหน้านี้</td>\n",
              "      <td>พะเยา</td>\n",
              "      <td>เมืองพะเยา</td>\n",
              "    </tr>\n",
              "    <tr>\n",
              "      <th>1</th>\n",
              "      <td>2869618</td>\n",
              "      <td>28/2/2022</td>\n",
              "      <td>27/2/2022</td>\n",
              "      <td>หญิง</td>\n",
              "      <td>45.0</td>\n",
              "      <td>ปี</td>\n",
              "      <td>Thailand</td>\n",
              "      <td>พะเยา</td>\n",
              "      <td>สัมผัสใกล้ชิดกับผู้ป่วยยืนยันรายก่อนหน้านี้</td>\n",
              "      <td>พะเยา</td>\n",
              "      <td>เมืองพะเยา</td>\n",
              "    </tr>\n",
              "    <tr>\n",
              "      <th>2</th>\n",
              "      <td>2869619</td>\n",
              "      <td>28/2/2022</td>\n",
              "      <td>27/2/2022</td>\n",
              "      <td>หญิง</td>\n",
              "      <td>40.0</td>\n",
              "      <td>ปี</td>\n",
              "      <td>Thailand</td>\n",
              "      <td>พะเยา</td>\n",
              "      <td>สัมผัสใกล้ชิดกับผู้ป่วยยืนยันรายก่อนหน้านี้</td>\n",
              "      <td>พะเยา</td>\n",
              "      <td>เมืองพะเยา</td>\n",
              "    </tr>\n",
              "    <tr>\n",
              "      <th>3</th>\n",
              "      <td>2869620</td>\n",
              "      <td>28/2/2022</td>\n",
              "      <td>27/2/2022</td>\n",
              "      <td>ชาย</td>\n",
              "      <td>44.0</td>\n",
              "      <td>ปี</td>\n",
              "      <td>Thailand</td>\n",
              "      <td>พะเยา</td>\n",
              "      <td>สัมผัสใกล้ชิดกับผู้ป่วยยืนยันรายก่อนหน้านี้</td>\n",
              "      <td>พะเยา</td>\n",
              "      <td>เมืองพะเยา</td>\n",
              "    </tr>\n",
              "    <tr>\n",
              "      <th>4</th>\n",
              "      <td>2869621</td>\n",
              "      <td>28/2/2022</td>\n",
              "      <td>27/2/2022</td>\n",
              "      <td>ชาย</td>\n",
              "      <td>11.0</td>\n",
              "      <td>ปี</td>\n",
              "      <td>Thailand</td>\n",
              "      <td>พะเยา</td>\n",
              "      <td>สัมผัสใกล้ชิดกับผู้ป่วยยืนยันรายก่อนหน้านี้</td>\n",
              "      <td>พะเยา</td>\n",
              "      <td>เมืองพะเยา</td>\n",
              "    </tr>\n",
              "    <tr>\n",
              "      <th>...</th>\n",
              "      <td>...</td>\n",
              "      <td>...</td>\n",
              "      <td>...</td>\n",
              "      <td>...</td>\n",
              "      <td>...</td>\n",
              "      <td>...</td>\n",
              "      <td>...</td>\n",
              "      <td>...</td>\n",
              "      <td>...</td>\n",
              "      <td>...</td>\n",
              "      <td>...</td>\n",
              "    </tr>\n",
              "    <tr>\n",
              "      <th>337334</th>\n",
              "      <td>3206951</td>\n",
              "      <td>14/3/2022</td>\n",
              "      <td>13/3/2022</td>\n",
              "      <td>ชาย</td>\n",
              "      <td>NaN</td>\n",
              "      <td>NaN</td>\n",
              "      <td>Thailand</td>\n",
              "      <td>ปทุมธานี</td>\n",
              "      <td>ทัณฑสถาน/เรือนจำ</td>\n",
              "      <td>NaN</td>\n",
              "      <td>NaN</td>\n",
              "    </tr>\n",
              "    <tr>\n",
              "      <th>337335</th>\n",
              "      <td>3206952</td>\n",
              "      <td>14/3/2022</td>\n",
              "      <td>13/3/2022</td>\n",
              "      <td>ชาย</td>\n",
              "      <td>NaN</td>\n",
              "      <td>NaN</td>\n",
              "      <td>Thailand</td>\n",
              "      <td>ปทุมธานี</td>\n",
              "      <td>ทัณฑสถาน/เรือนจำ</td>\n",
              "      <td>NaN</td>\n",
              "      <td>NaN</td>\n",
              "    </tr>\n",
              "    <tr>\n",
              "      <th>337336</th>\n",
              "      <td>3206953</td>\n",
              "      <td>14/3/2022</td>\n",
              "      <td>13/3/2022</td>\n",
              "      <td>ชาย</td>\n",
              "      <td>NaN</td>\n",
              "      <td>NaN</td>\n",
              "      <td>Thailand</td>\n",
              "      <td>ปทุมธานี</td>\n",
              "      <td>ทัณฑสถาน/เรือนจำ</td>\n",
              "      <td>NaN</td>\n",
              "      <td>NaN</td>\n",
              "    </tr>\n",
              "    <tr>\n",
              "      <th>337337</th>\n",
              "      <td>3206954</td>\n",
              "      <td>14/3/2022</td>\n",
              "      <td>13/3/2022</td>\n",
              "      <td>ชาย</td>\n",
              "      <td>NaN</td>\n",
              "      <td>NaN</td>\n",
              "      <td>Thailand</td>\n",
              "      <td>ปทุมธานี</td>\n",
              "      <td>ทัณฑสถาน/เรือนจำ</td>\n",
              "      <td>NaN</td>\n",
              "      <td>NaN</td>\n",
              "    </tr>\n",
              "    <tr>\n",
              "      <th>337338</th>\n",
              "      <td>3206955</td>\n",
              "      <td>14/3/2022</td>\n",
              "      <td>13/3/2022</td>\n",
              "      <td>ชาย</td>\n",
              "      <td>NaN</td>\n",
              "      <td>NaN</td>\n",
              "      <td>Thailand</td>\n",
              "      <td>ปทุมธานี</td>\n",
              "      <td>ทัณฑสถาน/เรือนจำ</td>\n",
              "      <td>NaN</td>\n",
              "      <td>NaN</td>\n",
              "    </tr>\n",
              "  </tbody>\n",
              "</table>\n",
              "<p>337339 rows × 11 columns</p>\n",
              "</div>\n",
              "      <button class=\"colab-df-convert\" onclick=\"convertToInteractive('df-cc3c67a3-1b0d-450d-8146-7fa9f866c76d')\"\n",
              "              title=\"Convert this dataframe to an interactive table.\"\n",
              "              style=\"display:none;\">\n",
              "        \n",
              "  <svg xmlns=\"http://www.w3.org/2000/svg\" height=\"24px\"viewBox=\"0 0 24 24\"\n",
              "       width=\"24px\">\n",
              "    <path d=\"M0 0h24v24H0V0z\" fill=\"none\"/>\n",
              "    <path d=\"M18.56 5.44l.94 2.06.94-2.06 2.06-.94-2.06-.94-.94-2.06-.94 2.06-2.06.94zm-11 1L8.5 8.5l.94-2.06 2.06-.94-2.06-.94L8.5 2.5l-.94 2.06-2.06.94zm10 10l.94 2.06.94-2.06 2.06-.94-2.06-.94-.94-2.06-.94 2.06-2.06.94z\"/><path d=\"M17.41 7.96l-1.37-1.37c-.4-.4-.92-.59-1.43-.59-.52 0-1.04.2-1.43.59L10.3 9.45l-7.72 7.72c-.78.78-.78 2.05 0 2.83L4 21.41c.39.39.9.59 1.41.59.51 0 1.02-.2 1.41-.59l7.78-7.78 2.81-2.81c.8-.78.8-2.07 0-2.86zM5.41 20L4 18.59l7.72-7.72 1.47 1.35L5.41 20z\"/>\n",
              "  </svg>\n",
              "      </button>\n",
              "      \n",
              "  <style>\n",
              "    .colab-df-container {\n",
              "      display:flex;\n",
              "      flex-wrap:wrap;\n",
              "      gap: 12px;\n",
              "    }\n",
              "\n",
              "    .colab-df-convert {\n",
              "      background-color: #E8F0FE;\n",
              "      border: none;\n",
              "      border-radius: 50%;\n",
              "      cursor: pointer;\n",
              "      display: none;\n",
              "      fill: #1967D2;\n",
              "      height: 32px;\n",
              "      padding: 0 0 0 0;\n",
              "      width: 32px;\n",
              "    }\n",
              "\n",
              "    .colab-df-convert:hover {\n",
              "      background-color: #E2EBFA;\n",
              "      box-shadow: 0px 1px 2px rgba(60, 64, 67, 0.3), 0px 1px 3px 1px rgba(60, 64, 67, 0.15);\n",
              "      fill: #174EA6;\n",
              "    }\n",
              "\n",
              "    [theme=dark] .colab-df-convert {\n",
              "      background-color: #3B4455;\n",
              "      fill: #D2E3FC;\n",
              "    }\n",
              "\n",
              "    [theme=dark] .colab-df-convert:hover {\n",
              "      background-color: #434B5C;\n",
              "      box-shadow: 0px 1px 3px 1px rgba(0, 0, 0, 0.15);\n",
              "      filter: drop-shadow(0px 1px 2px rgba(0, 0, 0, 0.3));\n",
              "      fill: #FFFFFF;\n",
              "    }\n",
              "  </style>\n",
              "\n",
              "      <script>\n",
              "        const buttonEl =\n",
              "          document.querySelector('#df-cc3c67a3-1b0d-450d-8146-7fa9f866c76d button.colab-df-convert');\n",
              "        buttonEl.style.display =\n",
              "          google.colab.kernel.accessAllowed ? 'block' : 'none';\n",
              "\n",
              "        async function convertToInteractive(key) {\n",
              "          const element = document.querySelector('#df-cc3c67a3-1b0d-450d-8146-7fa9f866c76d');\n",
              "          const dataTable =\n",
              "            await google.colab.kernel.invokeFunction('convertToInteractive',\n",
              "                                                     [key], {});\n",
              "          if (!dataTable) return;\n",
              "\n",
              "          const docLinkHtml = 'Like what you see? Visit the ' +\n",
              "            '<a target=\"_blank\" href=https://colab.research.google.com/notebooks/data_table.ipynb>data table notebook</a>'\n",
              "            + ' to learn more about interactive tables.';\n",
              "          element.innerHTML = '';\n",
              "          dataTable['output_type'] = 'display_data';\n",
              "          await google.colab.output.renderOutput(dataTable, element);\n",
              "          const docLink = document.createElement('div');\n",
              "          docLink.innerHTML = docLinkHtml;\n",
              "          element.appendChild(docLink);\n",
              "        }\n",
              "      </script>\n",
              "    </div>\n",
              "  </div>\n",
              "  "
            ]
          },
          "metadata": {},
          "execution_count": 5
        }
      ]
    },
    {
      "cell_type": "code",
      "source": [
        "d1_3 = data_cases[data_cases['announce_date'] == '1/3/2022'][['No.', 'announce_date', 'province_of_onset']]\n",
        "d2_3 = data_cases[data_cases['announce_date'] == '2/3/2022'][['No.', 'announce_date', 'province_of_onset']]\n",
        "d3_3 = data_cases[data_cases['announce_date'] == '3/3/2022'][['No.', 'announce_date', 'province_of_onset']]\n",
        "d4_3 = data_cases[data_cases['announce_date'] == '4/3/2022'][['No.', 'announce_date', 'province_of_onset']]\n",
        "data_covid = pd.concat([d1_3,d2_3,d3_3,d4_3]) #รวมตาราง\n",
        "data_covid"
      ],
      "metadata": {
        "id": "q_lWTuDLPTlp",
        "outputId": "999c065f-eb38-430c-ac9a-ae82bc229822",
        "colab": {
          "base_uri": "https://localhost:8080/",
          "height": 424
        }
      },
      "execution_count": 7,
      "outputs": [
        {
          "output_type": "execute_result",
          "data": {
            "text/plain": [
              "            No. announce_date province_of_onset\n",
              "22311   2891928      1/3/2022        แม่ฮ่องสอน\n",
              "22312   2891929      1/3/2022        แม่ฮ่องสอน\n",
              "22313   2891930      1/3/2022        แม่ฮ่องสอน\n",
              "22314   2891931      1/3/2022        แม่ฮ่องสอน\n",
              "22315   2891932      1/3/2022         เชียงใหม่\n",
              "...         ...           ...               ...\n",
              "112375  2981992      4/3/2022       สมุทรปราการ\n",
              "112376  2981993      4/3/2022       สมุทรปราการ\n",
              "112377  2981994      4/3/2022       สมุทรปราการ\n",
              "112378  2981995      4/3/2022       สมุทรปราการ\n",
              "112379  2981996      4/3/2022       สมุทรปราการ\n",
              "\n",
              "[90069 rows x 3 columns]"
            ],
            "text/html": [
              "\n",
              "  <div id=\"df-697d2faf-82e4-4ddf-beed-4748bd72942a\">\n",
              "    <div class=\"colab-df-container\">\n",
              "      <div>\n",
              "<style scoped>\n",
              "    .dataframe tbody tr th:only-of-type {\n",
              "        vertical-align: middle;\n",
              "    }\n",
              "\n",
              "    .dataframe tbody tr th {\n",
              "        vertical-align: top;\n",
              "    }\n",
              "\n",
              "    .dataframe thead th {\n",
              "        text-align: right;\n",
              "    }\n",
              "</style>\n",
              "<table border=\"1\" class=\"dataframe\">\n",
              "  <thead>\n",
              "    <tr style=\"text-align: right;\">\n",
              "      <th></th>\n",
              "      <th>No.</th>\n",
              "      <th>announce_date</th>\n",
              "      <th>province_of_onset</th>\n",
              "    </tr>\n",
              "  </thead>\n",
              "  <tbody>\n",
              "    <tr>\n",
              "      <th>22311</th>\n",
              "      <td>2891928</td>\n",
              "      <td>1/3/2022</td>\n",
              "      <td>แม่ฮ่องสอน</td>\n",
              "    </tr>\n",
              "    <tr>\n",
              "      <th>22312</th>\n",
              "      <td>2891929</td>\n",
              "      <td>1/3/2022</td>\n",
              "      <td>แม่ฮ่องสอน</td>\n",
              "    </tr>\n",
              "    <tr>\n",
              "      <th>22313</th>\n",
              "      <td>2891930</td>\n",
              "      <td>1/3/2022</td>\n",
              "      <td>แม่ฮ่องสอน</td>\n",
              "    </tr>\n",
              "    <tr>\n",
              "      <th>22314</th>\n",
              "      <td>2891931</td>\n",
              "      <td>1/3/2022</td>\n",
              "      <td>แม่ฮ่องสอน</td>\n",
              "    </tr>\n",
              "    <tr>\n",
              "      <th>22315</th>\n",
              "      <td>2891932</td>\n",
              "      <td>1/3/2022</td>\n",
              "      <td>เชียงใหม่</td>\n",
              "    </tr>\n",
              "    <tr>\n",
              "      <th>...</th>\n",
              "      <td>...</td>\n",
              "      <td>...</td>\n",
              "      <td>...</td>\n",
              "    </tr>\n",
              "    <tr>\n",
              "      <th>112375</th>\n",
              "      <td>2981992</td>\n",
              "      <td>4/3/2022</td>\n",
              "      <td>สมุทรปราการ</td>\n",
              "    </tr>\n",
              "    <tr>\n",
              "      <th>112376</th>\n",
              "      <td>2981993</td>\n",
              "      <td>4/3/2022</td>\n",
              "      <td>สมุทรปราการ</td>\n",
              "    </tr>\n",
              "    <tr>\n",
              "      <th>112377</th>\n",
              "      <td>2981994</td>\n",
              "      <td>4/3/2022</td>\n",
              "      <td>สมุทรปราการ</td>\n",
              "    </tr>\n",
              "    <tr>\n",
              "      <th>112378</th>\n",
              "      <td>2981995</td>\n",
              "      <td>4/3/2022</td>\n",
              "      <td>สมุทรปราการ</td>\n",
              "    </tr>\n",
              "    <tr>\n",
              "      <th>112379</th>\n",
              "      <td>2981996</td>\n",
              "      <td>4/3/2022</td>\n",
              "      <td>สมุทรปราการ</td>\n",
              "    </tr>\n",
              "  </tbody>\n",
              "</table>\n",
              "<p>90069 rows × 3 columns</p>\n",
              "</div>\n",
              "      <button class=\"colab-df-convert\" onclick=\"convertToInteractive('df-697d2faf-82e4-4ddf-beed-4748bd72942a')\"\n",
              "              title=\"Convert this dataframe to an interactive table.\"\n",
              "              style=\"display:none;\">\n",
              "        \n",
              "  <svg xmlns=\"http://www.w3.org/2000/svg\" height=\"24px\"viewBox=\"0 0 24 24\"\n",
              "       width=\"24px\">\n",
              "    <path d=\"M0 0h24v24H0V0z\" fill=\"none\"/>\n",
              "    <path d=\"M18.56 5.44l.94 2.06.94-2.06 2.06-.94-2.06-.94-.94-2.06-.94 2.06-2.06.94zm-11 1L8.5 8.5l.94-2.06 2.06-.94-2.06-.94L8.5 2.5l-.94 2.06-2.06.94zm10 10l.94 2.06.94-2.06 2.06-.94-2.06-.94-.94-2.06-.94 2.06-2.06.94z\"/><path d=\"M17.41 7.96l-1.37-1.37c-.4-.4-.92-.59-1.43-.59-.52 0-1.04.2-1.43.59L10.3 9.45l-7.72 7.72c-.78.78-.78 2.05 0 2.83L4 21.41c.39.39.9.59 1.41.59.51 0 1.02-.2 1.41-.59l7.78-7.78 2.81-2.81c.8-.78.8-2.07 0-2.86zM5.41 20L4 18.59l7.72-7.72 1.47 1.35L5.41 20z\"/>\n",
              "  </svg>\n",
              "      </button>\n",
              "      \n",
              "  <style>\n",
              "    .colab-df-container {\n",
              "      display:flex;\n",
              "      flex-wrap:wrap;\n",
              "      gap: 12px;\n",
              "    }\n",
              "\n",
              "    .colab-df-convert {\n",
              "      background-color: #E8F0FE;\n",
              "      border: none;\n",
              "      border-radius: 50%;\n",
              "      cursor: pointer;\n",
              "      display: none;\n",
              "      fill: #1967D2;\n",
              "      height: 32px;\n",
              "      padding: 0 0 0 0;\n",
              "      width: 32px;\n",
              "    }\n",
              "\n",
              "    .colab-df-convert:hover {\n",
              "      background-color: #E2EBFA;\n",
              "      box-shadow: 0px 1px 2px rgba(60, 64, 67, 0.3), 0px 1px 3px 1px rgba(60, 64, 67, 0.15);\n",
              "      fill: #174EA6;\n",
              "    }\n",
              "\n",
              "    [theme=dark] .colab-df-convert {\n",
              "      background-color: #3B4455;\n",
              "      fill: #D2E3FC;\n",
              "    }\n",
              "\n",
              "    [theme=dark] .colab-df-convert:hover {\n",
              "      background-color: #434B5C;\n",
              "      box-shadow: 0px 1px 3px 1px rgba(0, 0, 0, 0.15);\n",
              "      filter: drop-shadow(0px 1px 2px rgba(0, 0, 0, 0.3));\n",
              "      fill: #FFFFFF;\n",
              "    }\n",
              "  </style>\n",
              "\n",
              "      <script>\n",
              "        const buttonEl =\n",
              "          document.querySelector('#df-697d2faf-82e4-4ddf-beed-4748bd72942a button.colab-df-convert');\n",
              "        buttonEl.style.display =\n",
              "          google.colab.kernel.accessAllowed ? 'block' : 'none';\n",
              "\n",
              "        async function convertToInteractive(key) {\n",
              "          const element = document.querySelector('#df-697d2faf-82e4-4ddf-beed-4748bd72942a');\n",
              "          const dataTable =\n",
              "            await google.colab.kernel.invokeFunction('convertToInteractive',\n",
              "                                                     [key], {});\n",
              "          if (!dataTable) return;\n",
              "\n",
              "          const docLinkHtml = 'Like what you see? Visit the ' +\n",
              "            '<a target=\"_blank\" href=https://colab.research.google.com/notebooks/data_table.ipynb>data table notebook</a>'\n",
              "            + ' to learn more about interactive tables.';\n",
              "          element.innerHTML = '';\n",
              "          dataTable['output_type'] = 'display_data';\n",
              "          await google.colab.output.renderOutput(dataTable, element);\n",
              "          const docLink = document.createElement('div');\n",
              "          docLink.innerHTML = docLinkHtml;\n",
              "          element.appendChild(docLink);\n",
              "        }\n",
              "      </script>\n",
              "    </div>\n",
              "  </div>\n",
              "  "
            ]
          },
          "metadata": {},
          "execution_count": 7
        }
      ]
    },
    {
      "cell_type": "code",
      "source": [
        "data_covid.isnull().any().any()"
      ],
      "metadata": {
        "id": "whDjhxneUeNG",
        "outputId": "5e5ff6f8-99ec-47f6-afe8-67cada0fb1ce",
        "colab": {
          "base_uri": "https://localhost:8080/"
        }
      },
      "execution_count": 8,
      "outputs": [
        {
          "output_type": "execute_result",
          "data": {
            "text/plain": [
              "True"
            ]
          },
          "metadata": {},
          "execution_count": 8
        }
      ]
    },
    {
      "cell_type": "code",
      "source": [
        "data_covid[['province_of_onset']] = data_covid[['province_of_onset']].fillna('ไม่ระบุ')\n",
        "datacv1 = data_covid[['province_of_onset']]\n",
        "datacv1"
      ],
      "metadata": {
        "id": "3ZQUAG4KUvmV",
        "outputId": "3bbb9f44-4629-4a7c-9cb0-cf7d0a1248e8",
        "colab": {
          "base_uri": "https://localhost:8080/",
          "height": 424
        }
      },
      "execution_count": 9,
      "outputs": [
        {
          "output_type": "execute_result",
          "data": {
            "text/plain": [
              "       province_of_onset\n",
              "22311         แม่ฮ่องสอน\n",
              "22312         แม่ฮ่องสอน\n",
              "22313         แม่ฮ่องสอน\n",
              "22314         แม่ฮ่องสอน\n",
              "22315          เชียงใหม่\n",
              "...                  ...\n",
              "112375       สมุทรปราการ\n",
              "112376       สมุทรปราการ\n",
              "112377       สมุทรปราการ\n",
              "112378       สมุทรปราการ\n",
              "112379       สมุทรปราการ\n",
              "\n",
              "[90069 rows x 1 columns]"
            ],
            "text/html": [
              "\n",
              "  <div id=\"df-326c2310-0c8c-4872-9be7-97d48e303629\">\n",
              "    <div class=\"colab-df-container\">\n",
              "      <div>\n",
              "<style scoped>\n",
              "    .dataframe tbody tr th:only-of-type {\n",
              "        vertical-align: middle;\n",
              "    }\n",
              "\n",
              "    .dataframe tbody tr th {\n",
              "        vertical-align: top;\n",
              "    }\n",
              "\n",
              "    .dataframe thead th {\n",
              "        text-align: right;\n",
              "    }\n",
              "</style>\n",
              "<table border=\"1\" class=\"dataframe\">\n",
              "  <thead>\n",
              "    <tr style=\"text-align: right;\">\n",
              "      <th></th>\n",
              "      <th>province_of_onset</th>\n",
              "    </tr>\n",
              "  </thead>\n",
              "  <tbody>\n",
              "    <tr>\n",
              "      <th>22311</th>\n",
              "      <td>แม่ฮ่องสอน</td>\n",
              "    </tr>\n",
              "    <tr>\n",
              "      <th>22312</th>\n",
              "      <td>แม่ฮ่องสอน</td>\n",
              "    </tr>\n",
              "    <tr>\n",
              "      <th>22313</th>\n",
              "      <td>แม่ฮ่องสอน</td>\n",
              "    </tr>\n",
              "    <tr>\n",
              "      <th>22314</th>\n",
              "      <td>แม่ฮ่องสอน</td>\n",
              "    </tr>\n",
              "    <tr>\n",
              "      <th>22315</th>\n",
              "      <td>เชียงใหม่</td>\n",
              "    </tr>\n",
              "    <tr>\n",
              "      <th>...</th>\n",
              "      <td>...</td>\n",
              "    </tr>\n",
              "    <tr>\n",
              "      <th>112375</th>\n",
              "      <td>สมุทรปราการ</td>\n",
              "    </tr>\n",
              "    <tr>\n",
              "      <th>112376</th>\n",
              "      <td>สมุทรปราการ</td>\n",
              "    </tr>\n",
              "    <tr>\n",
              "      <th>112377</th>\n",
              "      <td>สมุทรปราการ</td>\n",
              "    </tr>\n",
              "    <tr>\n",
              "      <th>112378</th>\n",
              "      <td>สมุทรปราการ</td>\n",
              "    </tr>\n",
              "    <tr>\n",
              "      <th>112379</th>\n",
              "      <td>สมุทรปราการ</td>\n",
              "    </tr>\n",
              "  </tbody>\n",
              "</table>\n",
              "<p>90069 rows × 1 columns</p>\n",
              "</div>\n",
              "      <button class=\"colab-df-convert\" onclick=\"convertToInteractive('df-326c2310-0c8c-4872-9be7-97d48e303629')\"\n",
              "              title=\"Convert this dataframe to an interactive table.\"\n",
              "              style=\"display:none;\">\n",
              "        \n",
              "  <svg xmlns=\"http://www.w3.org/2000/svg\" height=\"24px\"viewBox=\"0 0 24 24\"\n",
              "       width=\"24px\">\n",
              "    <path d=\"M0 0h24v24H0V0z\" fill=\"none\"/>\n",
              "    <path d=\"M18.56 5.44l.94 2.06.94-2.06 2.06-.94-2.06-.94-.94-2.06-.94 2.06-2.06.94zm-11 1L8.5 8.5l.94-2.06 2.06-.94-2.06-.94L8.5 2.5l-.94 2.06-2.06.94zm10 10l.94 2.06.94-2.06 2.06-.94-2.06-.94-.94-2.06-.94 2.06-2.06.94z\"/><path d=\"M17.41 7.96l-1.37-1.37c-.4-.4-.92-.59-1.43-.59-.52 0-1.04.2-1.43.59L10.3 9.45l-7.72 7.72c-.78.78-.78 2.05 0 2.83L4 21.41c.39.39.9.59 1.41.59.51 0 1.02-.2 1.41-.59l7.78-7.78 2.81-2.81c.8-.78.8-2.07 0-2.86zM5.41 20L4 18.59l7.72-7.72 1.47 1.35L5.41 20z\"/>\n",
              "  </svg>\n",
              "      </button>\n",
              "      \n",
              "  <style>\n",
              "    .colab-df-container {\n",
              "      display:flex;\n",
              "      flex-wrap:wrap;\n",
              "      gap: 12px;\n",
              "    }\n",
              "\n",
              "    .colab-df-convert {\n",
              "      background-color: #E8F0FE;\n",
              "      border: none;\n",
              "      border-radius: 50%;\n",
              "      cursor: pointer;\n",
              "      display: none;\n",
              "      fill: #1967D2;\n",
              "      height: 32px;\n",
              "      padding: 0 0 0 0;\n",
              "      width: 32px;\n",
              "    }\n",
              "\n",
              "    .colab-df-convert:hover {\n",
              "      background-color: #E2EBFA;\n",
              "      box-shadow: 0px 1px 2px rgba(60, 64, 67, 0.3), 0px 1px 3px 1px rgba(60, 64, 67, 0.15);\n",
              "      fill: #174EA6;\n",
              "    }\n",
              "\n",
              "    [theme=dark] .colab-df-convert {\n",
              "      background-color: #3B4455;\n",
              "      fill: #D2E3FC;\n",
              "    }\n",
              "\n",
              "    [theme=dark] .colab-df-convert:hover {\n",
              "      background-color: #434B5C;\n",
              "      box-shadow: 0px 1px 3px 1px rgba(0, 0, 0, 0.15);\n",
              "      filter: drop-shadow(0px 1px 2px rgba(0, 0, 0, 0.3));\n",
              "      fill: #FFFFFF;\n",
              "    }\n",
              "  </style>\n",
              "\n",
              "      <script>\n",
              "        const buttonEl =\n",
              "          document.querySelector('#df-326c2310-0c8c-4872-9be7-97d48e303629 button.colab-df-convert');\n",
              "        buttonEl.style.display =\n",
              "          google.colab.kernel.accessAllowed ? 'block' : 'none';\n",
              "\n",
              "        async function convertToInteractive(key) {\n",
              "          const element = document.querySelector('#df-326c2310-0c8c-4872-9be7-97d48e303629');\n",
              "          const dataTable =\n",
              "            await google.colab.kernel.invokeFunction('convertToInteractive',\n",
              "                                                     [key], {});\n",
              "          if (!dataTable) return;\n",
              "\n",
              "          const docLinkHtml = 'Like what you see? Visit the ' +\n",
              "            '<a target=\"_blank\" href=https://colab.research.google.com/notebooks/data_table.ipynb>data table notebook</a>'\n",
              "            + ' to learn more about interactive tables.';\n",
              "          element.innerHTML = '';\n",
              "          dataTable['output_type'] = 'display_data';\n",
              "          await google.colab.output.renderOutput(dataTable, element);\n",
              "          const docLink = document.createElement('div');\n",
              "          docLink.innerHTML = docLinkHtml;\n",
              "          element.appendChild(docLink);\n",
              "        }\n",
              "      </script>\n",
              "    </div>\n",
              "  </div>\n",
              "  "
            ]
          },
          "metadata": {},
          "execution_count": 9
        }
      ]
    },
    {
      "cell_type": "code",
      "source": [
        "datacv1.isnull().any().any()"
      ],
      "metadata": {
        "id": "0l0yfvsGVny8",
        "outputId": "caea8fb4-aa55-403d-bab8-b45d96221727",
        "colab": {
          "base_uri": "https://localhost:8080/"
        }
      },
      "execution_count": 10,
      "outputs": [
        {
          "output_type": "execute_result",
          "data": {
            "text/plain": [
              "False"
            ]
          },
          "metadata": {},
          "execution_count": 10
        }
      ]
    },
    {
      "cell_type": "code",
      "source": [
        "set(datacv1['province_of_onset'])"
      ],
      "metadata": {
        "id": "JqcDrEWDV3H6",
        "outputId": "ff286d61-459f-4cf2-ee86-796393ec3e66",
        "colab": {
          "base_uri": "https://localhost:8080/"
        }
      },
      "execution_count": 11,
      "outputs": [
        {
          "output_type": "execute_result",
          "data": {
            "text/plain": [
              "{'กระบี่',\n",
              " 'กรุงเทพมหานคร',\n",
              " 'กรุงเทพมหานคร.',\n",
              " 'กาญจนบุรี',\n",
              " 'กาฬสินธุ์',\n",
              " 'กำแพงเพชร',\n",
              " 'กำแพงเพชร\\xa0',\n",
              " 'ขอนแก่น',\n",
              " 'ขานุวรลักษณ์บุรี',\n",
              " 'จันทบุรี',\n",
              " 'ฉะเชิงเทรา',\n",
              " 'ชลบุรี',\n",
              " 'ชลบุรี\\xa0',\n",
              " 'ชัยนาท',\n",
              " 'ชัยภูมิ',\n",
              " 'ชุมพร',\n",
              " 'ตรัง',\n",
              " 'ตราด',\n",
              " 'ตราด\\xa0',\n",
              " 'ตาก',\n",
              " 'นครนายก',\n",
              " 'นครปฐม',\n",
              " 'นครปฐม\\xa0',\n",
              " 'นครพนม',\n",
              " 'นครยายก',\n",
              " 'นครราชศรีมา',\n",
              " 'นครราชสีมา',\n",
              " 'นครราชสีมา\\xa0',\n",
              " 'นครศรีธรรมราช',\n",
              " 'นครสวรรค์',\n",
              " 'นครสวรรค์\\xa0',\n",
              " 'นนทบุรี',\n",
              " 'นราธิวาส',\n",
              " 'นอกเขต',\n",
              " 'น่าน',\n",
              " 'บึงกาฬ',\n",
              " 'บุรีรัมย์',\n",
              " 'บุรีรัมย์\\xa0',\n",
              " 'ปทุมธานี',\n",
              " 'ปทุมธานี\\xa0',\n",
              " 'ปธุมธานี',\n",
              " 'ประจวบคีรีขันธ์',\n",
              " 'ปราจีนบุรี',\n",
              " 'ปัตตนรี',\n",
              " 'ปัตตานี',\n",
              " 'พระนครศรีอยุธยา',\n",
              " 'พะเยา',\n",
              " 'พังงา',\n",
              " 'พัทลุง',\n",
              " 'พิจิตร',\n",
              " 'พิษณุโลก',\n",
              " 'พิษณุโลก\\xa0',\n",
              " 'ภูเก็ต',\n",
              " 'มหาสารคาม',\n",
              " 'มุกดาหาร',\n",
              " 'ยะลา',\n",
              " 'ยโสธร',\n",
              " 'ระนอง',\n",
              " 'ระยอง',\n",
              " 'ราชบุรี',\n",
              " 'ร้อยเอ็ด',\n",
              " 'ลพบุรี',\n",
              " 'ลพบุรี\\xa0',\n",
              " 'ลำปาง',\n",
              " 'ลำพูน',\n",
              " 'ศรีสะเกษ',\n",
              " 'สกลนคร',\n",
              " 'สงขลา',\n",
              " 'สตูล',\n",
              " 'สมุทรปราการ',\n",
              " 'สมุทรปราการ\\xa0',\n",
              " 'สมุทรสงคราม',\n",
              " 'สมุทรสาคร',\n",
              " 'สมุทสาคร',\n",
              " 'สระบุรี',\n",
              " 'สระแก้ว',\n",
              " 'สิงห์บุรี',\n",
              " 'สุพรรณบุรี',\n",
              " 'สุราษฎร์ธานี',\n",
              " 'สุราษฏร์ธานี',\n",
              " 'สุรินทร์',\n",
              " 'สุโขทัย',\n",
              " 'สุโขทัย\\xa0',\n",
              " 'หนองคาย',\n",
              " 'หนองบัวลำภู',\n",
              " 'อยุทธยา',\n",
              " 'อยุธยา',\n",
              " 'อำนาจเจริญ',\n",
              " 'อุดรธานี',\n",
              " 'อุดรธานี\\xa0',\n",
              " 'อุตรดิตถ์',\n",
              " 'อุตรดิตถ์์',\n",
              " 'อุทัยธานี',\n",
              " 'อุบลราชธานี',\n",
              " 'อุบลราชธานี\\xa0',\n",
              " 'อ่างทอง',\n",
              " 'เชิงเทรา',\n",
              " 'เชียงราย',\n",
              " 'เชียงใหม่',\n",
              " 'เพชรบุรี',\n",
              " 'เพชรบูรณ์',\n",
              " 'เพชรบูรณ์\\xa0',\n",
              " 'เลย',\n",
              " 'แพร่',\n",
              " 'แม่ฮ่องสอน',\n",
              " 'ไม่ระบุ'}"
            ]
          },
          "metadata": {},
          "execution_count": 11
        }
      ]
    },
    {
      "cell_type": "code",
      "source": [
        "datacv1['province_of_onset'].replace({'กรุงเทพมหานคร.' : 'กรุงเทพมหานคร', \n",
        "                                                    'กำแพงเพชร\\xa0' : 'กำแพงเพชร', 'ขานุวรลักษณ์บุรี' : 'ไม่ระบุ',\n",
        "                                                    'ชลบุรี\\xa0' : 'ชลบุรี', 'ตราด\\xa0' : 'ตราด',\n",
        "                                                    'นครปฐม\\xa0' : 'นครปฐม', 'นครราชสีมา\\xa0' : 'นครราชสีมา',\n",
        "                                                    'นครสวรรค์\\xa0' : 'นครสวรรค์', 'นอกเขต' : 'ไม่ระบุ',\n",
        "                                                    'บุรีรัมย์\\xa0' : 'บุรีรัมย์', 'ปทุมธานี\\xa0' : 'ปทุมธานี',\n",
        "                                                    'ปธุมธานี' : 'ปทุมธานี', 'ปัตตนรี' : 'ปัตตานี',\n",
        "                                                    'พิษณุโลก\\xa0' : 'พิษณุโลก', 'ลพบุรี\\xa0' : 'พิษณุโลก',\n",
        "                                                    'ลพบุรี\\xa0' : 'ลพบุรี', 'สมุทรปราการ\\xa0' : 'สมุทรปราการ',\n",
        "                                                    'สมุทสาคร' : 'สมุทรสาคร', 'สุราษฏร์ธานี' : 'สุราษฎร์ธานี',\n",
        "                                                    'สุโขทัย\\xa0' : 'สุโขทัย', 'อยุทธยา' : 'อยุธยา',\n",
        "                                                    'อุดรธานี\\xa0' : 'อุดรธานี', 'อุตรดิตถ์์' : 'อุตรดิตถ์',\n",
        "                                                    'อุบลราชธานี\\xa0' : 'อุบลราชธานี', 'เชิงเทรา' : 'ฉะเชิงเทรา',\n",
        "                                                    'เพชรบูรณ์\\xa0' : 'เพชรบูรณ์', 'นครยายก' : 'นครนายก',\n",
        "                                                    'นครราชศรีมา' : 'นครราชสีมา', 'อยุธยา' : 'พระนครศรีอยุธยา'},inplace = True)"
      ],
      "metadata": {
        "id": "fvddwvHRWrJs",
        "outputId": "d295d639-f9b9-417c-99bb-81fa39c3c59c",
        "colab": {
          "base_uri": "https://localhost:8080/"
        }
      },
      "execution_count": null,
      "outputs": [
        {
          "output_type": "stream",
          "name": "stderr",
          "text": [
            "/usr/local/lib/python3.7/dist-packages/pandas/core/generic.py:6619: SettingWithCopyWarning: \n",
            "A value is trying to be set on a copy of a slice from a DataFrame\n",
            "\n",
            "See the caveats in the documentation: https://pandas.pydata.org/pandas-docs/stable/user_guide/indexing.html#returning-a-view-versus-a-copy\n",
            "  return self._update_inplace(result)\n"
          ]
        }
      ]
    },
    {
      "cell_type": "code",
      "source": [
        "set(datacv1['province_of_onset'])"
      ],
      "metadata": {
        "id": "slynWNIGrLT9",
        "outputId": "e6bcf032-bee5-486c-a11f-df6143579fa8",
        "colab": {
          "base_uri": "https://localhost:8080/"
        }
      },
      "execution_count": null,
      "outputs": [
        {
          "output_type": "execute_result",
          "data": {
            "text/plain": [
              "{'กระบี่',\n",
              " 'กรุงเทพมหานคร',\n",
              " 'กาญจนบุรี',\n",
              " 'กาฬสินธุ์',\n",
              " 'กำแพงเพชร',\n",
              " 'ขอนแก่น',\n",
              " 'จันทบุรี',\n",
              " 'ฉะเชิงเทรา',\n",
              " 'ชลบุรี',\n",
              " 'ชัยนาท',\n",
              " 'ชัยภูมิ',\n",
              " 'ชุมพร',\n",
              " 'ตรัง',\n",
              " 'ตราด',\n",
              " 'ตาก',\n",
              " 'นครนายก',\n",
              " 'นครปฐม',\n",
              " 'นครพนม',\n",
              " 'นครราชสีมา',\n",
              " 'นครศรีธรรมราช',\n",
              " 'นครสวรรค์',\n",
              " 'นนทบุรี',\n",
              " 'นราธิวาส',\n",
              " 'น่าน',\n",
              " 'บึงกาฬ',\n",
              " 'บุรีรัมย์',\n",
              " 'ปทุมธานี',\n",
              " 'ประจวบคีรีขันธ์',\n",
              " 'ปราจีนบุรี',\n",
              " 'ปัตตานี',\n",
              " 'พระนครศรีอยุธยา',\n",
              " 'พะเยา',\n",
              " 'พังงา',\n",
              " 'พัทลุง',\n",
              " 'พิจิตร',\n",
              " 'พิษณุโลก',\n",
              " 'ภูเก็ต',\n",
              " 'มหาสารคาม',\n",
              " 'มุกดาหาร',\n",
              " 'ยะลา',\n",
              " 'ยโสธร',\n",
              " 'ระนอง',\n",
              " 'ระยอง',\n",
              " 'ราชบุรี',\n",
              " 'ร้อยเอ็ด',\n",
              " 'ลพบุรี',\n",
              " 'ลำปาง',\n",
              " 'ลำพูน',\n",
              " 'ศรีสะเกษ',\n",
              " 'สกลนคร',\n",
              " 'สงขลา',\n",
              " 'สตูล',\n",
              " 'สมุทรปราการ',\n",
              " 'สมุทรสงคราม',\n",
              " 'สมุทรสาคร',\n",
              " 'สระบุรี',\n",
              " 'สระแก้ว',\n",
              " 'สิงห์บุรี',\n",
              " 'สุพรรณบุรี',\n",
              " 'สุราษฎร์ธานี',\n",
              " 'สุรินทร์',\n",
              " 'สุโขทัย',\n",
              " 'หนองคาย',\n",
              " 'หนองบัวลำภู',\n",
              " 'อำนาจเจริญ',\n",
              " 'อุดรธานี',\n",
              " 'อุตรดิตถ์',\n",
              " 'อุทัยธานี',\n",
              " 'อุบลราชธานี',\n",
              " 'อ่างทอง',\n",
              " 'เชียงราย',\n",
              " 'เชียงใหม่',\n",
              " 'เพชรบุรี',\n",
              " 'เพชรบูรณ์',\n",
              " 'เลย',\n",
              " 'แพร่',\n",
              " 'แม่ฮ่องสอน',\n",
              " 'ไม่ระบุ'}"
            ]
          },
          "metadata": {},
          "execution_count": 49
        }
      ]
    },
    {
      "cell_type": "code",
      "source": [
        "datacv1 "
      ],
      "metadata": {
        "id": "Dzu3VE3Hr06T",
        "outputId": "e7516580-cb9c-4dd0-9722-9504911fd6ce",
        "colab": {
          "base_uri": "https://localhost:8080/",
          "height": 424
        }
      },
      "execution_count": 12,
      "outputs": [
        {
          "output_type": "execute_result",
          "data": {
            "text/plain": [
              "       province_of_onset\n",
              "22311         แม่ฮ่องสอน\n",
              "22312         แม่ฮ่องสอน\n",
              "22313         แม่ฮ่องสอน\n",
              "22314         แม่ฮ่องสอน\n",
              "22315          เชียงใหม่\n",
              "...                  ...\n",
              "112375       สมุทรปราการ\n",
              "112376       สมุทรปราการ\n",
              "112377       สมุทรปราการ\n",
              "112378       สมุทรปราการ\n",
              "112379       สมุทรปราการ\n",
              "\n",
              "[90069 rows x 1 columns]"
            ],
            "text/html": [
              "\n",
              "  <div id=\"df-dac50fb7-d203-4373-a0ce-518d4a43b85f\">\n",
              "    <div class=\"colab-df-container\">\n",
              "      <div>\n",
              "<style scoped>\n",
              "    .dataframe tbody tr th:only-of-type {\n",
              "        vertical-align: middle;\n",
              "    }\n",
              "\n",
              "    .dataframe tbody tr th {\n",
              "        vertical-align: top;\n",
              "    }\n",
              "\n",
              "    .dataframe thead th {\n",
              "        text-align: right;\n",
              "    }\n",
              "</style>\n",
              "<table border=\"1\" class=\"dataframe\">\n",
              "  <thead>\n",
              "    <tr style=\"text-align: right;\">\n",
              "      <th></th>\n",
              "      <th>province_of_onset</th>\n",
              "    </tr>\n",
              "  </thead>\n",
              "  <tbody>\n",
              "    <tr>\n",
              "      <th>22311</th>\n",
              "      <td>แม่ฮ่องสอน</td>\n",
              "    </tr>\n",
              "    <tr>\n",
              "      <th>22312</th>\n",
              "      <td>แม่ฮ่องสอน</td>\n",
              "    </tr>\n",
              "    <tr>\n",
              "      <th>22313</th>\n",
              "      <td>แม่ฮ่องสอน</td>\n",
              "    </tr>\n",
              "    <tr>\n",
              "      <th>22314</th>\n",
              "      <td>แม่ฮ่องสอน</td>\n",
              "    </tr>\n",
              "    <tr>\n",
              "      <th>22315</th>\n",
              "      <td>เชียงใหม่</td>\n",
              "    </tr>\n",
              "    <tr>\n",
              "      <th>...</th>\n",
              "      <td>...</td>\n",
              "    </tr>\n",
              "    <tr>\n",
              "      <th>112375</th>\n",
              "      <td>สมุทรปราการ</td>\n",
              "    </tr>\n",
              "    <tr>\n",
              "      <th>112376</th>\n",
              "      <td>สมุทรปราการ</td>\n",
              "    </tr>\n",
              "    <tr>\n",
              "      <th>112377</th>\n",
              "      <td>สมุทรปราการ</td>\n",
              "    </tr>\n",
              "    <tr>\n",
              "      <th>112378</th>\n",
              "      <td>สมุทรปราการ</td>\n",
              "    </tr>\n",
              "    <tr>\n",
              "      <th>112379</th>\n",
              "      <td>สมุทรปราการ</td>\n",
              "    </tr>\n",
              "  </tbody>\n",
              "</table>\n",
              "<p>90069 rows × 1 columns</p>\n",
              "</div>\n",
              "      <button class=\"colab-df-convert\" onclick=\"convertToInteractive('df-dac50fb7-d203-4373-a0ce-518d4a43b85f')\"\n",
              "              title=\"Convert this dataframe to an interactive table.\"\n",
              "              style=\"display:none;\">\n",
              "        \n",
              "  <svg xmlns=\"http://www.w3.org/2000/svg\" height=\"24px\"viewBox=\"0 0 24 24\"\n",
              "       width=\"24px\">\n",
              "    <path d=\"M0 0h24v24H0V0z\" fill=\"none\"/>\n",
              "    <path d=\"M18.56 5.44l.94 2.06.94-2.06 2.06-.94-2.06-.94-.94-2.06-.94 2.06-2.06.94zm-11 1L8.5 8.5l.94-2.06 2.06-.94-2.06-.94L8.5 2.5l-.94 2.06-2.06.94zm10 10l.94 2.06.94-2.06 2.06-.94-2.06-.94-.94-2.06-.94 2.06-2.06.94z\"/><path d=\"M17.41 7.96l-1.37-1.37c-.4-.4-.92-.59-1.43-.59-.52 0-1.04.2-1.43.59L10.3 9.45l-7.72 7.72c-.78.78-.78 2.05 0 2.83L4 21.41c.39.39.9.59 1.41.59.51 0 1.02-.2 1.41-.59l7.78-7.78 2.81-2.81c.8-.78.8-2.07 0-2.86zM5.41 20L4 18.59l7.72-7.72 1.47 1.35L5.41 20z\"/>\n",
              "  </svg>\n",
              "      </button>\n",
              "      \n",
              "  <style>\n",
              "    .colab-df-container {\n",
              "      display:flex;\n",
              "      flex-wrap:wrap;\n",
              "      gap: 12px;\n",
              "    }\n",
              "\n",
              "    .colab-df-convert {\n",
              "      background-color: #E8F0FE;\n",
              "      border: none;\n",
              "      border-radius: 50%;\n",
              "      cursor: pointer;\n",
              "      display: none;\n",
              "      fill: #1967D2;\n",
              "      height: 32px;\n",
              "      padding: 0 0 0 0;\n",
              "      width: 32px;\n",
              "    }\n",
              "\n",
              "    .colab-df-convert:hover {\n",
              "      background-color: #E2EBFA;\n",
              "      box-shadow: 0px 1px 2px rgba(60, 64, 67, 0.3), 0px 1px 3px 1px rgba(60, 64, 67, 0.15);\n",
              "      fill: #174EA6;\n",
              "    }\n",
              "\n",
              "    [theme=dark] .colab-df-convert {\n",
              "      background-color: #3B4455;\n",
              "      fill: #D2E3FC;\n",
              "    }\n",
              "\n",
              "    [theme=dark] .colab-df-convert:hover {\n",
              "      background-color: #434B5C;\n",
              "      box-shadow: 0px 1px 3px 1px rgba(0, 0, 0, 0.15);\n",
              "      filter: drop-shadow(0px 1px 2px rgba(0, 0, 0, 0.3));\n",
              "      fill: #FFFFFF;\n",
              "    }\n",
              "  </style>\n",
              "\n",
              "      <script>\n",
              "        const buttonEl =\n",
              "          document.querySelector('#df-dac50fb7-d203-4373-a0ce-518d4a43b85f button.colab-df-convert');\n",
              "        buttonEl.style.display =\n",
              "          google.colab.kernel.accessAllowed ? 'block' : 'none';\n",
              "\n",
              "        async function convertToInteractive(key) {\n",
              "          const element = document.querySelector('#df-dac50fb7-d203-4373-a0ce-518d4a43b85f');\n",
              "          const dataTable =\n",
              "            await google.colab.kernel.invokeFunction('convertToInteractive',\n",
              "                                                     [key], {});\n",
              "          if (!dataTable) return;\n",
              "\n",
              "          const docLinkHtml = 'Like what you see? Visit the ' +\n",
              "            '<a target=\"_blank\" href=https://colab.research.google.com/notebooks/data_table.ipynb>data table notebook</a>'\n",
              "            + ' to learn more about interactive tables.';\n",
              "          element.innerHTML = '';\n",
              "          dataTable['output_type'] = 'display_data';\n",
              "          await google.colab.output.renderOutput(dataTable, element);\n",
              "          const docLink = document.createElement('div');\n",
              "          docLink.innerHTML = docLinkHtml;\n",
              "          element.appendChild(docLink);\n",
              "        }\n",
              "      </script>\n",
              "    </div>\n",
              "  </div>\n",
              "  "
            ]
          },
          "metadata": {},
          "execution_count": 12
        }
      ]
    },
    {
      "cell_type": "markdown",
      "source": [
        "# Spyder(radar) Chart"
      ],
      "metadata": {
        "id": "vnIFI5ybAs1U"
      }
    },
    {
      "cell_type": "code",
      "source": [
        "import numpy as np \n",
        "import pandas as pd\n",
        "\n",
        "import matplotlib.pyplot as  plt\n",
        "from math import pi"
      ],
      "metadata": {
        "id": "Op2n6344-MdQ"
      },
      "execution_count": null,
      "outputs": []
    },
    {
      "cell_type": "code",
      "source": [
        "data = {'client_id' : ['c1', 'c2', 'c3', 'c4'],\n",
        "            'Math' : [10, 5, 4, 7],\n",
        "            'Eng' : [7, 1, 3, 5],\n",
        "            'Friendly' : [4, 8, 10, 4],\n",
        "            'Look' : [4, 8, 7, 6],\n",
        "            'Money' : [2, 10, 5, 9]}\n",
        "df = pd.DataFrame.from_dict(data)\n",
        "df"
      ],
      "metadata": {
        "id": "rPMjVx49CDWl",
        "outputId": "b30ba2e2-059b-49e4-a140-9fd3657bea55",
        "colab": {
          "base_uri": "https://localhost:8080/",
          "height": 175
        }
      },
      "execution_count": null,
      "outputs": [
        {
          "output_type": "execute_result",
          "data": {
            "text/plain": [
              "  client_id  Math  Eng  Friendly  Look  Money\n",
              "0        c1    10    7         4     4      2\n",
              "1        c2     5    1         8     8     10\n",
              "2        c3     4    3        10     7      5\n",
              "3        c4     7    5         4     6      9"
            ],
            "text/html": [
              "\n",
              "  <div id=\"df-f3f760a4-fe10-47e5-bab7-658c08dfb839\">\n",
              "    <div class=\"colab-df-container\">\n",
              "      <div>\n",
              "<style scoped>\n",
              "    .dataframe tbody tr th:only-of-type {\n",
              "        vertical-align: middle;\n",
              "    }\n",
              "\n",
              "    .dataframe tbody tr th {\n",
              "        vertical-align: top;\n",
              "    }\n",
              "\n",
              "    .dataframe thead th {\n",
              "        text-align: right;\n",
              "    }\n",
              "</style>\n",
              "<table border=\"1\" class=\"dataframe\">\n",
              "  <thead>\n",
              "    <tr style=\"text-align: right;\">\n",
              "      <th></th>\n",
              "      <th>client_id</th>\n",
              "      <th>Math</th>\n",
              "      <th>Eng</th>\n",
              "      <th>Friendly</th>\n",
              "      <th>Look</th>\n",
              "      <th>Money</th>\n",
              "    </tr>\n",
              "  </thead>\n",
              "  <tbody>\n",
              "    <tr>\n",
              "      <th>0</th>\n",
              "      <td>c1</td>\n",
              "      <td>10</td>\n",
              "      <td>7</td>\n",
              "      <td>4</td>\n",
              "      <td>4</td>\n",
              "      <td>2</td>\n",
              "    </tr>\n",
              "    <tr>\n",
              "      <th>1</th>\n",
              "      <td>c2</td>\n",
              "      <td>5</td>\n",
              "      <td>1</td>\n",
              "      <td>8</td>\n",
              "      <td>8</td>\n",
              "      <td>10</td>\n",
              "    </tr>\n",
              "    <tr>\n",
              "      <th>2</th>\n",
              "      <td>c3</td>\n",
              "      <td>4</td>\n",
              "      <td>3</td>\n",
              "      <td>10</td>\n",
              "      <td>7</td>\n",
              "      <td>5</td>\n",
              "    </tr>\n",
              "    <tr>\n",
              "      <th>3</th>\n",
              "      <td>c4</td>\n",
              "      <td>7</td>\n",
              "      <td>5</td>\n",
              "      <td>4</td>\n",
              "      <td>6</td>\n",
              "      <td>9</td>\n",
              "    </tr>\n",
              "  </tbody>\n",
              "</table>\n",
              "</div>\n",
              "      <button class=\"colab-df-convert\" onclick=\"convertToInteractive('df-f3f760a4-fe10-47e5-bab7-658c08dfb839')\"\n",
              "              title=\"Convert this dataframe to an interactive table.\"\n",
              "              style=\"display:none;\">\n",
              "        \n",
              "  <svg xmlns=\"http://www.w3.org/2000/svg\" height=\"24px\"viewBox=\"0 0 24 24\"\n",
              "       width=\"24px\">\n",
              "    <path d=\"M0 0h24v24H0V0z\" fill=\"none\"/>\n",
              "    <path d=\"M18.56 5.44l.94 2.06.94-2.06 2.06-.94-2.06-.94-.94-2.06-.94 2.06-2.06.94zm-11 1L8.5 8.5l.94-2.06 2.06-.94-2.06-.94L8.5 2.5l-.94 2.06-2.06.94zm10 10l.94 2.06.94-2.06 2.06-.94-2.06-.94-.94-2.06-.94 2.06-2.06.94z\"/><path d=\"M17.41 7.96l-1.37-1.37c-.4-.4-.92-.59-1.43-.59-.52 0-1.04.2-1.43.59L10.3 9.45l-7.72 7.72c-.78.78-.78 2.05 0 2.83L4 21.41c.39.39.9.59 1.41.59.51 0 1.02-.2 1.41-.59l7.78-7.78 2.81-2.81c.8-.78.8-2.07 0-2.86zM5.41 20L4 18.59l7.72-7.72 1.47 1.35L5.41 20z\"/>\n",
              "  </svg>\n",
              "      </button>\n",
              "      \n",
              "  <style>\n",
              "    .colab-df-container {\n",
              "      display:flex;\n",
              "      flex-wrap:wrap;\n",
              "      gap: 12px;\n",
              "    }\n",
              "\n",
              "    .colab-df-convert {\n",
              "      background-color: #E8F0FE;\n",
              "      border: none;\n",
              "      border-radius: 50%;\n",
              "      cursor: pointer;\n",
              "      display: none;\n",
              "      fill: #1967D2;\n",
              "      height: 32px;\n",
              "      padding: 0 0 0 0;\n",
              "      width: 32px;\n",
              "    }\n",
              "\n",
              "    .colab-df-convert:hover {\n",
              "      background-color: #E2EBFA;\n",
              "      box-shadow: 0px 1px 2px rgba(60, 64, 67, 0.3), 0px 1px 3px 1px rgba(60, 64, 67, 0.15);\n",
              "      fill: #174EA6;\n",
              "    }\n",
              "\n",
              "    [theme=dark] .colab-df-convert {\n",
              "      background-color: #3B4455;\n",
              "      fill: #D2E3FC;\n",
              "    }\n",
              "\n",
              "    [theme=dark] .colab-df-convert:hover {\n",
              "      background-color: #434B5C;\n",
              "      box-shadow: 0px 1px 3px 1px rgba(0, 0, 0, 0.15);\n",
              "      filter: drop-shadow(0px 1px 2px rgba(0, 0, 0, 0.3));\n",
              "      fill: #FFFFFF;\n",
              "    }\n",
              "  </style>\n",
              "\n",
              "      <script>\n",
              "        const buttonEl =\n",
              "          document.querySelector('#df-f3f760a4-fe10-47e5-bab7-658c08dfb839 button.colab-df-convert');\n",
              "        buttonEl.style.display =\n",
              "          google.colab.kernel.accessAllowed ? 'block' : 'none';\n",
              "\n",
              "        async function convertToInteractive(key) {\n",
              "          const element = document.querySelector('#df-f3f760a4-fe10-47e5-bab7-658c08dfb839');\n",
              "          const dataTable =\n",
              "            await google.colab.kernel.invokeFunction('convertToInteractive',\n",
              "                                                     [key], {});\n",
              "          if (!dataTable) return;\n",
              "\n",
              "          const docLinkHtml = 'Like what you see? Visit the ' +\n",
              "            '<a target=\"_blank\" href=https://colab.research.google.com/notebooks/data_table.ipynb>data table notebook</a>'\n",
              "            + ' to learn more about interactive tables.';\n",
              "          element.innerHTML = '';\n",
              "          dataTable['output_type'] = 'display_data';\n",
              "          await google.colab.output.renderOutput(dataTable, element);\n",
              "          const docLink = document.createElement('div');\n",
              "          docLink.innerHTML = docLinkHtml;\n",
              "          element.appendChild(docLink);\n",
              "        }\n",
              "      </script>\n",
              "    </div>\n",
              "  </div>\n",
              "  "
            ]
          },
          "metadata": {},
          "execution_count": 49
        }
      ]
    },
    {
      "cell_type": "code",
      "source": [
        "categories = list(df.columns[1 :])\n",
        "categories"
      ],
      "metadata": {
        "id": "othEr4AkDBQr",
        "outputId": "69f1d050-ae6a-4f67-9b77-292c54d813a8",
        "colab": {
          "base_uri": "https://localhost:8080/"
        }
      },
      "execution_count": null,
      "outputs": [
        {
          "output_type": "execute_result",
          "data": {
            "text/plain": [
              "['Math', 'Eng', 'Friendly', 'Look', 'Money']"
            ]
          },
          "metadata": {},
          "execution_count": 53
        }
      ]
    },
    {
      "cell_type": "markdown",
      "source": [
        "## plot ค่า mean"
      ],
      "metadata": {
        "id": "t-cA-Vl-HBLc"
      }
    },
    {
      "cell_type": "code",
      "source": [
        "values = df.mean().values.flatten().tolist()\n",
        "values += values[:1] # repeat the first value to close the circular graph\n",
        "angles = [n / float(len(categories)) * 2 * pi for n in range(len(categories))]\n",
        "angles += angles[:1]"
      ],
      "metadata": {
        "id": "Xzr5F1wSDP01",
        "outputId": "a0505701-7df6-4e21-8728-a4cc6feca924",
        "colab": {
          "base_uri": "https://localhost:8080/"
        }
      },
      "execution_count": null,
      "outputs": [
        {
          "output_type": "stream",
          "name": "stderr",
          "text": [
            "/usr/local/lib/python3.7/dist-packages/ipykernel_launcher.py:1: FutureWarning: Dropping of nuisance columns in DataFrame reductions (with 'numeric_only=None') is deprecated; in a future version this will raise TypeError.  Select only valid columns before calling the reduction.\n",
            "  \"\"\"Entry point for launching an IPython kernel.\n"
          ]
        }
      ]
    },
    {
      "cell_type": "code",
      "source": [
        "fig, ax = plt.subplots(nrows=1, ncols=1, figsize=(8, 8),\n",
        "                       subplot_kw=dict(polar=True))\n",
        "\n",
        "plt.xticks(angles[:-1], categories, color='grey', size=12)\n",
        "plt.yticks(np.arange(1, 10), ['1', '2', '3', '4', '5','6','7','8','9','10'],\n",
        "           color='grey', size=12)\n",
        "\n",
        "plt.ylim(0, 10)\n",
        "ax.set_rlabel_position(30)\n",
        "\n",
        "ax.plot(angles, values, linewidth=1, linestyle='solid' , color = '#ea3033') #เส้นกราฟ\n",
        "ax.fill(angles, values, 'lightpink', alpha=0.5) #พื้นที่"
      ],
      "metadata": {
        "id": "cKiEnM4lHb1u",
        "outputId": "066b6140-e4af-4f12-a77c-3a892551363c",
        "colab": {
          "base_uri": "https://localhost:8080/",
          "height": 501
        }
      },
      "execution_count": null,
      "outputs": [
        {
          "output_type": "execute_result",
          "data": {
            "text/plain": [
              "[<matplotlib.patches.Polygon at 0x7fabfaa0cfd0>]"
            ]
          },
          "metadata": {},
          "execution_count": 55
        },
        {
          "output_type": "display_data",
          "data": {
            "text/plain": [
              "<Figure size 576x576 with 1 Axes>"
            ],
            "image/png": "[encoded data removed]"
          },
          "metadata": {
            "needs_background": "dark"
          }
        }
      ]
    },
    {
      "cell_type": "markdown",
      "source": [
        "## Plot แต่ละคน"
      ],
      "metadata": {
        "id": "1vNLMzOhHiPu"
      }
    },
    {
      "cell_type": "code",
      "source": [
        "# คำนวณมุมของแต่ละคุณสมบัติ\n",
        "angles = [n / float(len(categories)) * 2 * pi for n in range(len(categories))] ## เปลี่ยน len(categories) เป็นจำนวนคุณสมบัติที่จะ plot\n",
        "angles += angles[:1]\n",
        "\n",
        "# สร้าง background graph\n",
        "fig, ax = plt.subplots(nrows=1, ncols=1, figsize=(8, 8),\n",
        "                       subplot_kw=dict(polar=True))\n",
        "\n",
        "plt.xticks(angles[:-1], categories, color='grey', size=12)\n",
        "plt.yticks(np.arange(1, 10), ['1', '2', '3', '4', '5','6','7','8','9','10'],    ## กำหนด scale ของค่าที่ต้องการแสดง\n",
        "           color='grey', size=12)\n",
        "\n",
        "plt.ylim(0, 10)\n",
        "ax.set_rlabel_position(30)\n",
        "\n",
        "# plot คนที่ 1\n",
        "val_c1 = df.loc[0].drop('client_id').values.flatten().tolist()    ## เลือกค่าที่ต้องการแสดง\n",
        "val_c1 += val_c1[:1]\n",
        "ax.plot(angles, val_c1, linewidth=1,\n",
        "        linestyle='solid', label='Person1')\n",
        "ax.fill(angles, val_c1, 'skyblue', alpha=0.4)     ## เลือกสี\n",
        "\n",
        "# plot คนที่ 2\n",
        "val_c2 = df.loc[1].drop('client_id').values.flatten().tolist()   ## เลือกค่าที่ต้องการแสดง\n",
        "val_c2 += val_c2[:1]\n",
        "ax.plot(angles, val_c2, linewidth=1,\n",
        "        linestyle='solid', label='Person2')\n",
        "ax.fill(angles, val_c2, 'lightpink', alpha=0.4)   ## เลือกสี\n",
        "\n",
        "ax.legend();"
      ],
      "metadata": {
        "id": "s5aS-rWAHh2-",
        "outputId": "af384ac2-e178-4ce8-ee49-d92249254498",
        "colab": {
          "base_uri": "https://localhost:8080/",
          "height": 484
        }
      },
      "execution_count": null,
      "outputs": [
        {
          "output_type": "display_data",
          "data": {
            "text/plain": [
              "<Figure size 576x576 with 1 Axes>"
            ],
            "image/png": "[encoded data removed]"
          },
          "metadata": {
            "needs_background": "dark"
          }
        }
      ]
    },
    {
      "cell_type": "code",
      "source": [
        "# คำนวณมุมของแต่ละคุณสมบัติ\n",
        "angles = [n / float(len(categories)) * 2 * pi for n in range(len(categories))] ## เปลี่ยน len(categories) เป็นจำนวนคุณสมบัติที่จะ plot\n",
        "angles += angles[:1]\n",
        "\n",
        "# สร้าง background graph\n",
        "fig, ax = plt.subplots(nrows=1, ncols=1, figsize=(8, 8),\n",
        "                       subplot_kw=dict(polar=True))\n",
        "\n",
        "plt.xticks(angles[:-1], categories, color='grey', size=12)\n",
        "plt.yticks(np.arange(1, 10), ['1', '2', '3', '4', '5','6','7','8','9','10'],    ## กำหนด scale ของค่าที่ต้องการแสดง\n",
        "           color='grey', size=12)\n",
        "\n",
        "plt.ylim(0, 10)\n",
        "ax.set_rlabel_position(30)\n",
        "\n",
        "# plot คนที่ 1\n",
        "val_c1 = df.loc[0].drop('client_id').values.flatten().tolist()    ## เลือกค่าที่ต้องการแสดง\n",
        "val_c1 += val_c1[:1]\n",
        "ax.plot(angles, val_c1, linewidth=1,\n",
        "        linestyle='solid', label='Person1')\n",
        "ax.fill(angles, val_c1, 'skyblue', alpha=0.4)     ## เลือกสี\n",
        "\n",
        "# plot คนที่ 2\n",
        "val_c2 = df.loc[1].drop('client_id').values.flatten().tolist()   ## เลือกค่าที่ต้องการแสดง\n",
        "val_c2 += val_c2[:1]\n",
        "ax.plot(angles, val_c2, linewidth=1,\n",
        "        linestyle='solid', label='Person2')\n",
        "ax.fill(angles, val_c2, 'lightpink', alpha=0.4)   ## เลือกสี\n",
        "\n",
        "# plot ค่าเฉลี่ย\n",
        "values = df.mean().values.flatten().tolist()    ## เลือกค่าที่ต้องการแสดง\n",
        "values += values[:1] \n",
        "ax.plot(angles, values, linewidth=1, linestyle='solid' , color = 'g', label='Average Values') \n",
        "ax.fill(angles, values, 'lightgreen', alpha=0.5)    ## เลือกสี\n",
        "\n",
        "ax.legend();"
      ],
      "metadata": {
        "id": "S-CGPoZtHraO",
        "outputId": "c8136624-b6a6-48ff-aec4-054bb03ee19d",
        "colab": {
          "base_uri": "https://localhost:8080/",
          "height": 521
        }
      },
      "execution_count": null,
      "outputs": [
        {
          "output_type": "stream",
          "name": "stderr",
          "text": [
            "/usr/local/lib/python3.7/dist-packages/ipykernel_launcher.py:31: FutureWarning: Dropping of nuisance columns in DataFrame reductions (with 'numeric_only=None') is deprecated; in a future version this will raise TypeError.  Select only valid columns before calling the reduction.\n"
          ]
        },
        {
          "output_type": "display_data",
          "data": {
            "text/plain": [
              "<Figure size 576x576 with 1 Axes>"
            ],
            "image/png": "[encoded data removed]"
          },
          "metadata": {
            "needs_background": "dark"
          }
        }
      ]
    },
    {
      "cell_type": "code",
      "source": [
        "angles"
      ],
      "metadata": {
        "id": "9XvivdUIHyeo",
        "outputId": "6a7c8134-7f34-4841-ff20-08471591a5ba",
        "colab": {
          "base_uri": "https://localhost:8080/"
        }
      },
      "execution_count": null,
      "outputs": [
        {
          "output_type": "execute_result",
          "data": {
            "text/plain": [
              "[0.0,\n",
              " 1.2566370614359172,\n",
              " 2.5132741228718345,\n",
              " 3.7699111843077517,\n",
              " 5.026548245743669,\n",
              " 0.0]"
            ]
          },
          "metadata": {},
          "execution_count": 58
        }
      ]
    },
    {
      "cell_type": "code",
      "source": [
        "val_c1"
      ],
      "metadata": {
        "id": "cuKqY2jlHz2Y",
        "outputId": "d7ad96e0-ca0e-4373-e34c-d65d441d8ae1",
        "colab": {
          "base_uri": "https://localhost:8080/"
        }
      },
      "execution_count": null,
      "outputs": [
        {
          "output_type": "execute_result",
          "data": {
            "text/plain": [
              "[10, 7, 4, 4, 2, 10]"
            ]
          },
          "metadata": {},
          "execution_count": 59
        }
      ]
    }
  ]
}